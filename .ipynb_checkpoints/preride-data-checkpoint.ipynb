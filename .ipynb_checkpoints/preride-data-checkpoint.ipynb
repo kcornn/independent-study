{
 "cells": [
  {
   "cell_type": "code",
   "execution_count": 119,
   "metadata": {},
   "outputs": [],
   "source": [
    "import pandas as pd\n",
    "import numpy as np"
   ]
  },
  {
   "cell_type": "code",
   "execution_count": 120,
   "metadata": {},
   "outputs": [],
   "source": [
    "df = pd.read_csv(\"/Users/kalicornn/Desktop/preride_data.csv\")"
   ]
  },
  {
   "cell_type": "code",
   "execution_count": 121,
   "metadata": {},
   "outputs": [
    {
     "data": {
      "text/plain": [
       "Index(['System',\n",
       "       'Do you get motion sickness when looking at visual media (e.g., emails, videos, etc.) in cars/vehicles?',\n",
       "       'If you need to go somewhere by car, which would you prefer?',\n",
       "       'Do you use a GPS/geography-based app? If so, which do you use?',\n",
       "       'Please choose the response that best represents your view on taking a Lyft or Uber. [I am usually comfortable  being driven.]',\n",
       "       'Please choose the response that best represents your view on taking a Lyft or Uber. [I usually feel safe being driven.]',\n",
       "       'Please choose the response that best represents your view on taking a Lyft or Uber. [I usually trust the driver.]',\n",
       "       'Please choose the response that best represents your view on taking a Lyft or Uber. [I usually trust other drivers on the road.]',\n",
       "       'Have you ridden in a semi-autonomous or self-driving vehicle before?',\n",
       "       'If you have ridden in a semi-autonomous or self-driving vehicle before, please specify which (e.g., Google car, Tesla, etc). ',\n",
       "       'If you have ridden in a semi-autonomous or self-driving vehicle before, please rate your satisfaction with the experience. ',\n",
       "       'Please explain why you have chosen the above rating for your experience in the semi-autonomous or self-driving vehicle. ',\n",
       "       'Provide 5 words (adjectives) to characterize/describe a self-driving vehicle.',\n",
       "       'Please choose the response that best represents how you perceive the self-driving vehicle. (The following words are in alphabetical order.) [Capable]',\n",
       "       'Please choose the response that best represents how you perceive the self-driving vehicle. (The following words are in alphabetical order.) [Emotional]',\n",
       "       'Please choose the response that best represents how you perceive the self-driving vehicle. (The following words are in alphabetical order.) [Energetic]',\n",
       "       'Please choose the response that best represents how you perceive the self-driving vehicle. (The following words are in alphabetical order.) [Indifferent]',\n",
       "       'Please choose the response that best represents how you perceive the self-driving vehicle. (The following words are in alphabetical order.) [Methodical]',\n",
       "       'Please choose the response that best represents how you perceive the self-driving vehicle. (The following words are in alphabetical order.) [Predictable]',\n",
       "       'Please choose the response that best represents how you perceive the self-driving vehicle. (The following words are in alphabetical order.) [Reliable]',\n",
       "       'Please choose the response that best represents how you perceive the self-driving vehicle. (The following words are in alphabetical order.) [Safe]',\n",
       "       'Please choose the response that best represents how you perceive the self-driving vehicle. (The following words are in alphabetical order.) [Smart]',\n",
       "       'Please choose the response that best represents how you perceive the self-driving vehicle. (The following words are in alphabetical order.) [Trustworthy]',\n",
       "       'Please choose the response that best represents how you feel as a passenger in a self-driving vehicle. (The following words are in alphabetical order.) [Bored]',\n",
       "       'Please choose the response that best represents how you feel as a passenger in a self-driving vehicle. (The following words are in alphabetical order.) [Calm]',\n",
       "       'Please choose the response that best represents how you feel as a passenger in a self-driving vehicle. (The following words are in alphabetical order.) [Defensive]',\n",
       "       'Please choose the response that best represents how you feel as a passenger in a self-driving vehicle. (The following words are in alphabetical order.) [Excited]',\n",
       "       'Please choose the response that best represents how you feel as a passenger in a self-driving vehicle. (The following words are in alphabetical order.) [Lethargic]',\n",
       "       'Please choose the response that best represents how you feel as a passenger in a self-driving vehicle. (The following words are in alphabetical order.) [Mindless]',\n",
       "       'Please choose the response that best represents how you feel as a passenger in a self-driving vehicle. (The following words are in alphabetical order.) [Nervous]',\n",
       "       'Please choose the response that best represents how you feel as a passenger in a self-driving vehicle. (The following words are in alphabetical order.) [Not in control]',\n",
       "       'Please choose the response that best represents how you feel as a passenger in a self-driving vehicle. (The following words are in alphabetical order.) [Relaxed]',\n",
       "       'Please choose the response that best represents how you feel as a passenger in a self-driving vehicle. (The following words are in alphabetical order.) [Uncertain]',\n",
       "       'Age', 'Gender', 'Occupation',\n",
       "       'Highest level of education you have completed or currently pursuing'],\n",
       "      dtype='object')"
      ]
     },
     "execution_count": 121,
     "metadata": {},
     "output_type": "execute_result"
    }
   ],
   "source": [
    "# remove timestamp\n",
    "df = df[df.columns[1:]]\n",
    "# remove names\n",
    "df = df.drop(df.columns[33],axis=1)\n",
    "df.columns"
   ]
  },
  {
   "cell_type": "code",
   "execution_count": 122,
   "metadata": {},
   "outputs": [],
   "source": [
    "group_by_system = df.groupby(['System'])"
   ]
  },
  {
   "cell_type": "code",
   "execution_count": 123,
   "metadata": {},
   "outputs": [
    {
     "data": {
      "text/plain": [
       "System\n",
       "Julie    12\n",
       "Lily     12\n",
       "dtype: int64"
      ]
     },
     "execution_count": 123,
     "metadata": {},
     "output_type": "execute_result"
    }
   ],
   "source": [
    "group_by_system.size()"
   ]
  },
  {
   "cell_type": "code",
   "execution_count": 124,
   "metadata": {},
   "outputs": [
    {
     "data": {
      "text/html": [
       "<div>\n",
       "<style scoped>\n",
       "    .dataframe tbody tr th:only-of-type {\n",
       "        vertical-align: middle;\n",
       "    }\n",
       "\n",
       "    .dataframe tbody tr th {\n",
       "        vertical-align: top;\n",
       "    }\n",
       "\n",
       "    .dataframe thead th {\n",
       "        text-align: right;\n",
       "    }\n",
       "</style>\n",
       "<table border=\"1\" class=\"dataframe\">\n",
       "  <thead>\n",
       "    <tr style=\"text-align: right;\">\n",
       "      <th></th>\n",
       "      <th>Please choose the response that best represents your view on taking a Lyft or Uber. [I am usually comfortable  being driven.]</th>\n",
       "      <th>Please choose the response that best represents your view on taking a Lyft or Uber. [I usually feel safe being driven.]</th>\n",
       "      <th>Please choose the response that best represents your view on taking a Lyft or Uber. [I usually trust the driver.]</th>\n",
       "      <th>Please choose the response that best represents your view on taking a Lyft or Uber. [I usually trust other drivers on the road.]</th>\n",
       "    </tr>\n",
       "    <tr>\n",
       "      <th>System</th>\n",
       "      <th></th>\n",
       "      <th></th>\n",
       "      <th></th>\n",
       "      <th></th>\n",
       "    </tr>\n",
       "  </thead>\n",
       "  <tbody>\n",
       "    <tr>\n",
       "      <th>Julie</th>\n",
       "      <td>4.166667</td>\n",
       "      <td>4.000000</td>\n",
       "      <td>4.00</td>\n",
       "      <td>3.250000</td>\n",
       "    </tr>\n",
       "    <tr>\n",
       "      <th>Lily</th>\n",
       "      <td>4.166667</td>\n",
       "      <td>4.083333</td>\n",
       "      <td>3.75</td>\n",
       "      <td>2.833333</td>\n",
       "    </tr>\n",
       "  </tbody>\n",
       "</table>\n",
       "</div>"
      ],
      "text/plain": [
       "        Please choose the response that best represents your view on taking a Lyft or Uber. [I am usually comfortable  being driven.]  \\\n",
       "System                                                                                                                                  \n",
       "Julie                                            4.166667                                                                               \n",
       "Lily                                             4.166667                                                                               \n",
       "\n",
       "        Please choose the response that best represents your view on taking a Lyft or Uber. [I usually feel safe being driven.]  \\\n",
       "System                                                                                                                            \n",
       "Julie                                            4.000000                                                                         \n",
       "Lily                                             4.083333                                                                         \n",
       "\n",
       "        Please choose the response that best represents your view on taking a Lyft or Uber. [I usually trust the driver.]  \\\n",
       "System                                                                                                                      \n",
       "Julie                                                4.00                                                                   \n",
       "Lily                                                 3.75                                                                   \n",
       "\n",
       "        Please choose the response that best represents your view on taking a Lyft or Uber. [I usually trust other drivers on the road.]  \n",
       "System                                                                                                                                    \n",
       "Julie                                            3.250000                                                                                 \n",
       "Lily                                             2.833333                                                                                 "
      ]
     },
     "execution_count": 124,
     "metadata": {},
     "output_type": "execute_result"
    }
   ],
   "source": [
    "lyft_uber_views = df[df.columns[:8]]\n",
    "lyft_uber_views = lyft_uber_views.drop(lyft_uber_views.columns[1:4],axis=1)\n",
    "lyft_uber_views = lyft_uber_views.replace({'Strongly disagree':1,'Disagree':2,'Neutral':3,'Agree':4,'Strongly agree':5})\n",
    "#lyft_uber_views\n",
    "lyft_uber_views_group_by_system = lyft_uber_views.groupby(['System'])\n",
    "lyft_uber_views_group_by_system.mean()"
   ]
  },
  {
   "cell_type": "code",
   "execution_count": 125,
   "metadata": {},
   "outputs": [
    {
     "data": {
      "text/html": [
       "<div>\n",
       "<style scoped>\n",
       "    .dataframe tbody tr th:only-of-type {\n",
       "        vertical-align: middle;\n",
       "    }\n",
       "\n",
       "    .dataframe tbody tr th {\n",
       "        vertical-align: top;\n",
       "    }\n",
       "\n",
       "    .dataframe thead th {\n",
       "        text-align: right;\n",
       "    }\n",
       "</style>\n",
       "<table border=\"1\" class=\"dataframe\">\n",
       "  <thead>\n",
       "    <tr style=\"text-align: right;\">\n",
       "      <th></th>\n",
       "      <th>Please choose the response that best represents your view on taking a Lyft or Uber. [I am usually comfortable  being driven.]</th>\n",
       "      <th>Please choose the response that best represents your view on taking a Lyft or Uber. [I usually feel safe being driven.]</th>\n",
       "      <th>Please choose the response that best represents your view on taking a Lyft or Uber. [I usually trust the driver.]</th>\n",
       "      <th>Please choose the response that best represents your view on taking a Lyft or Uber. [I usually trust other drivers on the road.]</th>\n",
       "    </tr>\n",
       "    <tr>\n",
       "      <th>System</th>\n",
       "      <th></th>\n",
       "      <th></th>\n",
       "      <th></th>\n",
       "      <th></th>\n",
       "    </tr>\n",
       "  </thead>\n",
       "  <tbody>\n",
       "    <tr>\n",
       "      <th>Julie</th>\n",
       "      <td>3</td>\n",
       "      <td>3</td>\n",
       "      <td>3</td>\n",
       "      <td>2</td>\n",
       "    </tr>\n",
       "    <tr>\n",
       "      <th>Lily</th>\n",
       "      <td>3</td>\n",
       "      <td>3</td>\n",
       "      <td>3</td>\n",
       "      <td>2</td>\n",
       "    </tr>\n",
       "  </tbody>\n",
       "</table>\n",
       "</div>"
      ],
      "text/plain": [
       "        Please choose the response that best represents your view on taking a Lyft or Uber. [I am usually comfortable  being driven.]  \\\n",
       "System                                                                                                                                  \n",
       "Julie                                                   3                                                                               \n",
       "Lily                                                    3                                                                               \n",
       "\n",
       "        Please choose the response that best represents your view on taking a Lyft or Uber. [I usually feel safe being driven.]  \\\n",
       "System                                                                                                                            \n",
       "Julie                                                   3                                                                         \n",
       "Lily                                                    3                                                                         \n",
       "\n",
       "        Please choose the response that best represents your view on taking a Lyft or Uber. [I usually trust the driver.]  \\\n",
       "System                                                                                                                      \n",
       "Julie                                                   3                                                                   \n",
       "Lily                                                    3                                                                   \n",
       "\n",
       "        Please choose the response that best represents your view on taking a Lyft or Uber. [I usually trust other drivers on the road.]  \n",
       "System                                                                                                                                    \n",
       "Julie                                                   2                                                                                 \n",
       "Lily                                                    2                                                                                 "
      ]
     },
     "execution_count": 125,
     "metadata": {},
     "output_type": "execute_result"
    }
   ],
   "source": [
    "lyft_uber_views_group_by_system.min()"
   ]
  },
  {
   "cell_type": "code",
   "execution_count": 126,
   "metadata": {},
   "outputs": [
    {
     "data": {
      "text/html": [
       "<div>\n",
       "<style scoped>\n",
       "    .dataframe tbody tr th:only-of-type {\n",
       "        vertical-align: middle;\n",
       "    }\n",
       "\n",
       "    .dataframe tbody tr th {\n",
       "        vertical-align: top;\n",
       "    }\n",
       "\n",
       "    .dataframe thead th {\n",
       "        text-align: right;\n",
       "    }\n",
       "</style>\n",
       "<table border=\"1\" class=\"dataframe\">\n",
       "  <thead>\n",
       "    <tr style=\"text-align: right;\">\n",
       "      <th></th>\n",
       "      <th>Please choose the response that best represents your view on taking a Lyft or Uber. [I am usually comfortable  being driven.]</th>\n",
       "      <th>Please choose the response that best represents your view on taking a Lyft or Uber. [I usually feel safe being driven.]</th>\n",
       "      <th>Please choose the response that best represents your view on taking a Lyft or Uber. [I usually trust the driver.]</th>\n",
       "      <th>Please choose the response that best represents your view on taking a Lyft or Uber. [I usually trust other drivers on the road.]</th>\n",
       "    </tr>\n",
       "    <tr>\n",
       "      <th>System</th>\n",
       "      <th></th>\n",
       "      <th></th>\n",
       "      <th></th>\n",
       "      <th></th>\n",
       "    </tr>\n",
       "  </thead>\n",
       "  <tbody>\n",
       "    <tr>\n",
       "      <th>Julie</th>\n",
       "      <td>5</td>\n",
       "      <td>5</td>\n",
       "      <td>5</td>\n",
       "      <td>4</td>\n",
       "    </tr>\n",
       "    <tr>\n",
       "      <th>Lily</th>\n",
       "      <td>5</td>\n",
       "      <td>5</td>\n",
       "      <td>5</td>\n",
       "      <td>4</td>\n",
       "    </tr>\n",
       "  </tbody>\n",
       "</table>\n",
       "</div>"
      ],
      "text/plain": [
       "        Please choose the response that best represents your view on taking a Lyft or Uber. [I am usually comfortable  being driven.]  \\\n",
       "System                                                                                                                                  \n",
       "Julie                                                   5                                                                               \n",
       "Lily                                                    5                                                                               \n",
       "\n",
       "        Please choose the response that best represents your view on taking a Lyft or Uber. [I usually feel safe being driven.]  \\\n",
       "System                                                                                                                            \n",
       "Julie                                                   5                                                                         \n",
       "Lily                                                    5                                                                         \n",
       "\n",
       "        Please choose the response that best represents your view on taking a Lyft or Uber. [I usually trust the driver.]  \\\n",
       "System                                                                                                                      \n",
       "Julie                                                   5                                                                   \n",
       "Lily                                                    5                                                                   \n",
       "\n",
       "        Please choose the response that best represents your view on taking a Lyft or Uber. [I usually trust other drivers on the road.]  \n",
       "System                                                                                                                                    \n",
       "Julie                                                   4                                                                                 \n",
       "Lily                                                    4                                                                                 "
      ]
     },
     "execution_count": 126,
     "metadata": {},
     "output_type": "execute_result"
    }
   ],
   "source": [
    "lyft_uber_views_group_by_system.max()"
   ]
  },
  {
   "cell_type": "code",
   "execution_count": 127,
   "metadata": {},
   "outputs": [
    {
     "data": {
      "text/plain": [
       "0    Bachelor's degree\n",
       "dtype: object"
      ]
     },
     "execution_count": 127,
     "metadata": {},
     "output_type": "execute_result"
    }
   ],
   "source": [
    "demographics = df.drop(df.columns[1:-4],axis=1)\n",
    "demographics[demographics.columns[-1]].mode() # most common degree"
   ]
  },
  {
   "cell_type": "code",
   "execution_count": 128,
   "metadata": {},
   "outputs": [
    {
     "data": {
      "text/plain": [
       "Bachelor's degree       10\n",
       "Doctoral degree          6\n",
       "Master's degree          5\n",
       "Post-doctoral degree     2\n",
       "High school diploma      1\n",
       "Name: Highest level of education you have completed or currently pursuing, dtype: int64"
      ]
     },
     "execution_count": 128,
     "metadata": {},
     "output_type": "execute_result"
    }
   ],
   "source": [
    "demographics[demographics.columns[-1]].value_counts()"
   ]
  },
  {
   "cell_type": "code",
   "execution_count": 129,
   "metadata": {},
   "outputs": [
    {
     "data": {
      "text/plain": [
       "0    Student\n",
       "dtype: object"
      ]
     },
     "execution_count": 129,
     "metadata": {},
     "output_type": "execute_result"
    }
   ],
   "source": [
    "demographics[demographics.columns[-2]].mode() # most common occupation"
   ]
  },
  {
   "cell_type": "code",
   "execution_count": 130,
   "metadata": {},
   "outputs": [
    {
     "data": {
      "text/plain": [
       "student                           5\n",
       "graduate student                  2\n",
       "phd student                       2\n",
       "director, it                      1\n",
       "editor                            1\n",
       "front desk agent                  1\n",
       "dental hygienist                  1\n",
       "staff scientist                   1\n",
       "academic advisor                  1\n",
       "pharmacist                        1\n",
       "alumni relations manager (saa)    1\n",
       "software                          1\n",
       "physicist                         1\n",
       "writer                            1\n",
       "semi-retired                      1\n",
       "accounting                        1\n",
       "marketing manager                 1\n",
       "it                                1\n",
       "Name: Occupation, dtype: int64"
      ]
     },
     "execution_count": 130,
     "metadata": {},
     "output_type": "execute_result"
    }
   ],
   "source": [
    "demographics[demographics.columns[-2]].str.lower().value_counts()"
   ]
  },
  {
   "cell_type": "code",
   "execution_count": 131,
   "metadata": {},
   "outputs": [
    {
     "data": {
      "text/plain": [
       "37.041666666666664"
      ]
     },
     "execution_count": 131,
     "metadata": {},
     "output_type": "execute_result"
    }
   ],
   "source": [
    "# ages\n",
    "demographics[demographics.columns[-4]].mean()"
   ]
  },
  {
   "cell_type": "code",
   "execution_count": 132,
   "metadata": {},
   "outputs": [
    {
     "data": {
      "text/plain": [
       "60"
      ]
     },
     "execution_count": 132,
     "metadata": {},
     "output_type": "execute_result"
    }
   ],
   "source": [
    "demographics[demographics.columns[-4]].max()"
   ]
  },
  {
   "cell_type": "code",
   "execution_count": 133,
   "metadata": {},
   "outputs": [
    {
     "data": {
      "text/plain": [
       "20"
      ]
     },
     "execution_count": 133,
     "metadata": {},
     "output_type": "execute_result"
    }
   ],
   "source": [
    "demographics[demographics.columns[-4]].min()"
   ]
  },
  {
   "cell_type": "code",
   "execution_count": 134,
   "metadata": {},
   "outputs": [
    {
     "data": {
      "text/plain": [
       "System  Age  Occupation                    \n",
       "Julie   20   Student                           1\n",
       "        25   Student                           1\n",
       "        26   Graduate Student                  1\n",
       "             Phd Student                       1\n",
       "             Student                           1\n",
       "        29   PhD student                       1\n",
       "        35   Director, IT                      1\n",
       "        37   Staff scientist                   1\n",
       "        40   IT                                1\n",
       "        49   Dental Hygienist                  1\n",
       "        51   Front Desk Agent                  1\n",
       "        60   accounting                        1\n",
       "Lily    26   Marketing Manager                 1\n",
       "        27   Student                           1\n",
       "        28   Graduate Student                  1\n",
       "        33   Software                          1\n",
       "        34   student                           1\n",
       "        40   Academic advisor                  1\n",
       "             Editor                            1\n",
       "        41   Pharmacist                        1\n",
       "             Physicist                         1\n",
       "        46   Alumni Relations Manager (SAA)    1\n",
       "        54   writer                            1\n",
       "        55   semi-retired                      1\n",
       "dtype: int64"
      ]
     },
     "execution_count": 134,
     "metadata": {},
     "output_type": "execute_result"
    }
   ],
   "source": [
    "demographics.groupby(['System','Age','Occupation']).size()"
   ]
  },
  {
   "cell_type": "code",
   "execution_count": 135,
   "metadata": {},
   "outputs": [
    {
     "name": "stdout",
     "output_type": "stream",
     "text": [
      "num of positive words 2006\n",
      "num of negative words 4783\n"
     ]
    }
   ],
   "source": [
    "posArr = []\n",
    "negArr = []\n",
    "for word in open('/Users/kalicornn/Desktop/independent-study/positive-words.txt', 'r').readlines()[35:]:\n",
    "    word = word.rstrip()\n",
    "    posArr.append(word)\n",
    "for word in open('/Users/kalicornn/Desktop/independent-study/negative-words.txt', 'r').readlines()[35:]:\n",
    "    word = word.rstrip()\n",
    "    negArr.append(word)\n",
    "print (\"num of positive words %d\" % len(posArr))\n",
    "print (\"num of negative words %d\" % len(negArr))"
   ]
  },
  {
   "cell_type": "code",
   "execution_count": 145,
   "metadata": {},
   "outputs": [
    {
     "name": "stdout",
     "output_type": "stream",
     "text": [
      "   System  \\\n",
      "0    Lily   \n",
      "1   Julie   \n",
      "2   Julie   \n",
      "3   Julie   \n",
      "4    Lily   \n",
      "5    Lily   \n",
      "6   Julie   \n",
      "7    Lily   \n",
      "8   Julie   \n",
      "9    Lily   \n",
      "10  Julie   \n",
      "11   Lily   \n",
      "12  Julie   \n",
      "13   Lily   \n",
      "14   Lily   \n",
      "15   Lily   \n",
      "16  Julie   \n",
      "17   Lily   \n",
      "18  Julie   \n",
      "19  Julie   \n",
      "20  Julie   \n",
      "21   Lily   \n",
      "22  Julie   \n",
      "23   Lily   \n",
      "\n",
      "   Provide 5 words (adjectives) to characterize/describe a self-driving vehicle.  \n",
      "0     effortless, pleasant, robotic, time-saving, zen                             \n",
      "1                                                 NaN                             \n",
      "2                                                 NaN                             \n",
      "3            smooth, safe, intuitive, automated, easy                             \n",
      "4         safe, freedom, easy, self-sufficient, slow                              \n",
      "5               Convenient, Potentially safer, Useful                             \n",
      "6                                                 NaN                             \n",
      "7   advanced, futuristic, expensive, efficient, in...                             \n",
      "8      convenient, smart, effective, time saving, new                             \n",
      "9                    exciting hitech cool fun unknown                             \n",
      "10  interesting, high-techy, scary, fascinating, s...                             \n",
      "11                                                NaN                             \n",
      "12  Trusting, high-tech, safer, blind-spot, futuri...                             \n",
      "13                 simple beta future software assist                             \n",
      "14         Futuristic, cautious, useful, boring, safe                             \n",
      "15                                                NaN                             \n",
      "16     useful, beneficial, environmentally sound, new                             \n",
      "17  advanced, safe, technological, autonomy, reliable                             \n",
      "18              Reliable, safe, easy, precise, useful                             \n",
      "19                                                NaN                             \n",
      "20                                                NaN                             \n",
      "21  innovative, convenient, awesome, intelligent, ...                             \n",
      "22  Logical, algorithmic, automated, safe, rule-ab...                             \n",
      "23                                                NaN                             \n"
     ]
    }
   ],
   "source": [
    "## sentiment analysis stuff\n",
    "temp = df[df.columns[:-4]]\n",
    "subj_words = temp.drop(temp.columns[1:-21],axis=1)\n",
    "adjs = subj_words[subj_words.columns[:2]]\n",
    "# remove NaN\n",
    "print(adjs)\n",
    "#subj_words.columns"
   ]
  },
  {
   "cell_type": "code",
   "execution_count": 153,
   "metadata": {},
   "outputs": [
    {
     "name": "stdout",
     "output_type": "stream",
     "text": [
      "8\n"
     ]
    }
   ],
   "source": [
    "adjs2 = adjs.dropna()\n",
    "print(len(adjs)-len(adjs2))"
   ]
  },
  {
   "cell_type": "code",
   "execution_count": 154,
   "metadata": {},
   "outputs": [
    {
     "name": "stdout",
     "output_type": "stream",
     "text": [
      "   System  \\\n",
      "0    Lily   \n",
      "3   Julie   \n",
      "4    Lily   \n",
      "5    Lily   \n",
      "7    Lily   \n",
      "8   Julie   \n",
      "9    Lily   \n",
      "10  Julie   \n",
      "12  Julie   \n",
      "13   Lily   \n",
      "14   Lily   \n",
      "16  Julie   \n",
      "17   Lily   \n",
      "18  Julie   \n",
      "21   Lily   \n",
      "22  Julie   \n",
      "\n",
      "   Provide 5 words (adjectives) to characterize/describe a self-driving vehicle.  \n",
      "0     effortless, pleasant, robotic, time-saving, zen                             \n",
      "3            smooth, safe, intuitive, automated, easy                             \n",
      "4         safe, freedom, easy, self-sufficient, slow                              \n",
      "5               Convenient, Potentially safer, Useful                             \n",
      "7   advanced, futuristic, expensive, efficient, in...                             \n",
      "8      convenient, smart, effective, time saving, new                             \n",
      "9                    exciting hitech cool fun unknown                             \n",
      "10  interesting, high-techy, scary, fascinating, s...                             \n",
      "12  Trusting, high-tech, safer, blind-spot, futuri...                             \n",
      "13                 simple beta future software assist                             \n",
      "14         Futuristic, cautious, useful, boring, safe                             \n",
      "16     useful, beneficial, environmentally sound, new                             \n",
      "17  advanced, safe, technological, autonomy, reliable                             \n",
      "18              Reliable, safe, easy, precise, useful                             \n",
      "21  innovative, convenient, awesome, intelligent, ...                             \n",
      "22  Logical, algorithmic, automated, safe, rule-ab...                             \n"
     ]
    }
   ],
   "source": [
    "print(adjs2)"
   ]
  },
  {
   "cell_type": "code",
   "execution_count": 155,
   "metadata": {},
   "outputs": [
    {
     "data": {
      "text/html": [
       "<div>\n",
       "<style scoped>\n",
       "    .dataframe tbody tr th:only-of-type {\n",
       "        vertical-align: middle;\n",
       "    }\n",
       "\n",
       "    .dataframe tbody tr th {\n",
       "        vertical-align: top;\n",
       "    }\n",
       "\n",
       "    .dataframe thead th {\n",
       "        text-align: right;\n",
       "    }\n",
       "</style>\n",
       "<table border=\"1\" class=\"dataframe\">\n",
       "  <thead>\n",
       "    <tr style=\"text-align: right;\">\n",
       "      <th></th>\n",
       "      <th>System</th>\n",
       "      <th>Provide 5 words (adjectives) to characterize/describe a self-driving vehicle.</th>\n",
       "    </tr>\n",
       "  </thead>\n",
       "  <tbody>\n",
       "    <tr>\n",
       "      <th>0</th>\n",
       "      <td>Lily</td>\n",
       "      <td>[effortless, pleasant, robotic, time-saving, zen]</td>\n",
       "    </tr>\n",
       "    <tr>\n",
       "      <th>3</th>\n",
       "      <td>Julie</td>\n",
       "      <td>[smooth, safe, intuitive, automated, easy]</td>\n",
       "    </tr>\n",
       "    <tr>\n",
       "      <th>4</th>\n",
       "      <td>Lily</td>\n",
       "      <td>[safe, freedom, easy, self-sufficient, slow ]</td>\n",
       "    </tr>\n",
       "    <tr>\n",
       "      <th>5</th>\n",
       "      <td>Lily</td>\n",
       "      <td>[Convenient, Potentially safer, Useful]</td>\n",
       "    </tr>\n",
       "    <tr>\n",
       "      <th>7</th>\n",
       "      <td>Lily</td>\n",
       "      <td>[advanced, futuristic, expensive, efficient, i...</td>\n",
       "    </tr>\n",
       "    <tr>\n",
       "      <th>8</th>\n",
       "      <td>Julie</td>\n",
       "      <td>[convenient, smart, effective, time saving, new]</td>\n",
       "    </tr>\n",
       "    <tr>\n",
       "      <th>9</th>\n",
       "      <td>Lily</td>\n",
       "      <td>[exciting, hitech, cool, fun, unknown]</td>\n",
       "    </tr>\n",
       "    <tr>\n",
       "      <th>10</th>\n",
       "      <td>Julie</td>\n",
       "      <td>[interesting, high-techy, scary, fascinating, ...</td>\n",
       "    </tr>\n",
       "    <tr>\n",
       "      <th>12</th>\n",
       "      <td>Julie</td>\n",
       "      <td>[Trusting, high-tech, safer, blind-spot, futur...</td>\n",
       "    </tr>\n",
       "    <tr>\n",
       "      <th>13</th>\n",
       "      <td>Lily</td>\n",
       "      <td>[simple, beta, future, software, assist]</td>\n",
       "    </tr>\n",
       "    <tr>\n",
       "      <th>14</th>\n",
       "      <td>Lily</td>\n",
       "      <td>[Futuristic, cautious, useful, boring, safe]</td>\n",
       "    </tr>\n",
       "    <tr>\n",
       "      <th>16</th>\n",
       "      <td>Julie</td>\n",
       "      <td>[useful, beneficial, environmentally sound, new]</td>\n",
       "    </tr>\n",
       "    <tr>\n",
       "      <th>17</th>\n",
       "      <td>Lily</td>\n",
       "      <td>[advanced, safe, technological, autonomy, reli...</td>\n",
       "    </tr>\n",
       "    <tr>\n",
       "      <th>18</th>\n",
       "      <td>Julie</td>\n",
       "      <td>[Reliable, safe, easy, precise, useful]</td>\n",
       "    </tr>\n",
       "    <tr>\n",
       "      <th>21</th>\n",
       "      <td>Lily</td>\n",
       "      <td>[innovative, convenient, awesome, intelligent,...</td>\n",
       "    </tr>\n",
       "    <tr>\n",
       "      <th>22</th>\n",
       "      <td>Julie</td>\n",
       "      <td>[Logical, algorithmic, automated, safe, rule-a...</td>\n",
       "    </tr>\n",
       "  </tbody>\n",
       "</table>\n",
       "</div>"
      ],
      "text/plain": [
       "   System  \\\n",
       "0    Lily   \n",
       "3   Julie   \n",
       "4    Lily   \n",
       "5    Lily   \n",
       "7    Lily   \n",
       "8   Julie   \n",
       "9    Lily   \n",
       "10  Julie   \n",
       "12  Julie   \n",
       "13   Lily   \n",
       "14   Lily   \n",
       "16  Julie   \n",
       "17   Lily   \n",
       "18  Julie   \n",
       "21   Lily   \n",
       "22  Julie   \n",
       "\n",
       "   Provide 5 words (adjectives) to characterize/describe a self-driving vehicle.  \n",
       "0   [effortless, pleasant, robotic, time-saving, zen]                             \n",
       "3          [smooth, safe, intuitive, automated, easy]                             \n",
       "4       [safe, freedom, easy, self-sufficient, slow ]                             \n",
       "5             [Convenient, Potentially safer, Useful]                             \n",
       "7   [advanced, futuristic, expensive, efficient, i...                             \n",
       "8    [convenient, smart, effective, time saving, new]                             \n",
       "9              [exciting, hitech, cool, fun, unknown]                             \n",
       "10  [interesting, high-techy, scary, fascinating, ...                             \n",
       "12  [Trusting, high-tech, safer, blind-spot, futur...                             \n",
       "13           [simple, beta, future, software, assist]                             \n",
       "14       [Futuristic, cautious, useful, boring, safe]                             \n",
       "16   [useful, beneficial, environmentally sound, new]                             \n",
       "17  [advanced, safe, technological, autonomy, reli...                             \n",
       "18            [Reliable, safe, easy, precise, useful]                             \n",
       "21  [innovative, convenient, awesome, intelligent,...                             \n",
       "22  [Logical, algorithmic, automated, safe, rule-a...                             "
      ]
     },
     "execution_count": 155,
     "metadata": {},
     "output_type": "execute_result"
    }
   ],
   "source": [
    "import re\n",
    "for index, row in adjs2.iterrows():\n",
    "    if ',' in row[1]:\n",
    "        row[1] = re.split(', ',row[1])\n",
    "    else:\n",
    "        row[1] = re.split(' ', row[1])\n",
    "    #print(words)\n",
    "    #print(len(words))\n",
    "adjs2\n"
   ]
  },
  {
   "cell_type": "code",
   "execution_count": 156,
   "metadata": {},
   "outputs": [
    {
     "data": {
      "text/html": [
       "<div>\n",
       "<style scoped>\n",
       "    .dataframe tbody tr th:only-of-type {\n",
       "        vertical-align: middle;\n",
       "    }\n",
       "\n",
       "    .dataframe tbody tr th {\n",
       "        vertical-align: top;\n",
       "    }\n",
       "\n",
       "    .dataframe thead th {\n",
       "        text-align: right;\n",
       "    }\n",
       "</style>\n",
       "<table border=\"1\" class=\"dataframe\">\n",
       "  <thead>\n",
       "    <tr style=\"text-align: right;\">\n",
       "      <th></th>\n",
       "      <th>Provide 5 words (adjectives) to characterize/describe a self-driving vehicle.</th>\n",
       "    </tr>\n",
       "    <tr>\n",
       "      <th>System</th>\n",
       "      <th></th>\n",
       "    </tr>\n",
       "  </thead>\n",
       "  <tbody>\n",
       "    <tr>\n",
       "      <th>Julie</th>\n",
       "      <td>7</td>\n",
       "    </tr>\n",
       "    <tr>\n",
       "      <th>Lily</th>\n",
       "      <td>9</td>\n",
       "    </tr>\n",
       "  </tbody>\n",
       "</table>\n",
       "</div>"
      ],
      "text/plain": [
       "        Provide 5 words (adjectives) to characterize/describe a self-driving vehicle.\n",
       "System                                                                               \n",
       "Julie                                                   7                            \n",
       "Lily                                                    9                            "
      ]
     },
     "execution_count": 156,
     "metadata": {},
     "output_type": "execute_result"
    }
   ],
   "source": [
    "adjs_group_by_system = adjs2.groupby(['System'])\n",
    "adjs_group_by_system.count()"
   ]
  },
  {
   "cell_type": "code",
   "execution_count": 157,
   "metadata": {},
   "outputs": [],
   "source": [
    "adjs2Temp = adjs2"
   ]
  },
  {
   "cell_type": "code",
   "execution_count": 158,
   "metadata": {},
   "outputs": [
    {
     "name": "stdout",
     "output_type": "stream",
     "text": [
      "0\n",
      "3\n",
      "4\n",
      "5\n",
      "7\n",
      "8\n",
      "9\n",
      "10\n",
      "12\n",
      "13\n",
      "14"
     ]
    },
    {
     "name": "stderr",
     "output_type": "stream",
     "text": [
      "/anaconda3/lib/python3.7/site-packages/pandas/core/indexing.py:362: SettingWithCopyWarning: \n",
      "A value is trying to be set on a copy of a slice from a DataFrame.\n",
      "Try using .loc[row_indexer,col_indexer] = value instead\n",
      "\n",
      "See the caveats in the documentation: http://pandas.pydata.org/pandas-docs/stable/indexing.html#indexing-view-versus-copy\n",
      "  self.obj[key] = _infer_fill_value(value)\n",
      "/anaconda3/lib/python3.7/site-packages/pandas/core/indexing.py:543: SettingWithCopyWarning: \n",
      "A value is trying to be set on a copy of a slice from a DataFrame.\n",
      "Try using .loc[row_indexer,col_indexer] = value instead\n",
      "\n",
      "See the caveats in the documentation: http://pandas.pydata.org/pandas-docs/stable/indexing.html#indexing-view-versus-copy\n",
      "  self.obj[item] = s\n"
     ]
    },
    {
     "name": "stdout",
     "output_type": "stream",
     "text": [
      "\n",
      "16\n",
      "17\n",
      "18\n",
      "21\n",
      "22\n"
     ]
    }
   ],
   "source": [
    "adjs2Temp = adjs2\n",
    "for index, row in adjs2Temp.iterrows():\n",
    "    print(index)\n",
    "    posNum = 0\n",
    "    negNum = 0\n",
    "    elseNum = 0\n",
    "    for word in row[1]:\n",
    "        word = word.lower()\n",
    "        if word in posArr:\n",
    "            posNum += 1\n",
    "        if word in negArr:\n",
    "            negNum -= 1\n",
    "    total = posNum + negNum\n",
    "    #print(total)\n",
    "    adjs2.loc[index,'Total'] = total"
   ]
  },
  {
   "cell_type": "code",
   "execution_count": 160,
   "metadata": {},
   "outputs": [
    {
     "data": {
      "text/html": [
       "<div>\n",
       "<style scoped>\n",
       "    .dataframe tbody tr th:only-of-type {\n",
       "        vertical-align: middle;\n",
       "    }\n",
       "\n",
       "    .dataframe tbody tr th {\n",
       "        vertical-align: top;\n",
       "    }\n",
       "\n",
       "    .dataframe thead th {\n",
       "        text-align: right;\n",
       "    }\n",
       "</style>\n",
       "<table border=\"1\" class=\"dataframe\">\n",
       "  <thead>\n",
       "    <tr style=\"text-align: right;\">\n",
       "      <th></th>\n",
       "      <th>System</th>\n",
       "      <th>Provide 5 words (adjectives) to characterize/describe a self-driving vehicle.</th>\n",
       "      <th>Total</th>\n",
       "    </tr>\n",
       "  </thead>\n",
       "  <tbody>\n",
       "    <tr>\n",
       "      <th>0</th>\n",
       "      <td>Lily</td>\n",
       "      <td>[effortless, pleasant, robotic, time-saving, zen]</td>\n",
       "      <td>2.0</td>\n",
       "    </tr>\n",
       "    <tr>\n",
       "      <th>3</th>\n",
       "      <td>Julie</td>\n",
       "      <td>[smooth, safe, intuitive, automated, easy]</td>\n",
       "      <td>4.0</td>\n",
       "    </tr>\n",
       "    <tr>\n",
       "      <th>4</th>\n",
       "      <td>Lily</td>\n",
       "      <td>[safe, freedom, easy, self-sufficient, slow ]</td>\n",
       "      <td>4.0</td>\n",
       "    </tr>\n",
       "    <tr>\n",
       "      <th>5</th>\n",
       "      <td>Lily</td>\n",
       "      <td>[Convenient, Potentially safer, Useful]</td>\n",
       "      <td>2.0</td>\n",
       "    </tr>\n",
       "    <tr>\n",
       "      <th>7</th>\n",
       "      <td>Lily</td>\n",
       "      <td>[advanced, futuristic, expensive, efficient, i...</td>\n",
       "      <td>3.0</td>\n",
       "    </tr>\n",
       "    <tr>\n",
       "      <th>8</th>\n",
       "      <td>Julie</td>\n",
       "      <td>[convenient, smart, effective, time saving, new]</td>\n",
       "      <td>3.0</td>\n",
       "    </tr>\n",
       "    <tr>\n",
       "      <th>9</th>\n",
       "      <td>Lily</td>\n",
       "      <td>[exciting, hitech, cool, fun, unknown]</td>\n",
       "      <td>2.0</td>\n",
       "    </tr>\n",
       "    <tr>\n",
       "      <th>10</th>\n",
       "      <td>Julie</td>\n",
       "      <td>[interesting, high-techy, scary, fascinating, ...</td>\n",
       "      <td>2.0</td>\n",
       "    </tr>\n",
       "    <tr>\n",
       "      <th>12</th>\n",
       "      <td>Julie</td>\n",
       "      <td>[Trusting, high-tech, safer, blind-spot, futur...</td>\n",
       "      <td>2.0</td>\n",
       "    </tr>\n",
       "    <tr>\n",
       "      <th>13</th>\n",
       "      <td>Lily</td>\n",
       "      <td>[simple, beta, future, software, assist]</td>\n",
       "      <td>0.0</td>\n",
       "    </tr>\n",
       "    <tr>\n",
       "      <th>14</th>\n",
       "      <td>Lily</td>\n",
       "      <td>[Futuristic, cautious, useful, boring, safe]</td>\n",
       "      <td>2.0</td>\n",
       "    </tr>\n",
       "    <tr>\n",
       "      <th>16</th>\n",
       "      <td>Julie</td>\n",
       "      <td>[useful, beneficial, environmentally sound, new]</td>\n",
       "      <td>2.0</td>\n",
       "    </tr>\n",
       "    <tr>\n",
       "      <th>17</th>\n",
       "      <td>Lily</td>\n",
       "      <td>[advanced, safe, technological, autonomy, reli...</td>\n",
       "      <td>3.0</td>\n",
       "    </tr>\n",
       "    <tr>\n",
       "      <th>18</th>\n",
       "      <td>Julie</td>\n",
       "      <td>[Reliable, safe, easy, precise, useful]</td>\n",
       "      <td>5.0</td>\n",
       "    </tr>\n",
       "    <tr>\n",
       "      <th>21</th>\n",
       "      <td>Lily</td>\n",
       "      <td>[innovative, convenient, awesome, intelligent,...</td>\n",
       "      <td>5.0</td>\n",
       "    </tr>\n",
       "    <tr>\n",
       "      <th>22</th>\n",
       "      <td>Julie</td>\n",
       "      <td>[Logical, algorithmic, automated, safe, rule-a...</td>\n",
       "      <td>2.0</td>\n",
       "    </tr>\n",
       "  </tbody>\n",
       "</table>\n",
       "</div>"
      ],
      "text/plain": [
       "   System  \\\n",
       "0    Lily   \n",
       "3   Julie   \n",
       "4    Lily   \n",
       "5    Lily   \n",
       "7    Lily   \n",
       "8   Julie   \n",
       "9    Lily   \n",
       "10  Julie   \n",
       "12  Julie   \n",
       "13   Lily   \n",
       "14   Lily   \n",
       "16  Julie   \n",
       "17   Lily   \n",
       "18  Julie   \n",
       "21   Lily   \n",
       "22  Julie   \n",
       "\n",
       "   Provide 5 words (adjectives) to characterize/describe a self-driving vehicle.  \\\n",
       "0   [effortless, pleasant, robotic, time-saving, zen]                              \n",
       "3          [smooth, safe, intuitive, automated, easy]                              \n",
       "4       [safe, freedom, easy, self-sufficient, slow ]                              \n",
       "5             [Convenient, Potentially safer, Useful]                              \n",
       "7   [advanced, futuristic, expensive, efficient, i...                              \n",
       "8    [convenient, smart, effective, time saving, new]                              \n",
       "9              [exciting, hitech, cool, fun, unknown]                              \n",
       "10  [interesting, high-techy, scary, fascinating, ...                              \n",
       "12  [Trusting, high-tech, safer, blind-spot, futur...                              \n",
       "13           [simple, beta, future, software, assist]                              \n",
       "14       [Futuristic, cautious, useful, boring, safe]                              \n",
       "16   [useful, beneficial, environmentally sound, new]                              \n",
       "17  [advanced, safe, technological, autonomy, reli...                              \n",
       "18            [Reliable, safe, easy, precise, useful]                              \n",
       "21  [innovative, convenient, awesome, intelligent,...                              \n",
       "22  [Logical, algorithmic, automated, safe, rule-a...                              \n",
       "\n",
       "    Total  \n",
       "0     2.0  \n",
       "3     4.0  \n",
       "4     4.0  \n",
       "5     2.0  \n",
       "7     3.0  \n",
       "8     3.0  \n",
       "9     2.0  \n",
       "10    2.0  \n",
       "12    2.0  \n",
       "13    0.0  \n",
       "14    2.0  \n",
       "16    2.0  \n",
       "17    3.0  \n",
       "18    5.0  \n",
       "21    5.0  \n",
       "22    2.0  "
      ]
     },
     "execution_count": 160,
     "metadata": {},
     "output_type": "execute_result"
    }
   ],
   "source": [
    "adjs2\n",
    "# Total: 0 <= x <= 5"
   ]
  },
  {
   "cell_type": "code",
   "execution_count": 163,
   "metadata": {},
   "outputs": [
    {
     "data": {
      "text/plain": [
       "0.0"
      ]
     },
     "execution_count": 163,
     "metadata": {},
     "output_type": "execute_result"
    }
   ],
   "source": [
    "adjs2[adjs2.columns[2]].min()"
   ]
  },
  {
   "cell_type": "code",
   "execution_count": 164,
   "metadata": {},
   "outputs": [
    {
     "data": {
      "text/plain": [
       "5.0"
      ]
     },
     "execution_count": 164,
     "metadata": {},
     "output_type": "execute_result"
    }
   ],
   "source": [
    "adjs2[adjs2.columns[2]].max()"
   ]
  },
  {
   "cell_type": "code",
   "execution_count": 165,
   "metadata": {},
   "outputs": [
    {
     "data": {
      "text/html": [
       "<div>\n",
       "<style scoped>\n",
       "    .dataframe tbody tr th:only-of-type {\n",
       "        vertical-align: middle;\n",
       "    }\n",
       "\n",
       "    .dataframe tbody tr th {\n",
       "        vertical-align: top;\n",
       "    }\n",
       "\n",
       "    .dataframe thead th {\n",
       "        text-align: right;\n",
       "    }\n",
       "</style>\n",
       "<table border=\"1\" class=\"dataframe\">\n",
       "  <thead>\n",
       "    <tr style=\"text-align: right;\">\n",
       "      <th></th>\n",
       "      <th>Total</th>\n",
       "    </tr>\n",
       "    <tr>\n",
       "      <th>System</th>\n",
       "      <th></th>\n",
       "    </tr>\n",
       "  </thead>\n",
       "  <tbody>\n",
       "    <tr>\n",
       "      <th>Julie</th>\n",
       "      <td>20.0</td>\n",
       "    </tr>\n",
       "    <tr>\n",
       "      <th>Lily</th>\n",
       "      <td>23.0</td>\n",
       "    </tr>\n",
       "  </tbody>\n",
       "</table>\n",
       "</div>"
      ],
      "text/plain": [
       "        Total\n",
       "System       \n",
       "Julie    20.0\n",
       "Lily     23.0"
      ]
     },
     "execution_count": 165,
     "metadata": {},
     "output_type": "execute_result"
    }
   ],
   "source": [
    "adjs_group_by_system = adjs2.groupby(['System'])\n",
    "adjs_group_by_system.sum()"
   ]
  },
  {
   "cell_type": "code",
   "execution_count": 166,
   "metadata": {},
   "outputs": [
    {
     "data": {
      "text/html": [
       "<div>\n",
       "<style scoped>\n",
       "    .dataframe tbody tr th:only-of-type {\n",
       "        vertical-align: middle;\n",
       "    }\n",
       "\n",
       "    .dataframe tbody tr th {\n",
       "        vertical-align: top;\n",
       "    }\n",
       "\n",
       "    .dataframe thead th {\n",
       "        text-align: right;\n",
       "    }\n",
       "</style>\n",
       "<table border=\"1\" class=\"dataframe\">\n",
       "  <thead>\n",
       "    <tr style=\"text-align: right;\">\n",
       "      <th></th>\n",
       "      <th>Total</th>\n",
       "    </tr>\n",
       "    <tr>\n",
       "      <th>System</th>\n",
       "      <th></th>\n",
       "    </tr>\n",
       "  </thead>\n",
       "  <tbody>\n",
       "    <tr>\n",
       "      <th>Julie</th>\n",
       "      <td>2.857143</td>\n",
       "    </tr>\n",
       "    <tr>\n",
       "      <th>Lily</th>\n",
       "      <td>2.555556</td>\n",
       "    </tr>\n",
       "  </tbody>\n",
       "</table>\n",
       "</div>"
      ],
      "text/plain": [
       "           Total\n",
       "System          \n",
       "Julie   2.857143\n",
       "Lily    2.555556"
      ]
     },
     "execution_count": 166,
     "metadata": {},
     "output_type": "execute_result"
    }
   ],
   "source": [
    "# Julie had slightly more positive words\n",
    "adjs_group_by_system.mean()"
   ]
  },
  {
   "cell_type": "code",
   "execution_count": 167,
   "metadata": {},
   "outputs": [
    {
     "data": {
      "text/plain": [
       "System  Total\n",
       "Julie   2.0      4\n",
       "        3.0      1\n",
       "        4.0      1\n",
       "        5.0      1\n",
       "Lily    0.0      1\n",
       "        2.0      4\n",
       "        3.0      2\n",
       "        4.0      1\n",
       "        5.0      1\n",
       "dtype: int64"
      ]
     },
     "execution_count": 167,
     "metadata": {},
     "output_type": "execute_result"
    }
   ],
   "source": [
    "adjs_group_by_system_total = adjs2.groupby(['System','Total'])\n",
    "adjs_group_by_system_total.size()"
   ]
  },
  {
   "cell_type": "code",
   "execution_count": null,
   "metadata": {},
   "outputs": [],
   "source": []
  }
 ],
 "metadata": {
  "kernelspec": {
   "display_name": "Python 3",
   "language": "python",
   "name": "python3"
  },
  "language_info": {
   "codemirror_mode": {
    "name": "ipython",
    "version": 3
   },
   "file_extension": ".py",
   "mimetype": "text/x-python",
   "name": "python",
   "nbconvert_exporter": "python",
   "pygments_lexer": "ipython3",
   "version": "3.7.0"
  }
 },
 "nbformat": 4,
 "nbformat_minor": 2
}
