{
 "cells": [
  {
   "cell_type": "code",
   "execution_count": 1,
   "metadata": {},
   "outputs": [],
   "source": [
    "import pandas as pd\n",
    "import numpy as np"
   ]
  },
  {
   "cell_type": "code",
   "execution_count": 2,
   "metadata": {},
   "outputs": [],
   "source": [
    "df = pd.read_csv(\"/Users/kalicornn/Desktop/preride_data.csv\")"
   ]
  },
  {
   "cell_type": "code",
   "execution_count": 3,
   "metadata": {},
   "outputs": [],
   "source": [
    "# remove timestamp\n",
    "df = df[df.columns[1:]]\n",
    "# remove names\n",
    "df = df.drop(df.columns[33],axis=1)\n",
    "#df.columns"
   ]
  },
  {
   "cell_type": "code",
   "execution_count": 4,
   "metadata": {},
   "outputs": [],
   "source": [
    "group_by_system = df.groupby(['System'])"
   ]
  },
  {
   "cell_type": "code",
   "execution_count": 5,
   "metadata": {},
   "outputs": [
    {
     "data": {
      "text/plain": [
       "System\n",
       "Julie    12\n",
       "Lily     12\n",
       "dtype: int64"
      ]
     },
     "execution_count": 5,
     "metadata": {},
     "output_type": "execute_result"
    }
   ],
   "source": [
    "group_by_system.size()"
   ]
  },
  {
   "cell_type": "markdown",
   "metadata": {},
   "source": [
    "The Julie and Lily groups seem to have very similar views on ride-sharing services such as Lyft and Uber, when looking at the means and ranges of their responses.\n",
    "\n",
    "In terms of demographics, most of the participants have a bachelor's degree, and the most common occupation is student, although there is a range of occupations represented in the participants. Ages range from 20 to 60, with the mean age of approximately 37.\n",
    "\n",
    "From an initial analysis, Julie participants used slightly more positive words to describe self-driving vehicles, but it doesn't seem to be a dramatic difference, because many of the words participants used were classified as neutral based on the positive and negative lexicons utilized.\n",
    "(Julie: mean of 2.857143 vs Lily: mean of 2.555556)"
   ]
  },
  {
   "cell_type": "code",
   "execution_count": 6,
   "metadata": {},
   "outputs": [
    {
     "data": {
      "text/html": [
       "<div>\n",
       "<style scoped>\n",
       "    .dataframe tbody tr th:only-of-type {\n",
       "        vertical-align: middle;\n",
       "    }\n",
       "\n",
       "    .dataframe tbody tr th {\n",
       "        vertical-align: top;\n",
       "    }\n",
       "\n",
       "    .dataframe thead th {\n",
       "        text-align: right;\n",
       "    }\n",
       "</style>\n",
       "<table border=\"1\" class=\"dataframe\">\n",
       "  <thead>\n",
       "    <tr style=\"text-align: right;\">\n",
       "      <th></th>\n",
       "      <th>Please choose the response that best represents your view on taking a Lyft or Uber. [I am usually comfortable  being driven.]</th>\n",
       "      <th>Please choose the response that best represents your view on taking a Lyft or Uber. [I usually feel safe being driven.]</th>\n",
       "      <th>Please choose the response that best represents your view on taking a Lyft or Uber. [I usually trust the driver.]</th>\n",
       "      <th>Please choose the response that best represents your view on taking a Lyft or Uber. [I usually trust other drivers on the road.]</th>\n",
       "    </tr>\n",
       "    <tr>\n",
       "      <th>System</th>\n",
       "      <th></th>\n",
       "      <th></th>\n",
       "      <th></th>\n",
       "      <th></th>\n",
       "    </tr>\n",
       "  </thead>\n",
       "  <tbody>\n",
       "    <tr>\n",
       "      <th>Julie</th>\n",
       "      <td>4.166667</td>\n",
       "      <td>4.000000</td>\n",
       "      <td>4.00</td>\n",
       "      <td>3.250000</td>\n",
       "    </tr>\n",
       "    <tr>\n",
       "      <th>Lily</th>\n",
       "      <td>4.166667</td>\n",
       "      <td>4.083333</td>\n",
       "      <td>3.75</td>\n",
       "      <td>2.833333</td>\n",
       "    </tr>\n",
       "  </tbody>\n",
       "</table>\n",
       "</div>"
      ],
      "text/plain": [
       "        Please choose the response that best represents your view on taking a Lyft or Uber. [I am usually comfortable  being driven.]  \\\n",
       "System                                                                                                                                  \n",
       "Julie                                            4.166667                                                                               \n",
       "Lily                                             4.166667                                                                               \n",
       "\n",
       "        Please choose the response that best represents your view on taking a Lyft or Uber. [I usually feel safe being driven.]  \\\n",
       "System                                                                                                                            \n",
       "Julie                                            4.000000                                                                         \n",
       "Lily                                             4.083333                                                                         \n",
       "\n",
       "        Please choose the response that best represents your view on taking a Lyft or Uber. [I usually trust the driver.]  \\\n",
       "System                                                                                                                      \n",
       "Julie                                                4.00                                                                   \n",
       "Lily                                                 3.75                                                                   \n",
       "\n",
       "        Please choose the response that best represents your view on taking a Lyft or Uber. [I usually trust other drivers on the road.]  \n",
       "System                                                                                                                                    \n",
       "Julie                                            3.250000                                                                                 \n",
       "Lily                                             2.833333                                                                                 "
      ]
     },
     "execution_count": 6,
     "metadata": {},
     "output_type": "execute_result"
    }
   ],
   "source": [
    "lyft_uber_views = df[df.columns[:8]]\n",
    "lyft_uber_views = lyft_uber_views.drop(lyft_uber_views.columns[1:4],axis=1)\n",
    "lyft_uber_views = lyft_uber_views.replace({'Strongly disagree':1,'Disagree':2,'Neutral':3,'Agree':4,'Strongly agree':5})\n",
    "#lyft_uber_views\n",
    "lyft_uber_views_group_by_system = lyft_uber_views.groupby(['System'])\n",
    "lyft_uber_views_group_by_system.mean()"
   ]
  },
  {
   "cell_type": "code",
   "execution_count": 7,
   "metadata": {},
   "outputs": [
    {
     "data": {
      "text/html": [
       "<div>\n",
       "<style scoped>\n",
       "    .dataframe tbody tr th:only-of-type {\n",
       "        vertical-align: middle;\n",
       "    }\n",
       "\n",
       "    .dataframe tbody tr th {\n",
       "        vertical-align: top;\n",
       "    }\n",
       "\n",
       "    .dataframe thead th {\n",
       "        text-align: right;\n",
       "    }\n",
       "</style>\n",
       "<table border=\"1\" class=\"dataframe\">\n",
       "  <thead>\n",
       "    <tr style=\"text-align: right;\">\n",
       "      <th></th>\n",
       "      <th>Please choose the response that best represents your view on taking a Lyft or Uber. [I am usually comfortable  being driven.]</th>\n",
       "      <th>Please choose the response that best represents your view on taking a Lyft or Uber. [I usually feel safe being driven.]</th>\n",
       "      <th>Please choose the response that best represents your view on taking a Lyft or Uber. [I usually trust the driver.]</th>\n",
       "      <th>Please choose the response that best represents your view on taking a Lyft or Uber. [I usually trust other drivers on the road.]</th>\n",
       "    </tr>\n",
       "    <tr>\n",
       "      <th>System</th>\n",
       "      <th></th>\n",
       "      <th></th>\n",
       "      <th></th>\n",
       "      <th></th>\n",
       "    </tr>\n",
       "  </thead>\n",
       "  <tbody>\n",
       "    <tr>\n",
       "      <th>Julie</th>\n",
       "      <td>3</td>\n",
       "      <td>3</td>\n",
       "      <td>3</td>\n",
       "      <td>2</td>\n",
       "    </tr>\n",
       "    <tr>\n",
       "      <th>Lily</th>\n",
       "      <td>3</td>\n",
       "      <td>3</td>\n",
       "      <td>3</td>\n",
       "      <td>2</td>\n",
       "    </tr>\n",
       "  </tbody>\n",
       "</table>\n",
       "</div>"
      ],
      "text/plain": [
       "        Please choose the response that best represents your view on taking a Lyft or Uber. [I am usually comfortable  being driven.]  \\\n",
       "System                                                                                                                                  \n",
       "Julie                                                   3                                                                               \n",
       "Lily                                                    3                                                                               \n",
       "\n",
       "        Please choose the response that best represents your view on taking a Lyft or Uber. [I usually feel safe being driven.]  \\\n",
       "System                                                                                                                            \n",
       "Julie                                                   3                                                                         \n",
       "Lily                                                    3                                                                         \n",
       "\n",
       "        Please choose the response that best represents your view on taking a Lyft or Uber. [I usually trust the driver.]  \\\n",
       "System                                                                                                                      \n",
       "Julie                                                   3                                                                   \n",
       "Lily                                                    3                                                                   \n",
       "\n",
       "        Please choose the response that best represents your view on taking a Lyft or Uber. [I usually trust other drivers on the road.]  \n",
       "System                                                                                                                                    \n",
       "Julie                                                   2                                                                                 \n",
       "Lily                                                    2                                                                                 "
      ]
     },
     "execution_count": 7,
     "metadata": {},
     "output_type": "execute_result"
    }
   ],
   "source": [
    "lyft_uber_views_group_by_system.min()"
   ]
  },
  {
   "cell_type": "code",
   "execution_count": 8,
   "metadata": {},
   "outputs": [
    {
     "data": {
      "text/html": [
       "<div>\n",
       "<style scoped>\n",
       "    .dataframe tbody tr th:only-of-type {\n",
       "        vertical-align: middle;\n",
       "    }\n",
       "\n",
       "    .dataframe tbody tr th {\n",
       "        vertical-align: top;\n",
       "    }\n",
       "\n",
       "    .dataframe thead th {\n",
       "        text-align: right;\n",
       "    }\n",
       "</style>\n",
       "<table border=\"1\" class=\"dataframe\">\n",
       "  <thead>\n",
       "    <tr style=\"text-align: right;\">\n",
       "      <th></th>\n",
       "      <th>Please choose the response that best represents your view on taking a Lyft or Uber. [I am usually comfortable  being driven.]</th>\n",
       "      <th>Please choose the response that best represents your view on taking a Lyft or Uber. [I usually feel safe being driven.]</th>\n",
       "      <th>Please choose the response that best represents your view on taking a Lyft or Uber. [I usually trust the driver.]</th>\n",
       "      <th>Please choose the response that best represents your view on taking a Lyft or Uber. [I usually trust other drivers on the road.]</th>\n",
       "    </tr>\n",
       "    <tr>\n",
       "      <th>System</th>\n",
       "      <th></th>\n",
       "      <th></th>\n",
       "      <th></th>\n",
       "      <th></th>\n",
       "    </tr>\n",
       "  </thead>\n",
       "  <tbody>\n",
       "    <tr>\n",
       "      <th>Julie</th>\n",
       "      <td>5</td>\n",
       "      <td>5</td>\n",
       "      <td>5</td>\n",
       "      <td>4</td>\n",
       "    </tr>\n",
       "    <tr>\n",
       "      <th>Lily</th>\n",
       "      <td>5</td>\n",
       "      <td>5</td>\n",
       "      <td>5</td>\n",
       "      <td>4</td>\n",
       "    </tr>\n",
       "  </tbody>\n",
       "</table>\n",
       "</div>"
      ],
      "text/plain": [
       "        Please choose the response that best represents your view on taking a Lyft or Uber. [I am usually comfortable  being driven.]  \\\n",
       "System                                                                                                                                  \n",
       "Julie                                                   5                                                                               \n",
       "Lily                                                    5                                                                               \n",
       "\n",
       "        Please choose the response that best represents your view on taking a Lyft or Uber. [I usually feel safe being driven.]  \\\n",
       "System                                                                                                                            \n",
       "Julie                                                   5                                                                         \n",
       "Lily                                                    5                                                                         \n",
       "\n",
       "        Please choose the response that best represents your view on taking a Lyft or Uber. [I usually trust the driver.]  \\\n",
       "System                                                                                                                      \n",
       "Julie                                                   5                                                                   \n",
       "Lily                                                    5                                                                   \n",
       "\n",
       "        Please choose the response that best represents your view on taking a Lyft or Uber. [I usually trust other drivers on the road.]  \n",
       "System                                                                                                                                    \n",
       "Julie                                                   4                                                                                 \n",
       "Lily                                                    4                                                                                 "
      ]
     },
     "execution_count": 8,
     "metadata": {},
     "output_type": "execute_result"
    }
   ],
   "source": [
    "lyft_uber_views_group_by_system.max()"
   ]
  },
  {
   "cell_type": "code",
   "execution_count": 9,
   "metadata": {},
   "outputs": [
    {
     "data": {
      "text/plain": [
       "0    Bachelor's degree\n",
       "dtype: object"
      ]
     },
     "execution_count": 9,
     "metadata": {},
     "output_type": "execute_result"
    }
   ],
   "source": [
    "demographics = df.drop(df.columns[1:-4],axis=1)\n",
    "demographics[demographics.columns[-1]].mode() # most common degree"
   ]
  },
  {
   "cell_type": "code",
   "execution_count": 10,
   "metadata": {},
   "outputs": [
    {
     "data": {
      "text/plain": [
       "Bachelor's degree       10\n",
       "Doctoral degree          6\n",
       "Master's degree          5\n",
       "Post-doctoral degree     2\n",
       "High school diploma      1\n",
       "Name: Highest level of education you have completed or currently pursuing, dtype: int64"
      ]
     },
     "execution_count": 10,
     "metadata": {},
     "output_type": "execute_result"
    }
   ],
   "source": [
    "demographics[demographics.columns[-1]].value_counts()"
   ]
  },
  {
   "cell_type": "code",
   "execution_count": 11,
   "metadata": {},
   "outputs": [
    {
     "data": {
      "text/plain": [
       "0    Student\n",
       "dtype: object"
      ]
     },
     "execution_count": 11,
     "metadata": {},
     "output_type": "execute_result"
    }
   ],
   "source": [
    "demographics[demographics.columns[-2]].mode() # most common occupation"
   ]
  },
  {
   "cell_type": "code",
   "execution_count": 12,
   "metadata": {},
   "outputs": [
    {
     "data": {
      "text/plain": [
       "student                           5\n",
       "graduate student                  2\n",
       "phd student                       2\n",
       "editor                            1\n",
       "it                                1\n",
       "marketing manager                 1\n",
       "accounting                        1\n",
       "software                          1\n",
       "alumni relations manager (saa)    1\n",
       "dental hygienist                  1\n",
       "academic advisor                  1\n",
       "pharmacist                        1\n",
       "front desk agent                  1\n",
       "director, it                      1\n",
       "writer                            1\n",
       "staff scientist                   1\n",
       "physicist                         1\n",
       "semi-retired                      1\n",
       "Name: Occupation, dtype: int64"
      ]
     },
     "execution_count": 12,
     "metadata": {},
     "output_type": "execute_result"
    }
   ],
   "source": [
    "demographics[demographics.columns[-2]].str.lower().value_counts()"
   ]
  },
  {
   "cell_type": "code",
   "execution_count": 13,
   "metadata": {},
   "outputs": [
    {
     "data": {
      "text/plain": [
       "37.041666666666664"
      ]
     },
     "execution_count": 13,
     "metadata": {},
     "output_type": "execute_result"
    }
   ],
   "source": [
    "# ages\n",
    "demographics[demographics.columns[-4]].mean()"
   ]
  },
  {
   "cell_type": "code",
   "execution_count": 14,
   "metadata": {},
   "outputs": [
    {
     "data": {
      "text/plain": [
       "60"
      ]
     },
     "execution_count": 14,
     "metadata": {},
     "output_type": "execute_result"
    }
   ],
   "source": [
    "demographics[demographics.columns[-4]].max()"
   ]
  },
  {
   "cell_type": "code",
   "execution_count": 15,
   "metadata": {},
   "outputs": [
    {
     "data": {
      "text/plain": [
       "20"
      ]
     },
     "execution_count": 15,
     "metadata": {},
     "output_type": "execute_result"
    }
   ],
   "source": [
    "demographics[demographics.columns[-4]].min()"
   ]
  },
  {
   "cell_type": "code",
   "execution_count": 16,
   "metadata": {},
   "outputs": [
    {
     "data": {
      "text/plain": [
       "System  Age  Occupation                    \n",
       "Julie   20   Student                           1\n",
       "        25   Student                           1\n",
       "        26   Graduate Student                  1\n",
       "             Phd Student                       1\n",
       "             Student                           1\n",
       "        29   PhD student                       1\n",
       "        35   Director, IT                      1\n",
       "        37   Staff scientist                   1\n",
       "        40   IT                                1\n",
       "        49   Dental Hygienist                  1\n",
       "        51   Front Desk Agent                  1\n",
       "        60   accounting                        1\n",
       "Lily    26   Marketing Manager                 1\n",
       "        27   Student                           1\n",
       "        28   Graduate Student                  1\n",
       "        33   Software                          1\n",
       "        34   student                           1\n",
       "        40   Academic advisor                  1\n",
       "             Editor                            1\n",
       "        41   Pharmacist                        1\n",
       "             Physicist                         1\n",
       "        46   Alumni Relations Manager (SAA)    1\n",
       "        54   writer                            1\n",
       "        55   semi-retired                      1\n",
       "dtype: int64"
      ]
     },
     "execution_count": 16,
     "metadata": {},
     "output_type": "execute_result"
    }
   ],
   "source": [
    "demographics.groupby(['System','Age','Occupation']).size()"
   ]
  },
  {
   "cell_type": "code",
   "execution_count": 17,
   "metadata": {},
   "outputs": [
    {
     "name": "stdout",
     "output_type": "stream",
     "text": [
      "num of positive words 2006\n",
      "num of negative words 4783\n"
     ]
    }
   ],
   "source": [
    "posArr = []\n",
    "negArr = []\n",
    "for word in open('/Users/kalicornn/Desktop/independent-study/positive-words.txt', 'r').readlines()[35:]:\n",
    "    word = word.rstrip()\n",
    "    posArr.append(word)\n",
    "for word in open('/Users/kalicornn/Desktop/independent-study/negative-words.txt', 'r').readlines()[35:]:\n",
    "    word = word.rstrip()\n",
    "    negArr.append(word)\n",
    "print (\"num of positive words %d\" % len(posArr))\n",
    "print (\"num of negative words %d\" % len(negArr))"
   ]
  },
  {
   "cell_type": "code",
   "execution_count": 18,
   "metadata": {},
   "outputs": [],
   "source": [
    "## sentiment analysis stuff\n",
    "temp = df[df.columns[:-4]]\n",
    "subj_words = temp.drop(temp.columns[1:-21],axis=1)\n",
    "adjs = subj_words[subj_words.columns[:2]]\n",
    "# remove NaN\n",
    "#print(adjs)\n",
    "#subj_words.columns"
   ]
  },
  {
   "cell_type": "code",
   "execution_count": 19,
   "metadata": {},
   "outputs": [
    {
     "name": "stdout",
     "output_type": "stream",
     "text": [
      "8\n"
     ]
    }
   ],
   "source": [
    "adjs2 = adjs.dropna()\n",
    "print(len(adjs)-len(adjs2))"
   ]
  },
  {
   "cell_type": "code",
   "execution_count": 20,
   "metadata": {},
   "outputs": [
    {
     "name": "stdout",
     "output_type": "stream",
     "text": [
      "   System  \\\n",
      "0    Lily   \n",
      "3   Julie   \n",
      "4    Lily   \n",
      "5    Lily   \n",
      "7    Lily   \n",
      "8   Julie   \n",
      "9    Lily   \n",
      "10  Julie   \n",
      "12  Julie   \n",
      "13   Lily   \n",
      "14   Lily   \n",
      "16  Julie   \n",
      "17   Lily   \n",
      "18  Julie   \n",
      "21   Lily   \n",
      "22  Julie   \n",
      "\n",
      "   Provide 5 words (adjectives) to characterize/describe a self-driving vehicle.  \n",
      "0     effortless, pleasant, robotic, time-saving, zen                             \n",
      "3            smooth, safe, intuitive, automated, easy                             \n",
      "4         safe, freedom, easy, self-sufficient, slow                              \n",
      "5               Convenient, Potentially safer, Useful                             \n",
      "7   advanced, futuristic, expensive, efficient, in...                             \n",
      "8      convenient, smart, effective, time saving, new                             \n",
      "9                    exciting hitech cool fun unknown                             \n",
      "10  interesting, high-techy, scary, fascinating, s...                             \n",
      "12  Trusting, high-tech, safer, blind-spot, futuri...                             \n",
      "13                 simple beta future software assist                             \n",
      "14         Futuristic, cautious, useful, boring, safe                             \n",
      "16     useful, beneficial, environmentally sound, new                             \n",
      "17  advanced, safe, technological, autonomy, reliable                             \n",
      "18              Reliable, safe, easy, precise, useful                             \n",
      "21  innovative, convenient, awesome, intelligent, ...                             \n",
      "22  Logical, algorithmic, automated, safe, rule-ab...                             \n"
     ]
    }
   ],
   "source": [
    "print(adjs2)"
   ]
  },
  {
   "cell_type": "code",
   "execution_count": 21,
   "metadata": {},
   "outputs": [
    {
     "data": {
      "text/html": [
       "<div>\n",
       "<style scoped>\n",
       "    .dataframe tbody tr th:only-of-type {\n",
       "        vertical-align: middle;\n",
       "    }\n",
       "\n",
       "    .dataframe tbody tr th {\n",
       "        vertical-align: top;\n",
       "    }\n",
       "\n",
       "    .dataframe thead th {\n",
       "        text-align: right;\n",
       "    }\n",
       "</style>\n",
       "<table border=\"1\" class=\"dataframe\">\n",
       "  <thead>\n",
       "    <tr style=\"text-align: right;\">\n",
       "      <th></th>\n",
       "      <th>System</th>\n",
       "      <th>Provide 5 words (adjectives) to characterize/describe a self-driving vehicle.</th>\n",
       "    </tr>\n",
       "  </thead>\n",
       "  <tbody>\n",
       "    <tr>\n",
       "      <th>0</th>\n",
       "      <td>Lily</td>\n",
       "      <td>[effortless, pleasant, robotic, time-saving, zen]</td>\n",
       "    </tr>\n",
       "    <tr>\n",
       "      <th>3</th>\n",
       "      <td>Julie</td>\n",
       "      <td>[smooth, safe, intuitive, automated, easy]</td>\n",
       "    </tr>\n",
       "    <tr>\n",
       "      <th>4</th>\n",
       "      <td>Lily</td>\n",
       "      <td>[safe, freedom, easy, self-sufficient, slow ]</td>\n",
       "    </tr>\n",
       "    <tr>\n",
       "      <th>5</th>\n",
       "      <td>Lily</td>\n",
       "      <td>[Convenient, Potentially safer, Useful]</td>\n",
       "    </tr>\n",
       "    <tr>\n",
       "      <th>7</th>\n",
       "      <td>Lily</td>\n",
       "      <td>[advanced, futuristic, expensive, efficient, i...</td>\n",
       "    </tr>\n",
       "    <tr>\n",
       "      <th>8</th>\n",
       "      <td>Julie</td>\n",
       "      <td>[convenient, smart, effective, time saving, new]</td>\n",
       "    </tr>\n",
       "    <tr>\n",
       "      <th>9</th>\n",
       "      <td>Lily</td>\n",
       "      <td>[exciting, hitech, cool, fun, unknown]</td>\n",
       "    </tr>\n",
       "    <tr>\n",
       "      <th>10</th>\n",
       "      <td>Julie</td>\n",
       "      <td>[interesting, high-techy, scary, fascinating, ...</td>\n",
       "    </tr>\n",
       "    <tr>\n",
       "      <th>12</th>\n",
       "      <td>Julie</td>\n",
       "      <td>[Trusting, high-tech, safer, blind-spot, futur...</td>\n",
       "    </tr>\n",
       "    <tr>\n",
       "      <th>13</th>\n",
       "      <td>Lily</td>\n",
       "      <td>[simple, beta, future, software, assist]</td>\n",
       "    </tr>\n",
       "    <tr>\n",
       "      <th>14</th>\n",
       "      <td>Lily</td>\n",
       "      <td>[Futuristic, cautious, useful, boring, safe]</td>\n",
       "    </tr>\n",
       "    <tr>\n",
       "      <th>16</th>\n",
       "      <td>Julie</td>\n",
       "      <td>[useful, beneficial, environmentally sound, new]</td>\n",
       "    </tr>\n",
       "    <tr>\n",
       "      <th>17</th>\n",
       "      <td>Lily</td>\n",
       "      <td>[advanced, safe, technological, autonomy, reli...</td>\n",
       "    </tr>\n",
       "    <tr>\n",
       "      <th>18</th>\n",
       "      <td>Julie</td>\n",
       "      <td>[Reliable, safe, easy, precise, useful]</td>\n",
       "    </tr>\n",
       "    <tr>\n",
       "      <th>21</th>\n",
       "      <td>Lily</td>\n",
       "      <td>[innovative, convenient, awesome, intelligent,...</td>\n",
       "    </tr>\n",
       "    <tr>\n",
       "      <th>22</th>\n",
       "      <td>Julie</td>\n",
       "      <td>[Logical, algorithmic, automated, safe, rule-a...</td>\n",
       "    </tr>\n",
       "  </tbody>\n",
       "</table>\n",
       "</div>"
      ],
      "text/plain": [
       "   System  \\\n",
       "0    Lily   \n",
       "3   Julie   \n",
       "4    Lily   \n",
       "5    Lily   \n",
       "7    Lily   \n",
       "8   Julie   \n",
       "9    Lily   \n",
       "10  Julie   \n",
       "12  Julie   \n",
       "13   Lily   \n",
       "14   Lily   \n",
       "16  Julie   \n",
       "17   Lily   \n",
       "18  Julie   \n",
       "21   Lily   \n",
       "22  Julie   \n",
       "\n",
       "   Provide 5 words (adjectives) to characterize/describe a self-driving vehicle.  \n",
       "0   [effortless, pleasant, robotic, time-saving, zen]                             \n",
       "3          [smooth, safe, intuitive, automated, easy]                             \n",
       "4       [safe, freedom, easy, self-sufficient, slow ]                             \n",
       "5             [Convenient, Potentially safer, Useful]                             \n",
       "7   [advanced, futuristic, expensive, efficient, i...                             \n",
       "8    [convenient, smart, effective, time saving, new]                             \n",
       "9              [exciting, hitech, cool, fun, unknown]                             \n",
       "10  [interesting, high-techy, scary, fascinating, ...                             \n",
       "12  [Trusting, high-tech, safer, blind-spot, futur...                             \n",
       "13           [simple, beta, future, software, assist]                             \n",
       "14       [Futuristic, cautious, useful, boring, safe]                             \n",
       "16   [useful, beneficial, environmentally sound, new]                             \n",
       "17  [advanced, safe, technological, autonomy, reli...                             \n",
       "18            [Reliable, safe, easy, precise, useful]                             \n",
       "21  [innovative, convenient, awesome, intelligent,...                             \n",
       "22  [Logical, algorithmic, automated, safe, rule-a...                             "
      ]
     },
     "execution_count": 21,
     "metadata": {},
     "output_type": "execute_result"
    }
   ],
   "source": [
    "import re\n",
    "adjs2 = adjs.dropna()\n",
    "for index, row in adjs2.iterrows():\n",
    "    if ',' in row[1]:\n",
    "        row[1] = re.split(', ',row[1])\n",
    "    else:\n",
    "        row[1] = re.split(' ', row[1])\n",
    "adjs2\n"
   ]
  },
  {
   "cell_type": "code",
   "execution_count": 22,
   "metadata": {},
   "outputs": [
    {
     "data": {
      "text/html": [
       "<div>\n",
       "<style scoped>\n",
       "    .dataframe tbody tr th:only-of-type {\n",
       "        vertical-align: middle;\n",
       "    }\n",
       "\n",
       "    .dataframe tbody tr th {\n",
       "        vertical-align: top;\n",
       "    }\n",
       "\n",
       "    .dataframe thead th {\n",
       "        text-align: right;\n",
       "    }\n",
       "</style>\n",
       "<table border=\"1\" class=\"dataframe\">\n",
       "  <thead>\n",
       "    <tr style=\"text-align: right;\">\n",
       "      <th></th>\n",
       "      <th>Provide 5 words (adjectives) to characterize/describe a self-driving vehicle.</th>\n",
       "    </tr>\n",
       "    <tr>\n",
       "      <th>System</th>\n",
       "      <th></th>\n",
       "    </tr>\n",
       "  </thead>\n",
       "  <tbody>\n",
       "    <tr>\n",
       "      <th>Julie</th>\n",
       "      <td>7</td>\n",
       "    </tr>\n",
       "    <tr>\n",
       "      <th>Lily</th>\n",
       "      <td>9</td>\n",
       "    </tr>\n",
       "  </tbody>\n",
       "</table>\n",
       "</div>"
      ],
      "text/plain": [
       "        Provide 5 words (adjectives) to characterize/describe a self-driving vehicle.\n",
       "System                                                                               \n",
       "Julie                                                   7                            \n",
       "Lily                                                    9                            "
      ]
     },
     "execution_count": 22,
     "metadata": {},
     "output_type": "execute_result"
    }
   ],
   "source": [
    "adjs_group_by_system = adjs2.groupby(['System'])\n",
    "adjs_group_by_system.count()"
   ]
  },
  {
   "cell_type": "code",
   "execution_count": 23,
   "metadata": {},
   "outputs": [
    {
     "name": "stdout",
     "output_type": "stream",
     "text": [
      "2 0\n",
      "4 0\n",
      "4 0\n",
      "2 0\n",
      "4 -1\n",
      "3 0\n",
      "3 -1\n",
      "3 -1\n",
      "2 0\n"
     ]
    },
    {
     "name": "stderr",
     "output_type": "stream",
     "text": [
      "/anaconda3/lib/python3.7/site-packages/pandas/core/indexing.py:362: SettingWithCopyWarning: \n",
      "A value is trying to be set on a copy of a slice from a DataFrame.\n",
      "Try using .loc[row_indexer,col_indexer] = value instead\n",
      "\n",
      "See the caveats in the documentation: http://pandas.pydata.org/pandas-docs/stable/indexing.html#indexing-view-versus-copy\n",
      "  self.obj[key] = _infer_fill_value(value)\n",
      "/anaconda3/lib/python3.7/site-packages/pandas/core/indexing.py:543: SettingWithCopyWarning: \n",
      "A value is trying to be set on a copy of a slice from a DataFrame.\n",
      "Try using .loc[row_indexer,col_indexer] = value instead\n",
      "\n",
      "See the caveats in the documentation: http://pandas.pydata.org/pandas-docs/stable/indexing.html#indexing-view-versus-copy\n",
      "  self.obj[item] = s\n"
     ]
    },
    {
     "name": "stdout",
     "output_type": "stream",
     "text": [
      "0 0\n",
      "3 -1\n",
      "2 0\n",
      "3 0\n",
      "5 0\n",
      "5 0\n",
      "2 0\n"
     ]
    }
   ],
   "source": [
    "adjs2Temp = adjs2\n",
    "for index, row in adjs2Temp.iterrows():\n",
    "    posNum = 0\n",
    "    negNum = 0\n",
    "    for word in row[1]:\n",
    "        word = word.lower()\n",
    "        if word in posArr:\n",
    "            posNum += 1\n",
    "        if word in negArr:\n",
    "            negNum -= 1\n",
    "    total = posNum + negNum\n",
    "    print(posNum, negNum)\n",
    "    adjs2.loc[index,'Total'] = total"
   ]
  },
  {
   "cell_type": "code",
   "execution_count": 24,
   "metadata": {},
   "outputs": [
    {
     "data": {
      "text/html": [
       "<div>\n",
       "<style scoped>\n",
       "    .dataframe tbody tr th:only-of-type {\n",
       "        vertical-align: middle;\n",
       "    }\n",
       "\n",
       "    .dataframe tbody tr th {\n",
       "        vertical-align: top;\n",
       "    }\n",
       "\n",
       "    .dataframe thead th {\n",
       "        text-align: right;\n",
       "    }\n",
       "</style>\n",
       "<table border=\"1\" class=\"dataframe\">\n",
       "  <thead>\n",
       "    <tr style=\"text-align: right;\">\n",
       "      <th></th>\n",
       "      <th>System</th>\n",
       "      <th>Provide 5 words (adjectives) to characterize/describe a self-driving vehicle.</th>\n",
       "      <th>Total</th>\n",
       "    </tr>\n",
       "  </thead>\n",
       "  <tbody>\n",
       "    <tr>\n",
       "      <th>0</th>\n",
       "      <td>Lily</td>\n",
       "      <td>[effortless, pleasant, robotic, time-saving, zen]</td>\n",
       "      <td>2.0</td>\n",
       "    </tr>\n",
       "    <tr>\n",
       "      <th>3</th>\n",
       "      <td>Julie</td>\n",
       "      <td>[smooth, safe, intuitive, automated, easy]</td>\n",
       "      <td>4.0</td>\n",
       "    </tr>\n",
       "    <tr>\n",
       "      <th>4</th>\n",
       "      <td>Lily</td>\n",
       "      <td>[safe, freedom, easy, self-sufficient, slow ]</td>\n",
       "      <td>4.0</td>\n",
       "    </tr>\n",
       "    <tr>\n",
       "      <th>5</th>\n",
       "      <td>Lily</td>\n",
       "      <td>[Convenient, Potentially safer, Useful]</td>\n",
       "      <td>2.0</td>\n",
       "    </tr>\n",
       "    <tr>\n",
       "      <th>7</th>\n",
       "      <td>Lily</td>\n",
       "      <td>[advanced, futuristic, expensive, efficient, i...</td>\n",
       "      <td>3.0</td>\n",
       "    </tr>\n",
       "    <tr>\n",
       "      <th>8</th>\n",
       "      <td>Julie</td>\n",
       "      <td>[convenient, smart, effective, time saving, new]</td>\n",
       "      <td>3.0</td>\n",
       "    </tr>\n",
       "    <tr>\n",
       "      <th>9</th>\n",
       "      <td>Lily</td>\n",
       "      <td>[exciting, hitech, cool, fun, unknown]</td>\n",
       "      <td>2.0</td>\n",
       "    </tr>\n",
       "    <tr>\n",
       "      <th>10</th>\n",
       "      <td>Julie</td>\n",
       "      <td>[interesting, high-techy, scary, fascinating, ...</td>\n",
       "      <td>2.0</td>\n",
       "    </tr>\n",
       "    <tr>\n",
       "      <th>12</th>\n",
       "      <td>Julie</td>\n",
       "      <td>[Trusting, high-tech, safer, blind-spot, futur...</td>\n",
       "      <td>2.0</td>\n",
       "    </tr>\n",
       "    <tr>\n",
       "      <th>13</th>\n",
       "      <td>Lily</td>\n",
       "      <td>[simple, beta, future, software, assist]</td>\n",
       "      <td>0.0</td>\n",
       "    </tr>\n",
       "    <tr>\n",
       "      <th>14</th>\n",
       "      <td>Lily</td>\n",
       "      <td>[Futuristic, cautious, useful, boring, safe]</td>\n",
       "      <td>2.0</td>\n",
       "    </tr>\n",
       "    <tr>\n",
       "      <th>16</th>\n",
       "      <td>Julie</td>\n",
       "      <td>[useful, beneficial, environmentally sound, new]</td>\n",
       "      <td>2.0</td>\n",
       "    </tr>\n",
       "    <tr>\n",
       "      <th>17</th>\n",
       "      <td>Lily</td>\n",
       "      <td>[advanced, safe, technological, autonomy, reli...</td>\n",
       "      <td>3.0</td>\n",
       "    </tr>\n",
       "    <tr>\n",
       "      <th>18</th>\n",
       "      <td>Julie</td>\n",
       "      <td>[Reliable, safe, easy, precise, useful]</td>\n",
       "      <td>5.0</td>\n",
       "    </tr>\n",
       "    <tr>\n",
       "      <th>21</th>\n",
       "      <td>Lily</td>\n",
       "      <td>[innovative, convenient, awesome, intelligent,...</td>\n",
       "      <td>5.0</td>\n",
       "    </tr>\n",
       "    <tr>\n",
       "      <th>22</th>\n",
       "      <td>Julie</td>\n",
       "      <td>[Logical, algorithmic, automated, safe, rule-a...</td>\n",
       "      <td>2.0</td>\n",
       "    </tr>\n",
       "  </tbody>\n",
       "</table>\n",
       "</div>"
      ],
      "text/plain": [
       "   System  \\\n",
       "0    Lily   \n",
       "3   Julie   \n",
       "4    Lily   \n",
       "5    Lily   \n",
       "7    Lily   \n",
       "8   Julie   \n",
       "9    Lily   \n",
       "10  Julie   \n",
       "12  Julie   \n",
       "13   Lily   \n",
       "14   Lily   \n",
       "16  Julie   \n",
       "17   Lily   \n",
       "18  Julie   \n",
       "21   Lily   \n",
       "22  Julie   \n",
       "\n",
       "   Provide 5 words (adjectives) to characterize/describe a self-driving vehicle.  \\\n",
       "0   [effortless, pleasant, robotic, time-saving, zen]                              \n",
       "3          [smooth, safe, intuitive, automated, easy]                              \n",
       "4       [safe, freedom, easy, self-sufficient, slow ]                              \n",
       "5             [Convenient, Potentially safer, Useful]                              \n",
       "7   [advanced, futuristic, expensive, efficient, i...                              \n",
       "8    [convenient, smart, effective, time saving, new]                              \n",
       "9              [exciting, hitech, cool, fun, unknown]                              \n",
       "10  [interesting, high-techy, scary, fascinating, ...                              \n",
       "12  [Trusting, high-tech, safer, blind-spot, futur...                              \n",
       "13           [simple, beta, future, software, assist]                              \n",
       "14       [Futuristic, cautious, useful, boring, safe]                              \n",
       "16   [useful, beneficial, environmentally sound, new]                              \n",
       "17  [advanced, safe, technological, autonomy, reli...                              \n",
       "18            [Reliable, safe, easy, precise, useful]                              \n",
       "21  [innovative, convenient, awesome, intelligent,...                              \n",
       "22  [Logical, algorithmic, automated, safe, rule-a...                              \n",
       "\n",
       "    Total  \n",
       "0     2.0  \n",
       "3     4.0  \n",
       "4     4.0  \n",
       "5     2.0  \n",
       "7     3.0  \n",
       "8     3.0  \n",
       "9     2.0  \n",
       "10    2.0  \n",
       "12    2.0  \n",
       "13    0.0  \n",
       "14    2.0  \n",
       "16    2.0  \n",
       "17    3.0  \n",
       "18    5.0  \n",
       "21    5.0  \n",
       "22    2.0  "
      ]
     },
     "execution_count": 24,
     "metadata": {},
     "output_type": "execute_result"
    }
   ],
   "source": [
    "adjs2\n",
    "# Total: 0 <= x <= 5"
   ]
  },
  {
   "cell_type": "code",
   "execution_count": 25,
   "metadata": {},
   "outputs": [
    {
     "data": {
      "text/plain": [
       "0.0"
      ]
     },
     "execution_count": 25,
     "metadata": {},
     "output_type": "execute_result"
    }
   ],
   "source": [
    "adjs2[adjs2.columns[2]].min()"
   ]
  },
  {
   "cell_type": "code",
   "execution_count": 26,
   "metadata": {},
   "outputs": [
    {
     "data": {
      "text/plain": [
       "5.0"
      ]
     },
     "execution_count": 26,
     "metadata": {},
     "output_type": "execute_result"
    }
   ],
   "source": [
    "adjs2[adjs2.columns[2]].max()"
   ]
  },
  {
   "cell_type": "code",
   "execution_count": 27,
   "metadata": {},
   "outputs": [
    {
     "data": {
      "text/html": [
       "<div>\n",
       "<style scoped>\n",
       "    .dataframe tbody tr th:only-of-type {\n",
       "        vertical-align: middle;\n",
       "    }\n",
       "\n",
       "    .dataframe tbody tr th {\n",
       "        vertical-align: top;\n",
       "    }\n",
       "\n",
       "    .dataframe thead th {\n",
       "        text-align: right;\n",
       "    }\n",
       "</style>\n",
       "<table border=\"1\" class=\"dataframe\">\n",
       "  <thead>\n",
       "    <tr style=\"text-align: right;\">\n",
       "      <th></th>\n",
       "      <th>Total</th>\n",
       "    </tr>\n",
       "    <tr>\n",
       "      <th>System</th>\n",
       "      <th></th>\n",
       "    </tr>\n",
       "  </thead>\n",
       "  <tbody>\n",
       "    <tr>\n",
       "      <th>Julie</th>\n",
       "      <td>20.0</td>\n",
       "    </tr>\n",
       "    <tr>\n",
       "      <th>Lily</th>\n",
       "      <td>23.0</td>\n",
       "    </tr>\n",
       "  </tbody>\n",
       "</table>\n",
       "</div>"
      ],
      "text/plain": [
       "        Total\n",
       "System       \n",
       "Julie    20.0\n",
       "Lily     23.0"
      ]
     },
     "execution_count": 27,
     "metadata": {},
     "output_type": "execute_result"
    }
   ],
   "source": [
    "adjs_group_by_system = adjs2.groupby(['System'])\n",
    "adjs_group_by_system.sum()"
   ]
  },
  {
   "cell_type": "code",
   "execution_count": 28,
   "metadata": {},
   "outputs": [
    {
     "data": {
      "text/html": [
       "<div>\n",
       "<style scoped>\n",
       "    .dataframe tbody tr th:only-of-type {\n",
       "        vertical-align: middle;\n",
       "    }\n",
       "\n",
       "    .dataframe tbody tr th {\n",
       "        vertical-align: top;\n",
       "    }\n",
       "\n",
       "    .dataframe thead th {\n",
       "        text-align: right;\n",
       "    }\n",
       "</style>\n",
       "<table border=\"1\" class=\"dataframe\">\n",
       "  <thead>\n",
       "    <tr style=\"text-align: right;\">\n",
       "      <th></th>\n",
       "      <th>Total</th>\n",
       "    </tr>\n",
       "    <tr>\n",
       "      <th>System</th>\n",
       "      <th></th>\n",
       "    </tr>\n",
       "  </thead>\n",
       "  <tbody>\n",
       "    <tr>\n",
       "      <th>Julie</th>\n",
       "      <td>2.857143</td>\n",
       "    </tr>\n",
       "    <tr>\n",
       "      <th>Lily</th>\n",
       "      <td>2.555556</td>\n",
       "    </tr>\n",
       "  </tbody>\n",
       "</table>\n",
       "</div>"
      ],
      "text/plain": [
       "           Total\n",
       "System          \n",
       "Julie   2.857143\n",
       "Lily    2.555556"
      ]
     },
     "execution_count": 28,
     "metadata": {},
     "output_type": "execute_result"
    }
   ],
   "source": [
    "# Julie had slightly more positive words\n",
    "adjs_group_by_system.mean()"
   ]
  },
  {
   "cell_type": "code",
   "execution_count": 29,
   "metadata": {},
   "outputs": [
    {
     "data": {
      "text/plain": [
       "System  Total\n",
       "Julie   2.0      4\n",
       "        3.0      1\n",
       "        4.0      1\n",
       "        5.0      1\n",
       "Lily    0.0      1\n",
       "        2.0      4\n",
       "        3.0      2\n",
       "        4.0      1\n",
       "        5.0      1\n",
       "dtype: int64"
      ]
     },
     "execution_count": 29,
     "metadata": {},
     "output_type": "execute_result"
    }
   ],
   "source": [
    "adjs_group_by_system_total = adjs2.groupby(['System','Total'])\n",
    "adjs_group_by_system_total.size()"
   ]
  },
  {
   "cell_type": "code",
   "execution_count": 30,
   "metadata": {},
   "outputs": [
    {
     "data": {
      "text/html": [
       "<div>\n",
       "<style scoped>\n",
       "    .dataframe tbody tr th:only-of-type {\n",
       "        vertical-align: middle;\n",
       "    }\n",
       "\n",
       "    .dataframe tbody tr th {\n",
       "        vertical-align: top;\n",
       "    }\n",
       "\n",
       "    .dataframe thead th {\n",
       "        text-align: right;\n",
       "    }\n",
       "</style>\n",
       "<table border=\"1\" class=\"dataframe\">\n",
       "  <thead>\n",
       "    <tr style=\"text-align: right;\">\n",
       "      <th></th>\n",
       "      <th>System</th>\n",
       "      <th>Provide 5 words (adjectives) to characterize/describe a self-driving vehicle.</th>\n",
       "    </tr>\n",
       "  </thead>\n",
       "  <tbody>\n",
       "    <tr>\n",
       "      <th>0</th>\n",
       "      <td>Lily</td>\n",
       "      <td>[effortless, pleasant, robotic, time, saving, ...</td>\n",
       "    </tr>\n",
       "    <tr>\n",
       "      <th>3</th>\n",
       "      <td>Julie</td>\n",
       "      <td>[smooth, safe, intuitive, automated, easy]</td>\n",
       "    </tr>\n",
       "    <tr>\n",
       "      <th>4</th>\n",
       "      <td>Lily</td>\n",
       "      <td>[safe, freedom, easy, self, sufficient, slow, ]</td>\n",
       "    </tr>\n",
       "    <tr>\n",
       "      <th>5</th>\n",
       "      <td>Lily</td>\n",
       "      <td>[Convenient, Potentially, safer, Useful]</td>\n",
       "    </tr>\n",
       "    <tr>\n",
       "      <th>7</th>\n",
       "      <td>Lily</td>\n",
       "      <td>[advanced, futuristic, expensive, efficient, i...</td>\n",
       "    </tr>\n",
       "    <tr>\n",
       "      <th>8</th>\n",
       "      <td>Julie</td>\n",
       "      <td>[convenient, smart, effective, time, saving, new]</td>\n",
       "    </tr>\n",
       "    <tr>\n",
       "      <th>9</th>\n",
       "      <td>Lily</td>\n",
       "      <td>[exciting, hitech, cool, fun, unknown]</td>\n",
       "    </tr>\n",
       "    <tr>\n",
       "      <th>10</th>\n",
       "      <td>Julie</td>\n",
       "      <td>[interesting, high, techy, scary, fascinating,...</td>\n",
       "    </tr>\n",
       "    <tr>\n",
       "      <th>12</th>\n",
       "      <td>Julie</td>\n",
       "      <td>[Trusting, high, tech, safer, blind, spot, fut...</td>\n",
       "    </tr>\n",
       "    <tr>\n",
       "      <th>13</th>\n",
       "      <td>Lily</td>\n",
       "      <td>[simple, beta, future, software, assist]</td>\n",
       "    </tr>\n",
       "    <tr>\n",
       "      <th>14</th>\n",
       "      <td>Lily</td>\n",
       "      <td>[Futuristic, cautious, useful, boring, safe]</td>\n",
       "    </tr>\n",
       "    <tr>\n",
       "      <th>16</th>\n",
       "      <td>Julie</td>\n",
       "      <td>[useful, beneficial, environmentally, sound, new]</td>\n",
       "    </tr>\n",
       "    <tr>\n",
       "      <th>17</th>\n",
       "      <td>Lily</td>\n",
       "      <td>[advanced, safe, technological, autonomy, reli...</td>\n",
       "    </tr>\n",
       "    <tr>\n",
       "      <th>18</th>\n",
       "      <td>Julie</td>\n",
       "      <td>[Reliable, safe, easy, precise, useful]</td>\n",
       "    </tr>\n",
       "    <tr>\n",
       "      <th>21</th>\n",
       "      <td>Lily</td>\n",
       "      <td>[innovative, convenient, awesome, intelligent,...</td>\n",
       "    </tr>\n",
       "    <tr>\n",
       "      <th>22</th>\n",
       "      <td>Julie</td>\n",
       "      <td>[Logical, algorithmic, automated, safe, rule, ...</td>\n",
       "    </tr>\n",
       "  </tbody>\n",
       "</table>\n",
       "</div>"
      ],
      "text/plain": [
       "   System  \\\n",
       "0    Lily   \n",
       "3   Julie   \n",
       "4    Lily   \n",
       "5    Lily   \n",
       "7    Lily   \n",
       "8   Julie   \n",
       "9    Lily   \n",
       "10  Julie   \n",
       "12  Julie   \n",
       "13   Lily   \n",
       "14   Lily   \n",
       "16  Julie   \n",
       "17   Lily   \n",
       "18  Julie   \n",
       "21   Lily   \n",
       "22  Julie   \n",
       "\n",
       "   Provide 5 words (adjectives) to characterize/describe a self-driving vehicle.  \n",
       "0   [effortless, pleasant, robotic, time, saving, ...                             \n",
       "3          [smooth, safe, intuitive, automated, easy]                             \n",
       "4     [safe, freedom, easy, self, sufficient, slow, ]                             \n",
       "5            [Convenient, Potentially, safer, Useful]                             \n",
       "7   [advanced, futuristic, expensive, efficient, i...                             \n",
       "8   [convenient, smart, effective, time, saving, new]                             \n",
       "9              [exciting, hitech, cool, fun, unknown]                             \n",
       "10  [interesting, high, techy, scary, fascinating,...                             \n",
       "12  [Trusting, high, tech, safer, blind, spot, fut...                             \n",
       "13           [simple, beta, future, software, assist]                             \n",
       "14       [Futuristic, cautious, useful, boring, safe]                             \n",
       "16  [useful, beneficial, environmentally, sound, new]                             \n",
       "17  [advanced, safe, technological, autonomy, reli...                             \n",
       "18            [Reliable, safe, easy, precise, useful]                             \n",
       "21  [innovative, convenient, awesome, intelligent,...                             \n",
       "22  [Logical, algorithmic, automated, safe, rule, ...                             "
      ]
     },
     "execution_count": 30,
     "metadata": {},
     "output_type": "execute_result"
    }
   ],
   "source": [
    "import re\n",
    "adjs3 = adjs.dropna()\n",
    "for index, row in adjs3.iterrows():\n",
    "    row[1] = row[1].replace('-',' ')\n",
    "    if ',' in row[1] and ' ' not in row[1]:\n",
    "        row[1] = re.split(', ',row[1])\n",
    "    else:\n",
    "        row[1] = re.split(', | ', row[1])\n",
    "\n",
    "adjs3"
   ]
  },
  {
   "cell_type": "code",
   "execution_count": 31,
   "metadata": {},
   "outputs": [
    {
     "name": "stdout",
     "output_type": "stream",
     "text": [
      "2 0\n",
      "4 0\n",
      "4 -1\n",
      "2 0\n",
      "4 -1\n",
      "3 0\n",
      "3 -1\n",
      "3 -1\n",
      "2 -1\n",
      "0 0\n",
      "3 -1\n",
      "2 0\n",
      "3 0\n",
      "5 0\n",
      "5 0\n",
      "2 0\n"
     ]
    },
    {
     "name": "stderr",
     "output_type": "stream",
     "text": [
      "/anaconda3/lib/python3.7/site-packages/pandas/core/indexing.py:362: SettingWithCopyWarning: \n",
      "A value is trying to be set on a copy of a slice from a DataFrame.\n",
      "Try using .loc[row_indexer,col_indexer] = value instead\n",
      "\n",
      "See the caveats in the documentation: http://pandas.pydata.org/pandas-docs/stable/indexing.html#indexing-view-versus-copy\n",
      "  self.obj[key] = _infer_fill_value(value)\n",
      "/anaconda3/lib/python3.7/site-packages/pandas/core/indexing.py:543: SettingWithCopyWarning: \n",
      "A value is trying to be set on a copy of a slice from a DataFrame.\n",
      "Try using .loc[row_indexer,col_indexer] = value instead\n",
      "\n",
      "See the caveats in the documentation: http://pandas.pydata.org/pandas-docs/stable/indexing.html#indexing-view-versus-copy\n",
      "  self.obj[item] = s\n"
     ]
    },
    {
     "data": {
      "text/html": [
       "<div>\n",
       "<style scoped>\n",
       "    .dataframe tbody tr th:only-of-type {\n",
       "        vertical-align: middle;\n",
       "    }\n",
       "\n",
       "    .dataframe tbody tr th {\n",
       "        vertical-align: top;\n",
       "    }\n",
       "\n",
       "    .dataframe thead th {\n",
       "        text-align: right;\n",
       "    }\n",
       "</style>\n",
       "<table border=\"1\" class=\"dataframe\">\n",
       "  <thead>\n",
       "    <tr style=\"text-align: right;\">\n",
       "      <th></th>\n",
       "      <th>System</th>\n",
       "      <th>Provide 5 words (adjectives) to characterize/describe a self-driving vehicle.</th>\n",
       "      <th>Total</th>\n",
       "      <th>Total2</th>\n",
       "    </tr>\n",
       "  </thead>\n",
       "  <tbody>\n",
       "    <tr>\n",
       "      <th>0</th>\n",
       "      <td>Lily</td>\n",
       "      <td>[effortless, pleasant, robotic, time-saving, zen]</td>\n",
       "      <td>2.0</td>\n",
       "      <td>2.0</td>\n",
       "    </tr>\n",
       "    <tr>\n",
       "      <th>3</th>\n",
       "      <td>Julie</td>\n",
       "      <td>[smooth, safe, intuitive, automated, easy]</td>\n",
       "      <td>4.0</td>\n",
       "      <td>4.0</td>\n",
       "    </tr>\n",
       "    <tr>\n",
       "      <th>4</th>\n",
       "      <td>Lily</td>\n",
       "      <td>[safe, freedom, easy, self-sufficient, slow ]</td>\n",
       "      <td>4.0</td>\n",
       "      <td>3.0</td>\n",
       "    </tr>\n",
       "    <tr>\n",
       "      <th>5</th>\n",
       "      <td>Lily</td>\n",
       "      <td>[Convenient, Potentially safer, Useful]</td>\n",
       "      <td>2.0</td>\n",
       "      <td>2.0</td>\n",
       "    </tr>\n",
       "    <tr>\n",
       "      <th>7</th>\n",
       "      <td>Lily</td>\n",
       "      <td>[advanced, futuristic, expensive, efficient, i...</td>\n",
       "      <td>3.0</td>\n",
       "      <td>3.0</td>\n",
       "    </tr>\n",
       "    <tr>\n",
       "      <th>8</th>\n",
       "      <td>Julie</td>\n",
       "      <td>[convenient, smart, effective, time saving, new]</td>\n",
       "      <td>3.0</td>\n",
       "      <td>3.0</td>\n",
       "    </tr>\n",
       "    <tr>\n",
       "      <th>9</th>\n",
       "      <td>Lily</td>\n",
       "      <td>[exciting, hitech, cool, fun, unknown]</td>\n",
       "      <td>2.0</td>\n",
       "      <td>2.0</td>\n",
       "    </tr>\n",
       "    <tr>\n",
       "      <th>10</th>\n",
       "      <td>Julie</td>\n",
       "      <td>[interesting, high-techy, scary, fascinating, ...</td>\n",
       "      <td>2.0</td>\n",
       "      <td>2.0</td>\n",
       "    </tr>\n",
       "    <tr>\n",
       "      <th>12</th>\n",
       "      <td>Julie</td>\n",
       "      <td>[Trusting, high-tech, safer, blind-spot, futur...</td>\n",
       "      <td>2.0</td>\n",
       "      <td>1.0</td>\n",
       "    </tr>\n",
       "    <tr>\n",
       "      <th>13</th>\n",
       "      <td>Lily</td>\n",
       "      <td>[simple, beta, future, software, assist]</td>\n",
       "      <td>0.0</td>\n",
       "      <td>0.0</td>\n",
       "    </tr>\n",
       "    <tr>\n",
       "      <th>14</th>\n",
       "      <td>Lily</td>\n",
       "      <td>[Futuristic, cautious, useful, boring, safe]</td>\n",
       "      <td>2.0</td>\n",
       "      <td>2.0</td>\n",
       "    </tr>\n",
       "    <tr>\n",
       "      <th>16</th>\n",
       "      <td>Julie</td>\n",
       "      <td>[useful, beneficial, environmentally sound, new]</td>\n",
       "      <td>2.0</td>\n",
       "      <td>2.0</td>\n",
       "    </tr>\n",
       "    <tr>\n",
       "      <th>17</th>\n",
       "      <td>Lily</td>\n",
       "      <td>[advanced, safe, technological, autonomy, reli...</td>\n",
       "      <td>3.0</td>\n",
       "      <td>3.0</td>\n",
       "    </tr>\n",
       "    <tr>\n",
       "      <th>18</th>\n",
       "      <td>Julie</td>\n",
       "      <td>[Reliable, safe, easy, precise, useful]</td>\n",
       "      <td>5.0</td>\n",
       "      <td>5.0</td>\n",
       "    </tr>\n",
       "    <tr>\n",
       "      <th>21</th>\n",
       "      <td>Lily</td>\n",
       "      <td>[innovative, convenient, awesome, intelligent,...</td>\n",
       "      <td>5.0</td>\n",
       "      <td>5.0</td>\n",
       "    </tr>\n",
       "    <tr>\n",
       "      <th>22</th>\n",
       "      <td>Julie</td>\n",
       "      <td>[Logical, algorithmic, automated, safe, rule-a...</td>\n",
       "      <td>2.0</td>\n",
       "      <td>2.0</td>\n",
       "    </tr>\n",
       "  </tbody>\n",
       "</table>\n",
       "</div>"
      ],
      "text/plain": [
       "   System  \\\n",
       "0    Lily   \n",
       "3   Julie   \n",
       "4    Lily   \n",
       "5    Lily   \n",
       "7    Lily   \n",
       "8   Julie   \n",
       "9    Lily   \n",
       "10  Julie   \n",
       "12  Julie   \n",
       "13   Lily   \n",
       "14   Lily   \n",
       "16  Julie   \n",
       "17   Lily   \n",
       "18  Julie   \n",
       "21   Lily   \n",
       "22  Julie   \n",
       "\n",
       "   Provide 5 words (adjectives) to characterize/describe a self-driving vehicle.  \\\n",
       "0   [effortless, pleasant, robotic, time-saving, zen]                              \n",
       "3          [smooth, safe, intuitive, automated, easy]                              \n",
       "4       [safe, freedom, easy, self-sufficient, slow ]                              \n",
       "5             [Convenient, Potentially safer, Useful]                              \n",
       "7   [advanced, futuristic, expensive, efficient, i...                              \n",
       "8    [convenient, smart, effective, time saving, new]                              \n",
       "9              [exciting, hitech, cool, fun, unknown]                              \n",
       "10  [interesting, high-techy, scary, fascinating, ...                              \n",
       "12  [Trusting, high-tech, safer, blind-spot, futur...                              \n",
       "13           [simple, beta, future, software, assist]                              \n",
       "14       [Futuristic, cautious, useful, boring, safe]                              \n",
       "16   [useful, beneficial, environmentally sound, new]                              \n",
       "17  [advanced, safe, technological, autonomy, reli...                              \n",
       "18            [Reliable, safe, easy, precise, useful]                              \n",
       "21  [innovative, convenient, awesome, intelligent,...                              \n",
       "22  [Logical, algorithmic, automated, safe, rule-a...                              \n",
       "\n",
       "    Total  Total2  \n",
       "0     2.0     2.0  \n",
       "3     4.0     4.0  \n",
       "4     4.0     3.0  \n",
       "5     2.0     2.0  \n",
       "7     3.0     3.0  \n",
       "8     3.0     3.0  \n",
       "9     2.0     2.0  \n",
       "10    2.0     2.0  \n",
       "12    2.0     1.0  \n",
       "13    0.0     0.0  \n",
       "14    2.0     2.0  \n",
       "16    2.0     2.0  \n",
       "17    3.0     3.0  \n",
       "18    5.0     5.0  \n",
       "21    5.0     5.0  \n",
       "22    2.0     2.0  "
      ]
     },
     "execution_count": 31,
     "metadata": {},
     "output_type": "execute_result"
    }
   ],
   "source": [
    "adjs2Temp2 = adjs3\n",
    "for index, row in adjs2Temp2.iterrows():\n",
    "    posNum = 0\n",
    "    negNum = 0\n",
    "    for word in row[1]:\n",
    "        word = word.lower()\n",
    "        if word in posArr:\n",
    "            posNum += 1\n",
    "        if word in negArr:\n",
    "            negNum -= 1\n",
    "    total = posNum + negNum\n",
    "    print(posNum, negNum)\n",
    "    adjs2.loc[index,'Total2'] = total\n",
    "adjs2"
   ]
  },
  {
   "cell_type": "code",
   "execution_count": 52,
   "metadata": {},
   "outputs": [],
   "source": [
    "# Questions where participants asked to rate words on likert scale\n",
    "temp = df[df.columns[:-4]]\n",
    "choice_words = temp.drop(temp.columns[1:-20],axis=1)\n",
    "#choice_words.columns"
   ]
  },
  {
   "cell_type": "code",
   "execution_count": 64,
   "metadata": {},
   "outputs": [
    {
     "data": {
      "text/html": [
       "<div>\n",
       "<style scoped>\n",
       "    .dataframe tbody tr th:only-of-type {\n",
       "        vertical-align: middle;\n",
       "    }\n",
       "\n",
       "    .dataframe tbody tr th {\n",
       "        vertical-align: top;\n",
       "    }\n",
       "\n",
       "    .dataframe thead th {\n",
       "        text-align: right;\n",
       "    }\n",
       "</style>\n",
       "<table border=\"1\" class=\"dataframe\">\n",
       "  <thead>\n",
       "    <tr style=\"text-align: right;\">\n",
       "      <th></th>\n",
       "      <th>Please choose the response that best represents how you perceive the self-driving vehicle. (The following words are in alphabetical order.) [Capable]</th>\n",
       "      <th>Please choose the response that best represents how you perceive the self-driving vehicle. (The following words are in alphabetical order.) [Emotional]</th>\n",
       "      <th>Please choose the response that best represents how you perceive the self-driving vehicle. (The following words are in alphabetical order.) [Energetic]</th>\n",
       "      <th>Please choose the response that best represents how you perceive the self-driving vehicle. (The following words are in alphabetical order.) [Indifferent]</th>\n",
       "      <th>Please choose the response that best represents how you perceive the self-driving vehicle. (The following words are in alphabetical order.) [Methodical]</th>\n",
       "      <th>Please choose the response that best represents how you perceive the self-driving vehicle. (The following words are in alphabetical order.) [Predictable]</th>\n",
       "      <th>Please choose the response that best represents how you perceive the self-driving vehicle. (The following words are in alphabetical order.) [Reliable]</th>\n",
       "      <th>Please choose the response that best represents how you perceive the self-driving vehicle. (The following words are in alphabetical order.) [Safe]</th>\n",
       "      <th>Please choose the response that best represents how you perceive the self-driving vehicle. (The following words are in alphabetical order.) [Smart]</th>\n",
       "      <th>Please choose the response that best represents how you perceive the self-driving vehicle. (The following words are in alphabetical order.) [Trustworthy]</th>\n",
       "      <th>Please choose the response that best represents how you feel as a passenger in a self-driving vehicle. (The following words are in alphabetical order.) [Bored]</th>\n",
       "      <th>Please choose the response that best represents how you feel as a passenger in a self-driving vehicle. (The following words are in alphabetical order.) [Calm]</th>\n",
       "      <th>Please choose the response that best represents how you feel as a passenger in a self-driving vehicle. (The following words are in alphabetical order.) [Defensive]</th>\n",
       "      <th>Please choose the response that best represents how you feel as a passenger in a self-driving vehicle. (The following words are in alphabetical order.) [Excited]</th>\n",
       "      <th>Please choose the response that best represents how you feel as a passenger in a self-driving vehicle. (The following words are in alphabetical order.) [Lethargic]</th>\n",
       "      <th>Please choose the response that best represents how you feel as a passenger in a self-driving vehicle. (The following words are in alphabetical order.) [Mindless]</th>\n",
       "      <th>Please choose the response that best represents how you feel as a passenger in a self-driving vehicle. (The following words are in alphabetical order.) [Nervous]</th>\n",
       "      <th>Please choose the response that best represents how you feel as a passenger in a self-driving vehicle. (The following words are in alphabetical order.) [Not in control]</th>\n",
       "      <th>Please choose the response that best represents how you feel as a passenger in a self-driving vehicle. (The following words are in alphabetical order.) [Relaxed]</th>\n",
       "      <th>Please choose the response that best represents how you feel as a passenger in a self-driving vehicle. (The following words are in alphabetical order.) [Uncertain]</th>\n",
       "    </tr>\n",
       "    <tr>\n",
       "      <th>System</th>\n",
       "      <th></th>\n",
       "      <th></th>\n",
       "      <th></th>\n",
       "      <th></th>\n",
       "      <th></th>\n",
       "      <th></th>\n",
       "      <th></th>\n",
       "      <th></th>\n",
       "      <th></th>\n",
       "      <th></th>\n",
       "      <th></th>\n",
       "      <th></th>\n",
       "      <th></th>\n",
       "      <th></th>\n",
       "      <th></th>\n",
       "      <th></th>\n",
       "      <th></th>\n",
       "      <th></th>\n",
       "      <th></th>\n",
       "      <th></th>\n",
       "    </tr>\n",
       "  </thead>\n",
       "  <tbody>\n",
       "    <tr>\n",
       "      <th>Julie</th>\n",
       "      <td>3.833333</td>\n",
       "      <td>2.000000</td>\n",
       "      <td>2.5</td>\n",
       "      <td>3.333333</td>\n",
       "      <td>3.583333</td>\n",
       "      <td>3.750000</td>\n",
       "      <td>3.833333</td>\n",
       "      <td>3.666667</td>\n",
       "      <td>3.666667</td>\n",
       "      <td>3.666667</td>\n",
       "      <td>2.25</td>\n",
       "      <td>3.250000</td>\n",
       "      <td>2.416667</td>\n",
       "      <td>3.250000</td>\n",
       "      <td>2.416667</td>\n",
       "      <td>2.333333</td>\n",
       "      <td>2.416667</td>\n",
       "      <td>2.666667</td>\n",
       "      <td>3.333333</td>\n",
       "      <td>2.5</td>\n",
       "    </tr>\n",
       "    <tr>\n",
       "      <th>Lily</th>\n",
       "      <td>3.916667</td>\n",
       "      <td>1.916667</td>\n",
       "      <td>2.5</td>\n",
       "      <td>3.166667</td>\n",
       "      <td>4.000000</td>\n",
       "      <td>3.583333</td>\n",
       "      <td>3.333333</td>\n",
       "      <td>3.333333</td>\n",
       "      <td>3.666667</td>\n",
       "      <td>3.333333</td>\n",
       "      <td>1.50</td>\n",
       "      <td>2.583333</td>\n",
       "      <td>1.916667</td>\n",
       "      <td>2.916667</td>\n",
       "      <td>1.333333</td>\n",
       "      <td>2.000000</td>\n",
       "      <td>2.750000</td>\n",
       "      <td>2.500000</td>\n",
       "      <td>2.333333</td>\n",
       "      <td>2.5</td>\n",
       "    </tr>\n",
       "  </tbody>\n",
       "</table>\n",
       "</div>"
      ],
      "text/plain": [
       "        Please choose the response that best represents how you perceive the self-driving vehicle. (The following words are in alphabetical order.) [Capable]  \\\n",
       "System                                                                                                                                                          \n",
       "Julie                                            3.833333                                                                                                       \n",
       "Lily                                             3.916667                                                                                                       \n",
       "\n",
       "        Please choose the response that best represents how you perceive the self-driving vehicle. (The following words are in alphabetical order.) [Emotional]  \\\n",
       "System                                                                                                                                                            \n",
       "Julie                                            2.000000                                                                                                         \n",
       "Lily                                             1.916667                                                                                                         \n",
       "\n",
       "        Please choose the response that best represents how you perceive the self-driving vehicle. (The following words are in alphabetical order.) [Energetic]  \\\n",
       "System                                                                                                                                                            \n",
       "Julie                                                 2.5                                                                                                         \n",
       "Lily                                                  2.5                                                                                                         \n",
       "\n",
       "        Please choose the response that best represents how you perceive the self-driving vehicle. (The following words are in alphabetical order.) [Indifferent]  \\\n",
       "System                                                                                                                                                              \n",
       "Julie                                            3.333333                                                                                                           \n",
       "Lily                                             3.166667                                                                                                           \n",
       "\n",
       "        Please choose the response that best represents how you perceive the self-driving vehicle. (The following words are in alphabetical order.) [Methodical]  \\\n",
       "System                                                                                                                                                             \n",
       "Julie                                            3.583333                                                                                                          \n",
       "Lily                                             4.000000                                                                                                          \n",
       "\n",
       "        Please choose the response that best represents how you perceive the self-driving vehicle. (The following words are in alphabetical order.) [Predictable]  \\\n",
       "System                                                                                                                                                              \n",
       "Julie                                            3.750000                                                                                                           \n",
       "Lily                                             3.583333                                                                                                           \n",
       "\n",
       "        Please choose the response that best represents how you perceive the self-driving vehicle. (The following words are in alphabetical order.) [Reliable]  \\\n",
       "System                                                                                                                                                           \n",
       "Julie                                            3.833333                                                                                                        \n",
       "Lily                                             3.333333                                                                                                        \n",
       "\n",
       "        Please choose the response that best represents how you perceive the self-driving vehicle. (The following words are in alphabetical order.) [Safe]  \\\n",
       "System                                                                                                                                                       \n",
       "Julie                                            3.666667                                                                                                    \n",
       "Lily                                             3.333333                                                                                                    \n",
       "\n",
       "        Please choose the response that best represents how you perceive the self-driving vehicle. (The following words are in alphabetical order.) [Smart]  \\\n",
       "System                                                                                                                                                        \n",
       "Julie                                            3.666667                                                                                                     \n",
       "Lily                                             3.666667                                                                                                     \n",
       "\n",
       "        Please choose the response that best represents how you perceive the self-driving vehicle. (The following words are in alphabetical order.) [Trustworthy]  \\\n",
       "System                                                                                                                                                              \n",
       "Julie                                            3.666667                                                                                                           \n",
       "Lily                                             3.333333                                                                                                           \n",
       "\n",
       "        Please choose the response that best represents how you feel as a passenger in a self-driving vehicle. (The following words are in alphabetical order.) [Bored]  \\\n",
       "System                                                                                                                                                                    \n",
       "Julie                                                2.25                                                                                                                 \n",
       "Lily                                                 1.50                                                                                                                 \n",
       "\n",
       "        Please choose the response that best represents how you feel as a passenger in a self-driving vehicle. (The following words are in alphabetical order.) [Calm]  \\\n",
       "System                                                                                                                                                                   \n",
       "Julie                                            3.250000                                                                                                                \n",
       "Lily                                             2.583333                                                                                                                \n",
       "\n",
       "        Please choose the response that best represents how you feel as a passenger in a self-driving vehicle. (The following words are in alphabetical order.) [Defensive]  \\\n",
       "System                                                                                                                                                                        \n",
       "Julie                                            2.416667                                                                                                                     \n",
       "Lily                                             1.916667                                                                                                                     \n",
       "\n",
       "        Please choose the response that best represents how you feel as a passenger in a self-driving vehicle. (The following words are in alphabetical order.) [Excited]  \\\n",
       "System                                                                                                                                                                      \n",
       "Julie                                            3.250000                                                                                                                   \n",
       "Lily                                             2.916667                                                                                                                   \n",
       "\n",
       "        Please choose the response that best represents how you feel as a passenger in a self-driving vehicle. (The following words are in alphabetical order.) [Lethargic]  \\\n",
       "System                                                                                                                                                                        \n",
       "Julie                                            2.416667                                                                                                                     \n",
       "Lily                                             1.333333                                                                                                                     \n",
       "\n",
       "        Please choose the response that best represents how you feel as a passenger in a self-driving vehicle. (The following words are in alphabetical order.) [Mindless]  \\\n",
       "System                                                                                                                                                                       \n",
       "Julie                                            2.333333                                                                                                                    \n",
       "Lily                                             2.000000                                                                                                                    \n",
       "\n",
       "        Please choose the response that best represents how you feel as a passenger in a self-driving vehicle. (The following words are in alphabetical order.) [Nervous]  \\\n",
       "System                                                                                                                                                                      \n",
       "Julie                                            2.416667                                                                                                                   \n",
       "Lily                                             2.750000                                                                                                                   \n",
       "\n",
       "        Please choose the response that best represents how you feel as a passenger in a self-driving vehicle. (The following words are in alphabetical order.) [Not in control]  \\\n",
       "System                                                                                                                                                                             \n",
       "Julie                                            2.666667                                                                                                                          \n",
       "Lily                                             2.500000                                                                                                                          \n",
       "\n",
       "        Please choose the response that best represents how you feel as a passenger in a self-driving vehicle. (The following words are in alphabetical order.) [Relaxed]  \\\n",
       "System                                                                                                                                                                      \n",
       "Julie                                            3.333333                                                                                                                   \n",
       "Lily                                             2.333333                                                                                                                   \n",
       "\n",
       "        Please choose the response that best represents how you feel as a passenger in a self-driving vehicle. (The following words are in alphabetical order.) [Uncertain]  \n",
       "System                                                                                                                                                                       \n",
       "Julie                                                 2.5                                                                                                                    \n",
       "Lily                                                  2.5                                                                                                                    "
      ]
     },
     "execution_count": 64,
     "metadata": {},
     "output_type": "execute_result"
    }
   ],
   "source": [
    "choice_words = choice_words.replace({'Strongly disagree': 1,'Disagree': 2, 'Neutral': 3, 'Agree': 4, 'Strongly agree': 5})\n",
    "choice_words = choice_words.fillna(0)\n",
    "choice_words.groupby(['System']).mean()"
   ]
  },
  {
   "cell_type": "code",
   "execution_count": 65,
   "metadata": {},
   "outputs": [
    {
     "data": {
      "text/html": [
       "<div>\n",
       "<style scoped>\n",
       "    .dataframe tbody tr th:only-of-type {\n",
       "        vertical-align: middle;\n",
       "    }\n",
       "\n",
       "    .dataframe tbody tr th {\n",
       "        vertical-align: top;\n",
       "    }\n",
       "\n",
       "    .dataframe thead th {\n",
       "        text-align: right;\n",
       "    }\n",
       "</style>\n",
       "<table border=\"1\" class=\"dataframe\">\n",
       "  <thead>\n",
       "    <tr style=\"text-align: right;\">\n",
       "      <th></th>\n",
       "      <th>Please choose the response that best represents how you perceive the self-driving vehicle. (The following words are in alphabetical order.) [Capable]</th>\n",
       "      <th>Please choose the response that best represents how you perceive the self-driving vehicle. (The following words are in alphabetical order.) [Emotional]</th>\n",
       "      <th>Please choose the response that best represents how you perceive the self-driving vehicle. (The following words are in alphabetical order.) [Energetic]</th>\n",
       "      <th>Please choose the response that best represents how you perceive the self-driving vehicle. (The following words are in alphabetical order.) [Indifferent]</th>\n",
       "      <th>Please choose the response that best represents how you perceive the self-driving vehicle. (The following words are in alphabetical order.) [Methodical]</th>\n",
       "      <th>Please choose the response that best represents how you perceive the self-driving vehicle. (The following words are in alphabetical order.) [Predictable]</th>\n",
       "      <th>Please choose the response that best represents how you perceive the self-driving vehicle. (The following words are in alphabetical order.) [Reliable]</th>\n",
       "      <th>Please choose the response that best represents how you perceive the self-driving vehicle. (The following words are in alphabetical order.) [Safe]</th>\n",
       "      <th>Please choose the response that best represents how you perceive the self-driving vehicle. (The following words are in alphabetical order.) [Smart]</th>\n",
       "      <th>Please choose the response that best represents how you perceive the self-driving vehicle. (The following words are in alphabetical order.) [Trustworthy]</th>\n",
       "      <th>Please choose the response that best represents how you feel as a passenger in a self-driving vehicle. (The following words are in alphabetical order.) [Bored]</th>\n",
       "      <th>Please choose the response that best represents how you feel as a passenger in a self-driving vehicle. (The following words are in alphabetical order.) [Calm]</th>\n",
       "      <th>Please choose the response that best represents how you feel as a passenger in a self-driving vehicle. (The following words are in alphabetical order.) [Defensive]</th>\n",
       "      <th>Please choose the response that best represents how you feel as a passenger in a self-driving vehicle. (The following words are in alphabetical order.) [Excited]</th>\n",
       "      <th>Please choose the response that best represents how you feel as a passenger in a self-driving vehicle. (The following words are in alphabetical order.) [Lethargic]</th>\n",
       "      <th>Please choose the response that best represents how you feel as a passenger in a self-driving vehicle. (The following words are in alphabetical order.) [Mindless]</th>\n",
       "      <th>Please choose the response that best represents how you feel as a passenger in a self-driving vehicle. (The following words are in alphabetical order.) [Nervous]</th>\n",
       "      <th>Please choose the response that best represents how you feel as a passenger in a self-driving vehicle. (The following words are in alphabetical order.) [Not in control]</th>\n",
       "      <th>Please choose the response that best represents how you feel as a passenger in a self-driving vehicle. (The following words are in alphabetical order.) [Relaxed]</th>\n",
       "      <th>Please choose the response that best represents how you feel as a passenger in a self-driving vehicle. (The following words are in alphabetical order.) [Uncertain]</th>\n",
       "    </tr>\n",
       "    <tr>\n",
       "      <th>System</th>\n",
       "      <th></th>\n",
       "      <th></th>\n",
       "      <th></th>\n",
       "      <th></th>\n",
       "      <th></th>\n",
       "      <th></th>\n",
       "      <th></th>\n",
       "      <th></th>\n",
       "      <th></th>\n",
       "      <th></th>\n",
       "      <th></th>\n",
       "      <th></th>\n",
       "      <th></th>\n",
       "      <th></th>\n",
       "      <th></th>\n",
       "      <th></th>\n",
       "      <th></th>\n",
       "      <th></th>\n",
       "      <th></th>\n",
       "      <th></th>\n",
       "    </tr>\n",
       "  </thead>\n",
       "  <tbody>\n",
       "    <tr>\n",
       "      <th>Julie</th>\n",
       "      <td>46</td>\n",
       "      <td>24</td>\n",
       "      <td>30</td>\n",
       "      <td>40</td>\n",
       "      <td>43</td>\n",
       "      <td>45</td>\n",
       "      <td>46</td>\n",
       "      <td>44</td>\n",
       "      <td>44</td>\n",
       "      <td>44</td>\n",
       "      <td>27</td>\n",
       "      <td>39</td>\n",
       "      <td>29</td>\n",
       "      <td>39</td>\n",
       "      <td>29</td>\n",
       "      <td>28</td>\n",
       "      <td>29</td>\n",
       "      <td>32</td>\n",
       "      <td>40</td>\n",
       "      <td>30</td>\n",
       "    </tr>\n",
       "    <tr>\n",
       "      <th>Lily</th>\n",
       "      <td>47</td>\n",
       "      <td>23</td>\n",
       "      <td>30</td>\n",
       "      <td>38</td>\n",
       "      <td>48</td>\n",
       "      <td>43</td>\n",
       "      <td>40</td>\n",
       "      <td>40</td>\n",
       "      <td>44</td>\n",
       "      <td>40</td>\n",
       "      <td>18</td>\n",
       "      <td>31</td>\n",
       "      <td>23</td>\n",
       "      <td>35</td>\n",
       "      <td>16</td>\n",
       "      <td>24</td>\n",
       "      <td>33</td>\n",
       "      <td>30</td>\n",
       "      <td>28</td>\n",
       "      <td>30</td>\n",
       "    </tr>\n",
       "  </tbody>\n",
       "</table>\n",
       "</div>"
      ],
      "text/plain": [
       "        Please choose the response that best represents how you perceive the self-driving vehicle. (The following words are in alphabetical order.) [Capable]  \\\n",
       "System                                                                                                                                                          \n",
       "Julie                                                  46                                                                                                       \n",
       "Lily                                                   47                                                                                                       \n",
       "\n",
       "        Please choose the response that best represents how you perceive the self-driving vehicle. (The following words are in alphabetical order.) [Emotional]  \\\n",
       "System                                                                                                                                                            \n",
       "Julie                                                  24                                                                                                         \n",
       "Lily                                                   23                                                                                                         \n",
       "\n",
       "        Please choose the response that best represents how you perceive the self-driving vehicle. (The following words are in alphabetical order.) [Energetic]  \\\n",
       "System                                                                                                                                                            \n",
       "Julie                                                  30                                                                                                         \n",
       "Lily                                                   30                                                                                                         \n",
       "\n",
       "        Please choose the response that best represents how you perceive the self-driving vehicle. (The following words are in alphabetical order.) [Indifferent]  \\\n",
       "System                                                                                                                                                              \n",
       "Julie                                                  40                                                                                                           \n",
       "Lily                                                   38                                                                                                           \n",
       "\n",
       "        Please choose the response that best represents how you perceive the self-driving vehicle. (The following words are in alphabetical order.) [Methodical]  \\\n",
       "System                                                                                                                                                             \n",
       "Julie                                                  43                                                                                                          \n",
       "Lily                                                   48                                                                                                          \n",
       "\n",
       "        Please choose the response that best represents how you perceive the self-driving vehicle. (The following words are in alphabetical order.) [Predictable]  \\\n",
       "System                                                                                                                                                              \n",
       "Julie                                                  45                                                                                                           \n",
       "Lily                                                   43                                                                                                           \n",
       "\n",
       "        Please choose the response that best represents how you perceive the self-driving vehicle. (The following words are in alphabetical order.) [Reliable]  \\\n",
       "System                                                                                                                                                           \n",
       "Julie                                                  46                                                                                                        \n",
       "Lily                                                   40                                                                                                        \n",
       "\n",
       "        Please choose the response that best represents how you perceive the self-driving vehicle. (The following words are in alphabetical order.) [Safe]  \\\n",
       "System                                                                                                                                                       \n",
       "Julie                                                  44                                                                                                    \n",
       "Lily                                                   40                                                                                                    \n",
       "\n",
       "        Please choose the response that best represents how you perceive the self-driving vehicle. (The following words are in alphabetical order.) [Smart]  \\\n",
       "System                                                                                                                                                        \n",
       "Julie                                                  44                                                                                                     \n",
       "Lily                                                   44                                                                                                     \n",
       "\n",
       "        Please choose the response that best represents how you perceive the self-driving vehicle. (The following words are in alphabetical order.) [Trustworthy]  \\\n",
       "System                                                                                                                                                              \n",
       "Julie                                                  44                                                                                                           \n",
       "Lily                                                   40                                                                                                           \n",
       "\n",
       "        Please choose the response that best represents how you feel as a passenger in a self-driving vehicle. (The following words are in alphabetical order.) [Bored]  \\\n",
       "System                                                                                                                                                                    \n",
       "Julie                                                  27                                                                                                                 \n",
       "Lily                                                   18                                                                                                                 \n",
       "\n",
       "        Please choose the response that best represents how you feel as a passenger in a self-driving vehicle. (The following words are in alphabetical order.) [Calm]  \\\n",
       "System                                                                                                                                                                   \n",
       "Julie                                                  39                                                                                                                \n",
       "Lily                                                   31                                                                                                                \n",
       "\n",
       "        Please choose the response that best represents how you feel as a passenger in a self-driving vehicle. (The following words are in alphabetical order.) [Defensive]  \\\n",
       "System                                                                                                                                                                        \n",
       "Julie                                                  29                                                                                                                     \n",
       "Lily                                                   23                                                                                                                     \n",
       "\n",
       "        Please choose the response that best represents how you feel as a passenger in a self-driving vehicle. (The following words are in alphabetical order.) [Excited]  \\\n",
       "System                                                                                                                                                                      \n",
       "Julie                                                  39                                                                                                                   \n",
       "Lily                                                   35                                                                                                                   \n",
       "\n",
       "        Please choose the response that best represents how you feel as a passenger in a self-driving vehicle. (The following words are in alphabetical order.) [Lethargic]  \\\n",
       "System                                                                                                                                                                        \n",
       "Julie                                                  29                                                                                                                     \n",
       "Lily                                                   16                                                                                                                     \n",
       "\n",
       "        Please choose the response that best represents how you feel as a passenger in a self-driving vehicle. (The following words are in alphabetical order.) [Mindless]  \\\n",
       "System                                                                                                                                                                       \n",
       "Julie                                                  28                                                                                                                    \n",
       "Lily                                                   24                                                                                                                    \n",
       "\n",
       "        Please choose the response that best represents how you feel as a passenger in a self-driving vehicle. (The following words are in alphabetical order.) [Nervous]  \\\n",
       "System                                                                                                                                                                      \n",
       "Julie                                                  29                                                                                                                   \n",
       "Lily                                                   33                                                                                                                   \n",
       "\n",
       "        Please choose the response that best represents how you feel as a passenger in a self-driving vehicle. (The following words are in alphabetical order.) [Not in control]  \\\n",
       "System                                                                                                                                                                             \n",
       "Julie                                                  32                                                                                                                          \n",
       "Lily                                                   30                                                                                                                          \n",
       "\n",
       "        Please choose the response that best represents how you feel as a passenger in a self-driving vehicle. (The following words are in alphabetical order.) [Relaxed]  \\\n",
       "System                                                                                                                                                                      \n",
       "Julie                                                  40                                                                                                                   \n",
       "Lily                                                   28                                                                                                                   \n",
       "\n",
       "        Please choose the response that best represents how you feel as a passenger in a self-driving vehicle. (The following words are in alphabetical order.) [Uncertain]  \n",
       "System                                                                                                                                                                       \n",
       "Julie                                                  30                                                                                                                    \n",
       "Lily                                                   30                                                                                                                    "
      ]
     },
     "execution_count": 65,
     "metadata": {},
     "output_type": "execute_result"
    }
   ],
   "source": [
    "choice_words.groupby(['System']).sum()"
   ]
  },
  {
   "cell_type": "code",
   "execution_count": 92,
   "metadata": {},
   "outputs": [
    {
     "name": "stdout",
     "output_type": "stream",
     "text": [
      "4    18\n",
      "3     3\n",
      "5     2\n",
      "2     1\n",
      "Name: Please choose the response that best represents how you perceive the self-driving vehicle. (The following words are in alphabetical order.) [Capable], dtype: int64\n",
      "1    11\n",
      "3     6\n",
      "2     5\n",
      "4     2\n",
      "Name: Please choose the response that best represents how you perceive the self-driving vehicle. (The following words are in alphabetical order.) [Emotional], dtype: int64\n",
      "3    11\n",
      "2     5\n",
      "1     5\n",
      "4     3\n",
      "Name: Please choose the response that best represents how you perceive the self-driving vehicle. (The following words are in alphabetical order.) [Energetic], dtype: int64\n",
      "4    10\n",
      "3     7\n",
      "2     6\n",
      "5     1\n",
      "Name: Please choose the response that best represents how you perceive the self-driving vehicle. (The following words are in alphabetical order.) [Indifferent], dtype: int64\n",
      "4    10\n",
      "3     8\n",
      "5     5\n",
      "2     1\n",
      "Name: Please choose the response that best represents how you perceive the self-driving vehicle. (The following words are in alphabetical order.) [Methodical], dtype: int64\n",
      "4    16\n",
      "3     5\n",
      "2     2\n",
      "5     1\n",
      "Name: Please choose the response that best represents how you perceive the self-driving vehicle. (The following words are in alphabetical order.) [Predictable], dtype: int64\n",
      "4    16\n",
      "2     4\n",
      "3     3\n",
      "5     1\n",
      "Name: Please choose the response that best represents how you perceive the self-driving vehicle. (The following words are in alphabetical order.) [Reliable], dtype: int64\n",
      "4    12\n",
      "3     9\n",
      "2     2\n",
      "5     1\n",
      "Name: Please choose the response that best represents how you perceive the self-driving vehicle. (The following words are in alphabetical order.) [Safe], dtype: int64\n",
      "4    11\n",
      "5     5\n",
      "3     4\n",
      "2     3\n",
      "1     1\n",
      "Name: Please choose the response that best represents how you perceive the self-driving vehicle. (The following words are in alphabetical order.) [Smart], dtype: int64\n",
      "4    10\n",
      "3    10\n",
      "5     2\n",
      "2     2\n",
      "Name: Please choose the response that best represents how you perceive the self-driving vehicle. (The following words are in alphabetical order.) [Trustworthy], dtype: int64\n",
      "2    12\n",
      "3     5\n",
      "0     4\n",
      "1     2\n",
      "4     1\n",
      "Name: Please choose the response that best represents how you feel as a passenger in a self-driving vehicle. (The following words are in alphabetical order.) [Bored], dtype: int64\n",
      "4    10\n",
      "3     7\n",
      "0     4\n",
      "2     2\n",
      "5     1\n",
      "Name: Please choose the response that best represents how you feel as a passenger in a self-driving vehicle. (The following words are in alphabetical order.) [Calm], dtype: int64\n",
      "2    9\n",
      "3    8\n",
      "0    4\n",
      "5    1\n",
      "4    1\n",
      "1    1\n",
      "Name: Please choose the response that best represents how you feel as a passenger in a self-driving vehicle. (The following words are in alphabetical order.) [Defensive], dtype: int64\n",
      "4    11\n",
      "3     6\n",
      "0     4\n",
      "5     2\n",
      "2     1\n",
      "Name: Please choose the response that best represents how you feel as a passenger in a self-driving vehicle. (The following words are in alphabetical order.) [Excited], dtype: int64\n",
      "3    9\n",
      "2    5\n",
      "0    5\n",
      "1    4\n",
      "4    1\n",
      "Name: Please choose the response that best represents how you feel as a passenger in a self-driving vehicle. (The following words are in alphabetical order.) [Lethargic], dtype: int64\n",
      "2    9\n",
      "4    5\n",
      "3    4\n",
      "0    4\n",
      "1    2\n",
      "Name: Please choose the response that best represents how you feel as a passenger in a self-driving vehicle. (The following words are in alphabetical order.) [Mindless], dtype: int64\n",
      "4    10\n",
      "2     6\n",
      "0     4\n",
      "3     3\n",
      "1     1\n",
      "Name: Please choose the response that best represents how you feel as a passenger in a self-driving vehicle. (The following words are in alphabetical order.) [Nervous], dtype: int64\n",
      "4    7\n",
      "3    6\n",
      "0    5\n",
      "5    2\n",
      "2    2\n",
      "1    2\n",
      "Name: Please choose the response that best represents how you feel as a passenger in a self-driving vehicle. (The following words are in alphabetical order.) [Not in control], dtype: int64\n",
      "3    9\n",
      "4    8\n",
      "0    4\n",
      "2    2\n",
      "5    1\n",
      "Name: Please choose the response that best represents how you feel as a passenger in a self-driving vehicle. (The following words are in alphabetical order.) [Relaxed], dtype: int64\n",
      "4    7\n",
      "3    7\n",
      "2    5\n",
      "0    4\n",
      "1    1\n",
      "Name: Please choose the response that best represents how you feel as a passenger in a self-driving vehicle. (The following words are in alphabetical order.) [Uncertain], dtype: int64\n"
     ]
    }
   ],
   "source": [
    "\"\"\"\n",
    "for i in range(1,len(choice_words.columns)):\n",
    "    temp = choice_words.drop(choice_words.columns[0:i],axis=1)\n",
    "    temp = temp[temp.columns[0]].value_counts()\n",
    "    print(temp)\n",
    "\"\"\""
   ]
  },
  {
   "cell_type": "code",
   "execution_count": 96,
   "metadata": {},
   "outputs": [],
   "source": [
    "%matplotlib inline"
   ]
  },
  {
   "cell_type": "code",
   "execution_count": 115,
   "metadata": {},
   "outputs": [
    {
     "data": {
      "image/png": "[encoded data removed]",
      "text/plain": [
       "<Figure size 432x288 with 1 Axes>"
      ]
     },
     "metadata": {
      "needs_background": "light"
     },
     "output_type": "display_data"
    }
   ],
   "source": [
    "import matplotlib.pyplot as plt\n",
    "temp = choice_words.drop(choice_words.columns[0:1],axis=1)\n",
    "#temp[temp.columns[0]].value_counts()\n",
    "data = pd.value_counts(temp[temp.columns[0]], sort=False)\n",
    "data.plot(kind='bar')\n",
    "plt.ylabel('Number of responses')\n",
    "plt.xlabel('Likert scale response')\n",
    "plt.show()"
   ]
  },
  {
   "cell_type": "code",
   "execution_count": 194,
   "metadata": {},
   "outputs": [
    {
     "data": {
      "image/png": "[encoded data removed]",
      "text/plain": [
       "<Figure size 432x288 with 1 Axes>"
      ]
     },
     "metadata": {
      "needs_background": "light"
     },
     "output_type": "display_data"
    },
    {
     "data": {
      "image/png": "[encoded data removed]",
      "text/plain": [
       "<Figure size 432x288 with 1 Axes>"
      ]
     },
     "metadata": {
      "needs_background": "light"
     },
     "output_type": "display_data"
    },
    {
     "data": {
      "image/png": "[encoded data removed]",
      "text/plain": [
       "<Figure size 432x288 with 1 Axes>"
      ]
     },
     "metadata": {
      "needs_background": "light"
     },
     "output_type": "display_data"
    },
    {
     "data": {
      "image/png": "[encoded data removed]",
      "text/plain": [
       "<Figure size 432x288 with 1 Axes>"
      ]
     },
     "metadata": {
      "needs_background": "light"
     },
     "output_type": "display_data"
    },
    {
     "data": {
      "image/png": "[encoded data removed]",
      "text/plain": [
       "<Figure size 432x288 with 1 Axes>"
      ]
     },
     "metadata": {
      "needs_background": "light"
     },
     "output_type": "display_data"
    },
    {
     "data": {
      "image/png": "[encoded data removed]",
      "text/plain": [
       "<Figure size 432x288 with 1 Axes>"
      ]
     },
     "metadata": {
      "needs_background": "light"
     },
     "output_type": "display_data"
    },
    {
     "data": {
      "image/png": "[encoded data removed]",
      "text/plain": [
       "<Figure size 432x288 with 1 Axes>"
      ]
     },
     "metadata": {
      "needs_background": "light"
     },
     "output_type": "display_data"
    },
    {
     "data": {
      "image/png": "[encoded data removed]",
      "text/plain": [
       "<Figure size 432x288 with 1 Axes>"
      ]
     },
     "metadata": {
      "needs_background": "light"
     },
     "output_type": "display_data"
    },
    {
     "data": {
      "image/png": "[encoded data removed]",
      "text/plain": [
       "<Figure size 432x288 with 1 Axes>"
      ]
     },
     "metadata": {
      "needs_background": "light"
     },
     "output_type": "display_data"
    },
    {
     "data": {
      "image/png": "[encoded data removed]",
      "text/plain": [
       "<Figure size 432x288 with 1 Axes>"
      ]
     },
     "metadata": {
      "needs_background": "light"
     },
     "output_type": "display_data"
    },
    {
     "data": {
      "image/png": "[encoded data removed]",
      "text/plain": [
       "<Figure size 432x288 with 1 Axes>"
      ]
     },
     "metadata": {
      "needs_background": "light"
     },
     "output_type": "display_data"
    },
    {
     "data": {
      "image/png": "[encoded data removed]",
      "text/plain": [
       "<Figure size 432x288 with 1 Axes>"
      ]
     },
     "metadata": {
      "needs_background": "light"
     },
     "output_type": "display_data"
    },
    {
     "data": {
      "image/png": "[encoded data removed]",
      "text/plain": [
       "<Figure size 432x288 with 1 Axes>"
      ]
     },
     "metadata": {
      "needs_background": "light"
     },
     "output_type": "display_data"
    },
    {
     "data": {
      "image/png": "[encoded data removed]",
      "text/plain": [
       "<Figure size 432x288 with 1 Axes>"
      ]
     },
     "metadata": {
      "needs_background": "light"
     },
     "output_type": "display_data"
    },
    {
     "data": {
      "image/png": "[encoded data removed]",
      "text/plain": [
       "<Figure size 432x288 with 1 Axes>"
      ]
     },
     "metadata": {
      "needs_background": "light"
     },
     "output_type": "display_data"
    },
    {
     "data": {
      "image/png": "[encoded data removed]",
      "text/plain": [
       "<Figure size 432x288 with 1 Axes>"
      ]
     },
     "metadata": {
      "needs_background": "light"
     },
     "output_type": "display_data"
    },
    {
     "data": {
      "image/png": "[encoded data removed]",
      "text/plain": [
       "<Figure size 432x288 with 1 Axes>"
      ]
     },
     "metadata": {
      "needs_background": "light"
     },
     "output_type": "display_data"
    },
    {
     "data": {
      "image/png": "[encoded data removed]",
      "text/plain": [
       "<Figure size 432x288 with 1 Axes>"
      ]
     },
     "metadata": {
      "needs_background": "light"
     },
     "output_type": "display_data"
    },
    {
     "data": {
      "image/png": "[encoded data removed]",
      "text/plain": [
       "<Figure size 432x288 with 1 Axes>"
      ]
     },
     "metadata": {
      "needs_background": "light"
     },
     "output_type": "display_data"
    },
    {
     "ename": "IndexError",
     "evalue": "index 1 is out of bounds for axis 0 with size 1",
     "output_type": "error",
     "traceback": [
      "\u001b[0;31m---------------------------------------------------------------------------\u001b[0m",
      "\u001b[0;31mIndexError\u001b[0m                                Traceback (most recent call last)",
      "\u001b[0;32m<ipython-input-194-dda903133728>\u001b[0m in \u001b[0;36m<module>\u001b[0;34m()\u001b[0m\n\u001b[1;32m      1\u001b[0m \u001b[0;32mfor\u001b[0m \u001b[0mi\u001b[0m \u001b[0;32min\u001b[0m \u001b[0mrange\u001b[0m\u001b[0;34m(\u001b[0m\u001b[0;36m1\u001b[0m\u001b[0;34m,\u001b[0m\u001b[0mlen\u001b[0m\u001b[0;34m(\u001b[0m\u001b[0mchoice_words\u001b[0m\u001b[0;34m.\u001b[0m\u001b[0mcolumns\u001b[0m\u001b[0;34m)\u001b[0m\u001b[0;34m)\u001b[0m\u001b[0;34m:\u001b[0m\u001b[0;34m\u001b[0m\u001b[0m\n\u001b[1;32m      2\u001b[0m     \u001b[0mtemp\u001b[0m \u001b[0;34m=\u001b[0m \u001b[0mchoice_words\u001b[0m\u001b[0;34m.\u001b[0m\u001b[0mdrop\u001b[0m\u001b[0;34m(\u001b[0m\u001b[0mchoice_words\u001b[0m\u001b[0;34m.\u001b[0m\u001b[0mcolumns\u001b[0m\u001b[0;34m[\u001b[0m\u001b[0;36m0\u001b[0m\u001b[0;34m:\u001b[0m\u001b[0mi\u001b[0m\u001b[0;34m]\u001b[0m\u001b[0;34m,\u001b[0m\u001b[0maxis\u001b[0m\u001b[0;34m=\u001b[0m\u001b[0;36m1\u001b[0m\u001b[0;34m)\u001b[0m\u001b[0;34m\u001b[0m\u001b[0m\n\u001b[0;32m----> 3\u001b[0;31m     \u001b[0mtemp\u001b[0m\u001b[0;34m[\u001b[0m\u001b[0mtemp\u001b[0m\u001b[0;34m.\u001b[0m\u001b[0mcolumns\u001b[0m\u001b[0;34m[\u001b[0m\u001b[0;36m1\u001b[0m\u001b[0;34m]\u001b[0m\u001b[0;34m]\u001b[0m\u001b[0;34m.\u001b[0m\u001b[0mhist\u001b[0m\u001b[0;34m(\u001b[0m\u001b[0mrange\u001b[0m\u001b[0;34m=\u001b[0m\u001b[0;34m(\u001b[0m\u001b[0;36m0\u001b[0m\u001b[0;34m,\u001b[0m\u001b[0;36m6\u001b[0m\u001b[0;34m)\u001b[0m\u001b[0;34m,\u001b[0m\u001b[0mbins\u001b[0m\u001b[0;34m=\u001b[0m\u001b[0;36m6\u001b[0m\u001b[0;34m,\u001b[0m\u001b[0mrwidth\u001b[0m\u001b[0;34m=\u001b[0m\u001b[0;36m0.8\u001b[0m\u001b[0;34m)\u001b[0m\u001b[0;34m\u001b[0m\u001b[0m\n\u001b[0m\u001b[1;32m      4\u001b[0m     \u001b[0max\u001b[0m \u001b[0;34m=\u001b[0m \u001b[0mplt\u001b[0m\u001b[0;34m.\u001b[0m\u001b[0mgca\u001b[0m\u001b[0;34m(\u001b[0m\u001b[0;34m)\u001b[0m\u001b[0;34m\u001b[0m\u001b[0m\n\u001b[1;32m      5\u001b[0m     \u001b[0max\u001b[0m\u001b[0;34m.\u001b[0m\u001b[0mgrid\u001b[0m\u001b[0;34m(\u001b[0m\u001b[0;32mFalse\u001b[0m\u001b[0;34m)\u001b[0m\u001b[0;34m\u001b[0m\u001b[0m\n",
      "\u001b[0;32m/anaconda3/lib/python3.7/site-packages/pandas/core/indexes/base.py\u001b[0m in \u001b[0;36m__getitem__\u001b[0;34m(self, key)\u001b[0m\n\u001b[1;32m   2082\u001b[0m \u001b[0;34m\u001b[0m\u001b[0m\n\u001b[1;32m   2083\u001b[0m         \u001b[0;32mif\u001b[0m \u001b[0mis_scalar\u001b[0m\u001b[0;34m(\u001b[0m\u001b[0mkey\u001b[0m\u001b[0;34m)\u001b[0m\u001b[0;34m:\u001b[0m\u001b[0;34m\u001b[0m\u001b[0m\n\u001b[0;32m-> 2084\u001b[0;31m             \u001b[0;32mreturn\u001b[0m \u001b[0mgetitem\u001b[0m\u001b[0;34m(\u001b[0m\u001b[0mkey\u001b[0m\u001b[0;34m)\u001b[0m\u001b[0;34m\u001b[0m\u001b[0m\n\u001b[0m\u001b[1;32m   2085\u001b[0m \u001b[0;34m\u001b[0m\u001b[0m\n\u001b[1;32m   2086\u001b[0m         \u001b[0;32mif\u001b[0m \u001b[0misinstance\u001b[0m\u001b[0;34m(\u001b[0m\u001b[0mkey\u001b[0m\u001b[0;34m,\u001b[0m \u001b[0mslice\u001b[0m\u001b[0;34m)\u001b[0m\u001b[0;34m:\u001b[0m\u001b[0;34m\u001b[0m\u001b[0m\n",
      "\u001b[0;31mIndexError\u001b[0m: index 1 is out of bounds for axis 0 with size 1"
     ]
    }
   ],
   "source": [
    "for i in range(1,len(choice_words.columns)):\n",
    "    temp = choice_words.drop(choice_words.columns[0:i],axis=1)\n",
    "    temp[temp.columns[0]].hist(range=(0,6),bins=6,rwidth=0.8)\n",
    "    ax = plt.gca()\n",
    "    ax.grid(False)\n",
    "    plt.ylim([0,24])\n",
    "    plt.xlim([0,6])\n",
    "    #data = pd.value_counts(temp[temp.columns[0]], sort=False)\n",
    "    #ax = plt.gca()\n",
    "    #data.plot(kind='bar')\n",
    "    plt.ylabel('Number of responses')\n",
    "    plt.xlabel('Likert scale response')\n",
    "    plt.title(list(choice_words)[i])\n",
    "    plt.show()"
   ]
  },
  {
   "cell_type": "code",
   "execution_count": null,
   "metadata": {},
   "outputs": [],
   "source": []
  }
 ],
 "metadata": {
  "kernelspec": {
   "display_name": "Python 3",
   "language": "python",
   "name": "python3"
  },
  "language_info": {
   "codemirror_mode": {
    "name": "ipython",
    "version": 3
   },
   "file_extension": ".py",
   "mimetype": "text/x-python",
   "name": "python",
   "nbconvert_exporter": "python",
   "pygments_lexer": "ipython3",
   "version": "3.7.0"
  }
 },
 "nbformat": 4,
 "nbformat_minor": 2
}
