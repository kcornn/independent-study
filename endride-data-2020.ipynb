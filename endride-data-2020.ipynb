{
 "cells": [
  {
   "cell_type": "markdown",
   "metadata": {},
   "source": [
    "### Brief summary"
   ]
  },
  {
   "cell_type": "markdown",
   "metadata": {},
   "source": [
    "**Significant**\n",
    "- Confidence in vehicle's capability (control, capability, decision-making)\n",
    "- Preference for a digital assistant in the future (IMPORTANT: *Nobody in the Lily group wanted to keep the same assistant!*)\n",
    "\n",
    "**Not significant**\n",
    "- User Experience\n",
    "- Characteristics of AV ride experience\n",
    "- Trustworthy, Friendly, In Control\n",
    "- Usefulness of provided information"
   ]
  },
  {
   "cell_type": "code",
   "execution_count": 96,
   "metadata": {},
   "outputs": [],
   "source": [
    "import pandas as pd\n",
    "import numpy as np\n",
    "import math\n",
    "import matplotlib.pyplot as plt\n",
    "from wordcloud import WordCloud, STOPWORDS\n",
    "from scipy.stats import mannwhitneyu\n",
    "%matplotlib inline"
   ]
  },
  {
   "cell_type": "markdown",
   "metadata": {},
   "source": [
    "Loading endride data. Note that those who did not believe that the vehicle was autonomous were manually removed from the spreadsheet as was done in the preride and postride analyses."
   ]
  },
  {
   "cell_type": "code",
   "execution_count": 65,
   "metadata": {},
   "outputs": [],
   "source": [
    "df = pd.read_csv(\"endride_data_2.csv\")"
   ]
  },
  {
   "cell_type": "markdown",
   "metadata": {},
   "source": [
    "22 responses, same as the preride data"
   ]
  },
  {
   "cell_type": "code",
   "execution_count": 66,
   "metadata": {},
   "outputs": [
    {
     "data": {
      "text/plain": [
       "(22, 53)"
      ]
     },
     "execution_count": 66,
     "metadata": {},
     "output_type": "execute_result"
    }
   ],
   "source": [
    "df.shape"
   ]
  },
  {
   "cell_type": "markdown",
   "metadata": {},
   "source": [
    "Remove timestamp and name"
   ]
  },
  {
   "cell_type": "code",
   "execution_count": 67,
   "metadata": {
    "scrolled": true
   },
   "outputs": [],
   "source": [
    "df = df[df.columns[2:]]"
   ]
  },
  {
   "cell_type": "code",
   "execution_count": 68,
   "metadata": {},
   "outputs": [
    {
     "data": {
      "text/plain": [
       "(22, 51)"
      ]
     },
     "execution_count": 68,
     "metadata": {},
     "output_type": "execute_result"
    }
   ],
   "source": [
    "df.shape"
   ]
  },
  {
   "cell_type": "code",
   "execution_count": 69,
   "metadata": {},
   "outputs": [
    {
     "data": {
      "text/plain": [
       "System\n",
       "Julie    11\n",
       "Lily     11\n",
       "dtype: int64"
      ]
     },
     "execution_count": 69,
     "metadata": {},
     "output_type": "execute_result"
    }
   ],
   "source": [
    "group_by_system = df.groupby(['System'])\n",
    "group_by_system.size()"
   ]
  },
  {
   "cell_type": "code",
   "execution_count": 70,
   "metadata": {},
   "outputs": [
    {
     "data": {
      "text/html": [
       "<div>\n",
       "<style scoped>\n",
       "    .dataframe tbody tr th:only-of-type {\n",
       "        vertical-align: middle;\n",
       "    }\n",
       "\n",
       "    .dataframe tbody tr th {\n",
       "        vertical-align: top;\n",
       "    }\n",
       "\n",
       "    .dataframe thead th {\n",
       "        text-align: right;\n",
       "    }\n",
       "</style>\n",
       "<table border=\"1\" class=\"dataframe\">\n",
       "  <thead>\n",
       "    <tr style=\"text-align: right;\">\n",
       "      <th></th>\n",
       "      <th>0</th>\n",
       "    </tr>\n",
       "  </thead>\n",
       "  <tbody>\n",
       "    <tr>\n",
       "      <th>0</th>\n",
       "      <td>System</td>\n",
       "    </tr>\n",
       "    <tr>\n",
       "      <th>1</th>\n",
       "      <td>On a scale from 1-5, how would you rate your o...</td>\n",
       "    </tr>\n",
       "    <tr>\n",
       "      <th>2</th>\n",
       "      <td>On a scale from 1-5, how would you rate your o...</td>\n",
       "    </tr>\n",
       "    <tr>\n",
       "      <th>3</th>\n",
       "      <td>On a scale from 1-5, how would you rate your o...</td>\n",
       "    </tr>\n",
       "    <tr>\n",
       "      <th>4</th>\n",
       "      <td>On a scale from 1-5, how would you rate your o...</td>\n",
       "    </tr>\n",
       "    <tr>\n",
       "      <th>5</th>\n",
       "      <td>On a scale from 1-5, how would you rate your o...</td>\n",
       "    </tr>\n",
       "    <tr>\n",
       "      <th>6</th>\n",
       "      <td>On a scale from 1-5, how would you rate your c...</td>\n",
       "    </tr>\n",
       "    <tr>\n",
       "      <th>7</th>\n",
       "      <td>On a scale from 1-5, how would you rate your c...</td>\n",
       "    </tr>\n",
       "    <tr>\n",
       "      <th>8</th>\n",
       "      <td>On a scale from 1-5, how would you rate your c...</td>\n",
       "    </tr>\n",
       "    <tr>\n",
       "      <th>9</th>\n",
       "      <td>Please rate each aspect of your autonomous veh...</td>\n",
       "    </tr>\n",
       "    <tr>\n",
       "      <th>10</th>\n",
       "      <td>Please rate each aspect of your autonomous veh...</td>\n",
       "    </tr>\n",
       "    <tr>\n",
       "      <th>11</th>\n",
       "      <td>Please rate each aspect of your autonomous veh...</td>\n",
       "    </tr>\n",
       "    <tr>\n",
       "      <th>12</th>\n",
       "      <td>On a scale from 1-5, to what degree did the di...</td>\n",
       "    </tr>\n",
       "    <tr>\n",
       "      <th>13</th>\n",
       "      <td>On a scale from 1-5, to what degree did the di...</td>\n",
       "    </tr>\n",
       "    <tr>\n",
       "      <th>14</th>\n",
       "      <td>On a scale from 1-5, to what degree did the di...</td>\n",
       "    </tr>\n",
       "    <tr>\n",
       "      <th>15</th>\n",
       "      <td>Please check all adjectives that would best de...</td>\n",
       "    </tr>\n",
       "    <tr>\n",
       "      <th>16</th>\n",
       "      <td>Please specify any other adjectives that would...</td>\n",
       "    </tr>\n",
       "    <tr>\n",
       "      <th>17</th>\n",
       "      <td>How useful was the information presented throu...</td>\n",
       "    </tr>\n",
       "    <tr>\n",
       "      <th>18</th>\n",
       "      <td>Was there anything memorable that the self-dri...</td>\n",
       "    </tr>\n",
       "    <tr>\n",
       "      <th>19</th>\n",
       "      <td>On a scale from 1-5, please rate your preferen...</td>\n",
       "    </tr>\n",
       "    <tr>\n",
       "      <th>20</th>\n",
       "      <td>On a scale from 1-5, please rate your preferen...</td>\n",
       "    </tr>\n",
       "    <tr>\n",
       "      <th>21</th>\n",
       "      <td>On a scale from 1-5, please rate your preferen...</td>\n",
       "    </tr>\n",
       "    <tr>\n",
       "      <th>22</th>\n",
       "      <td>On a scale from 1-5, please rate your preferen...</td>\n",
       "    </tr>\n",
       "    <tr>\n",
       "      <th>23</th>\n",
       "      <td>On a scale from 1-5, please rate your preferen...</td>\n",
       "    </tr>\n",
       "    <tr>\n",
       "      <th>24</th>\n",
       "      <td>On a scale from 1-5, please rate your preferen...</td>\n",
       "    </tr>\n",
       "    <tr>\n",
       "      <th>25</th>\n",
       "      <td>On a scale from 1-5, please rate your preferen...</td>\n",
       "    </tr>\n",
       "    <tr>\n",
       "      <th>26</th>\n",
       "      <td>On a scale from 1-5, please rate your preferen...</td>\n",
       "    </tr>\n",
       "    <tr>\n",
       "      <th>27</th>\n",
       "      <td>On a scale from 1-5, please rate your preferen...</td>\n",
       "    </tr>\n",
       "    <tr>\n",
       "      <th>28</th>\n",
       "      <td>On a scale from 1-5, please rate your preferen...</td>\n",
       "    </tr>\n",
       "    <tr>\n",
       "      <th>29</th>\n",
       "      <td>On a scale from 1-5, please rate your preferen...</td>\n",
       "    </tr>\n",
       "    <tr>\n",
       "      <th>30</th>\n",
       "      <td>On a scale from 1-5, please rate the degree to...</td>\n",
       "    </tr>\n",
       "    <tr>\n",
       "      <th>31</th>\n",
       "      <td>Which features of the digital assistant did yo...</td>\n",
       "    </tr>\n",
       "    <tr>\n",
       "      <th>32</th>\n",
       "      <td>Which features did you feel were unnecessary a...</td>\n",
       "    </tr>\n",
       "    <tr>\n",
       "      <th>33</th>\n",
       "      <td>Are there new features you would add?</td>\n",
       "    </tr>\n",
       "    <tr>\n",
       "      <th>34</th>\n",
       "      <td>For a future ride, I would prefer to:</td>\n",
       "    </tr>\n",
       "    <tr>\n",
       "      <th>35</th>\n",
       "      <td>Please rate your preference for the following ...</td>\n",
       "    </tr>\n",
       "    <tr>\n",
       "      <th>36</th>\n",
       "      <td>Please rate your preference for the following ...</td>\n",
       "    </tr>\n",
       "    <tr>\n",
       "      <th>37</th>\n",
       "      <td>Please rate your preference for the following ...</td>\n",
       "    </tr>\n",
       "    <tr>\n",
       "      <th>38</th>\n",
       "      <td>Please rate your preference for the following ...</td>\n",
       "    </tr>\n",
       "    <tr>\n",
       "      <th>39</th>\n",
       "      <td>Please rate your preference for the following ...</td>\n",
       "    </tr>\n",
       "    <tr>\n",
       "      <th>40</th>\n",
       "      <td>Please rate your preference for the following ...</td>\n",
       "    </tr>\n",
       "    <tr>\n",
       "      <th>41</th>\n",
       "      <td>Are there specific in-vehicle features that yo...</td>\n",
       "    </tr>\n",
       "    <tr>\n",
       "      <th>42</th>\n",
       "      <td>Are there new features that would prefer we add?</td>\n",
       "    </tr>\n",
       "    <tr>\n",
       "      <th>43</th>\n",
       "      <td>Are there features you disliked and would pref...</td>\n",
       "    </tr>\n",
       "    <tr>\n",
       "      <th>44</th>\n",
       "      <td>Please indicate if following attributes affect...</td>\n",
       "    </tr>\n",
       "    <tr>\n",
       "      <th>45</th>\n",
       "      <td>Please indicate if following attributes affect...</td>\n",
       "    </tr>\n",
       "    <tr>\n",
       "      <th>46</th>\n",
       "      <td>Please indicate if following attributes affect...</td>\n",
       "    </tr>\n",
       "    <tr>\n",
       "      <th>47</th>\n",
       "      <td>Please indicate if following attributes affect...</td>\n",
       "    </tr>\n",
       "    <tr>\n",
       "      <th>48</th>\n",
       "      <td>Please indicate if following attributes affect...</td>\n",
       "    </tr>\n",
       "    <tr>\n",
       "      <th>49</th>\n",
       "      <td>Please comment on how the above factors affect...</td>\n",
       "    </tr>\n",
       "    <tr>\n",
       "      <th>50</th>\n",
       "      <td>Were there other factors that affected your ri...</td>\n",
       "    </tr>\n",
       "  </tbody>\n",
       "</table>\n",
       "</div>"
      ],
      "text/plain": [
       "                                                    0\n",
       "0                                              System\n",
       "1   On a scale from 1-5, how would you rate your o...\n",
       "2   On a scale from 1-5, how would you rate your o...\n",
       "3   On a scale from 1-5, how would you rate your o...\n",
       "4   On a scale from 1-5, how would you rate your o...\n",
       "5   On a scale from 1-5, how would you rate your o...\n",
       "6   On a scale from 1-5, how would you rate your c...\n",
       "7   On a scale from 1-5, how would you rate your c...\n",
       "8   On a scale from 1-5, how would you rate your c...\n",
       "9   Please rate each aspect of your autonomous veh...\n",
       "10  Please rate each aspect of your autonomous veh...\n",
       "11  Please rate each aspect of your autonomous veh...\n",
       "12  On a scale from 1-5, to what degree did the di...\n",
       "13  On a scale from 1-5, to what degree did the di...\n",
       "14  On a scale from 1-5, to what degree did the di...\n",
       "15  Please check all adjectives that would best de...\n",
       "16  Please specify any other adjectives that would...\n",
       "17  How useful was the information presented throu...\n",
       "18  Was there anything memorable that the self-dri...\n",
       "19  On a scale from 1-5, please rate your preferen...\n",
       "20  On a scale from 1-5, please rate your preferen...\n",
       "21  On a scale from 1-5, please rate your preferen...\n",
       "22  On a scale from 1-5, please rate your preferen...\n",
       "23  On a scale from 1-5, please rate your preferen...\n",
       "24  On a scale from 1-5, please rate your preferen...\n",
       "25  On a scale from 1-5, please rate your preferen...\n",
       "26  On a scale from 1-5, please rate your preferen...\n",
       "27  On a scale from 1-5, please rate your preferen...\n",
       "28  On a scale from 1-5, please rate your preferen...\n",
       "29  On a scale from 1-5, please rate your preferen...\n",
       "30  On a scale from 1-5, please rate the degree to...\n",
       "31  Which features of the digital assistant did yo...\n",
       "32  Which features did you feel were unnecessary a...\n",
       "33            Are there new features you would add?  \n",
       "34              For a future ride, I would prefer to:\n",
       "35  Please rate your preference for the following ...\n",
       "36  Please rate your preference for the following ...\n",
       "37  Please rate your preference for the following ...\n",
       "38  Please rate your preference for the following ...\n",
       "39  Please rate your preference for the following ...\n",
       "40  Please rate your preference for the following ...\n",
       "41  Are there specific in-vehicle features that yo...\n",
       "42  Are there new features that would prefer we add? \n",
       "43  Are there features you disliked and would pref...\n",
       "44  Please indicate if following attributes affect...\n",
       "45  Please indicate if following attributes affect...\n",
       "46  Please indicate if following attributes affect...\n",
       "47  Please indicate if following attributes affect...\n",
       "48  Please indicate if following attributes affect...\n",
       "49  Please comment on how the above factors affect...\n",
       "50  Were there other factors that affected your ri..."
      ]
     },
     "execution_count": 70,
     "metadata": {},
     "output_type": "execute_result"
    }
   ],
   "source": [
    "pd.DataFrame(list(df.columns.values))"
   ]
  },
  {
   "cell_type": "markdown",
   "metadata": {},
   "source": [
    "### User experience - not significant"
   ]
  },
  {
   "cell_type": "code",
   "execution_count": 71,
   "metadata": {},
   "outputs": [],
   "source": [
    "user_exp = df[df.columns[:6]]"
   ]
  },
  {
   "cell_type": "code",
   "execution_count": 72,
   "metadata": {},
   "outputs": [
    {
     "data": {
      "text/html": [
       "<div>\n",
       "<style scoped>\n",
       "    .dataframe tbody tr th:only-of-type {\n",
       "        vertical-align: middle;\n",
       "    }\n",
       "\n",
       "    .dataframe tbody tr th {\n",
       "        vertical-align: top;\n",
       "    }\n",
       "\n",
       "    .dataframe thead th {\n",
       "        text-align: right;\n",
       "    }\n",
       "</style>\n",
       "<table border=\"1\" class=\"dataframe\">\n",
       "  <thead>\n",
       "    <tr style=\"text-align: right;\">\n",
       "      <th></th>\n",
       "      <th>On a scale from 1-5, how would you rate your overall user experience in terms of: [Comfort &amp; relaxation during the ride]</th>\n",
       "      <th>On a scale from 1-5, how would you rate your overall user experience in terms of: [Perceived personal safety]</th>\n",
       "      <th>On a scale from 1-5, how would you rate your overall user experience in terms of: [Perceived safety of others]</th>\n",
       "      <th>On a scale from 1-5, how would you rate your overall user experience in terms of: [Degree of vehicle trustworthiness]</th>\n",
       "      <th>On a scale from 1-5, how would you rate your overall user experience in terms of: [Willingness to ride again]</th>\n",
       "    </tr>\n",
       "    <tr>\n",
       "      <th>System</th>\n",
       "      <th></th>\n",
       "      <th></th>\n",
       "      <th></th>\n",
       "      <th></th>\n",
       "      <th></th>\n",
       "    </tr>\n",
       "  </thead>\n",
       "  <tbody>\n",
       "    <tr>\n",
       "      <th>Julie</th>\n",
       "      <td>4.090909</td>\n",
       "      <td>4.181818</td>\n",
       "      <td>4.181818</td>\n",
       "      <td>3.818182</td>\n",
       "      <td>4.545455</td>\n",
       "    </tr>\n",
       "    <tr>\n",
       "      <th>Lily</th>\n",
       "      <td>3.818182</td>\n",
       "      <td>3.909091</td>\n",
       "      <td>3.636364</td>\n",
       "      <td>3.454545</td>\n",
       "      <td>4.545455</td>\n",
       "    </tr>\n",
       "  </tbody>\n",
       "</table>\n",
       "</div>"
      ],
      "text/plain": [
       "        On a scale from 1-5, how would you rate your overall user experience in terms of: [Comfort & relaxation during the ride]  \\\n",
       "System                                                                                                                             \n",
       "Julie                                            4.090909                                                                          \n",
       "Lily                                             3.818182                                                                          \n",
       "\n",
       "        On a scale from 1-5, how would you rate your overall user experience in terms of: [Perceived personal safety]  \\\n",
       "System                                                                                                                  \n",
       "Julie                                            4.181818                                                               \n",
       "Lily                                             3.909091                                                               \n",
       "\n",
       "        On a scale from 1-5, how would you rate your overall user experience in terms of: [Perceived safety of others]  \\\n",
       "System                                                                                                                   \n",
       "Julie                                            4.181818                                                                \n",
       "Lily                                             3.636364                                                                \n",
       "\n",
       "        On a scale from 1-5, how would you rate your overall user experience in terms of: [Degree of vehicle trustworthiness]  \\\n",
       "System                                                                                                                          \n",
       "Julie                                            3.818182                                                                       \n",
       "Lily                                             3.454545                                                                       \n",
       "\n",
       "        On a scale from 1-5, how would you rate your overall user experience in terms of: [Willingness to ride again]  \n",
       "System                                                                                                                 \n",
       "Julie                                            4.545455                                                              \n",
       "Lily                                             4.545455                                                              "
      ]
     },
     "execution_count": 72,
     "metadata": {},
     "output_type": "execute_result"
    }
   ],
   "source": [
    "user_exp.groupby([\"System\"]).mean()"
   ]
  },
  {
   "cell_type": "code",
   "execution_count": 73,
   "metadata": {},
   "outputs": [
    {
     "data": {
      "text/html": [
       "<div>\n",
       "<style scoped>\n",
       "    .dataframe tbody tr th:only-of-type {\n",
       "        vertical-align: middle;\n",
       "    }\n",
       "\n",
       "    .dataframe tbody tr th {\n",
       "        vertical-align: top;\n",
       "    }\n",
       "\n",
       "    .dataframe thead th {\n",
       "        text-align: right;\n",
       "    }\n",
       "</style>\n",
       "<table border=\"1\" class=\"dataframe\">\n",
       "  <thead>\n",
       "    <tr style=\"text-align: right;\">\n",
       "      <th></th>\n",
       "      <th>On a scale from 1-5, how would you rate your overall user experience in terms of: [Comfort &amp; relaxation during the ride]</th>\n",
       "      <th>On a scale from 1-5, how would you rate your overall user experience in terms of: [Perceived personal safety]</th>\n",
       "      <th>On a scale from 1-5, how would you rate your overall user experience in terms of: [Perceived safety of others]</th>\n",
       "      <th>On a scale from 1-5, how would you rate your overall user experience in terms of: [Degree of vehicle trustworthiness]</th>\n",
       "      <th>On a scale from 1-5, how would you rate your overall user experience in terms of: [Willingness to ride again]</th>\n",
       "    </tr>\n",
       "    <tr>\n",
       "      <th>System</th>\n",
       "      <th></th>\n",
       "      <th></th>\n",
       "      <th></th>\n",
       "      <th></th>\n",
       "      <th></th>\n",
       "    </tr>\n",
       "  </thead>\n",
       "  <tbody>\n",
       "    <tr>\n",
       "      <th>Julie</th>\n",
       "      <td>0.690909</td>\n",
       "      <td>0.563636</td>\n",
       "      <td>0.763636</td>\n",
       "      <td>0.763636</td>\n",
       "      <td>0.472727</td>\n",
       "    </tr>\n",
       "    <tr>\n",
       "      <th>Lily</th>\n",
       "      <td>0.963636</td>\n",
       "      <td>0.490909</td>\n",
       "      <td>0.854545</td>\n",
       "      <td>0.672727</td>\n",
       "      <td>0.472727</td>\n",
       "    </tr>\n",
       "  </tbody>\n",
       "</table>\n",
       "</div>"
      ],
      "text/plain": [
       "        On a scale from 1-5, how would you rate your overall user experience in terms of: [Comfort & relaxation during the ride]  \\\n",
       "System                                                                                                                             \n",
       "Julie                                            0.690909                                                                          \n",
       "Lily                                             0.963636                                                                          \n",
       "\n",
       "        On a scale from 1-5, how would you rate your overall user experience in terms of: [Perceived personal safety]  \\\n",
       "System                                                                                                                  \n",
       "Julie                                            0.563636                                                               \n",
       "Lily                                             0.490909                                                               \n",
       "\n",
       "        On a scale from 1-5, how would you rate your overall user experience in terms of: [Perceived safety of others]  \\\n",
       "System                                                                                                                   \n",
       "Julie                                            0.763636                                                                \n",
       "Lily                                             0.854545                                                                \n",
       "\n",
       "        On a scale from 1-5, how would you rate your overall user experience in terms of: [Degree of vehicle trustworthiness]  \\\n",
       "System                                                                                                                          \n",
       "Julie                                            0.763636                                                                       \n",
       "Lily                                             0.672727                                                                       \n",
       "\n",
       "        On a scale from 1-5, how would you rate your overall user experience in terms of: [Willingness to ride again]  \n",
       "System                                                                                                                 \n",
       "Julie                                            0.472727                                                              \n",
       "Lily                                             0.472727                                                              "
      ]
     },
     "execution_count": 73,
     "metadata": {},
     "output_type": "execute_result"
    }
   ],
   "source": [
    "user_exp.groupby([\"System\"]).var()"
   ]
  },
  {
   "cell_type": "markdown",
   "metadata": {},
   "source": [
    "Julie scored higher on average, except for \"Willingness to ride again\", where both Julie and Lily had the same average score."
   ]
  },
  {
   "cell_type": "code",
   "execution_count": 86,
   "metadata": {},
   "outputs": [
    {
     "data": {
      "text/plain": [
       "Index(['On a scale from 1-5, how would you rate your overall user experience in terms of: [Comfort & relaxation during the ride]',\n",
       "       'On a scale from 1-5, how would you rate your overall user experience in terms of: [Perceived personal safety]',\n",
       "       'On a scale from 1-5, how would you rate your overall user experience in terms of: [Perceived safety of others]',\n",
       "       'On a scale from 1-5, how would you rate your overall user experience in terms of: [Degree of vehicle trustworthiness]',\n",
       "       'On a scale from 1-5, how would you rate your overall user experience in terms of: [Willingness to ride again]'],\n",
       "      dtype='object')"
      ]
     },
     "execution_count": 86,
     "metadata": {},
     "output_type": "execute_result"
    }
   ],
   "source": [
    "user_exp.columns[1:6]"
   ]
  },
  {
   "cell_type": "code",
   "execution_count": 87,
   "metadata": {},
   "outputs": [],
   "source": [
    "df_user_exp = df.assign(UX = user_exp[user_exp.columns[1:6]].aggregate(axis = 1, func = sum))"
   ]
  },
  {
   "cell_type": "code",
   "execution_count": 88,
   "metadata": {},
   "outputs": [
    {
     "name": "stdout",
     "output_type": "stream",
     "text": [
      "UX\n"
     ]
    }
   ],
   "source": [
    "print(list(df_user_exp)[51])\n",
    "analysis_column = list(df_user_exp)[-1]\n",
    "x = df_user_exp.loc[df_user_exp['System']=='Julie'][analysis_column]\n",
    "y = df_user_exp.loc[df_user_exp['System']=='Lily'][analysis_column]"
   ]
  },
  {
   "cell_type": "code",
   "execution_count": 89,
   "metadata": {},
   "outputs": [
    {
     "data": {
      "text/html": [
       "<div>\n",
       "<style scoped>\n",
       "    .dataframe tbody tr th:only-of-type {\n",
       "        vertical-align: middle;\n",
       "    }\n",
       "\n",
       "    .dataframe tbody tr th {\n",
       "        vertical-align: top;\n",
       "    }\n",
       "\n",
       "    .dataframe thead th {\n",
       "        text-align: right;\n",
       "    }\n",
       "</style>\n",
       "<table border=\"1\" class=\"dataframe\">\n",
       "  <thead>\n",
       "    <tr style=\"text-align: right;\">\n",
       "      <th></th>\n",
       "      <th>UX</th>\n",
       "    </tr>\n",
       "    <tr>\n",
       "      <th>System</th>\n",
       "      <th></th>\n",
       "    </tr>\n",
       "  </thead>\n",
       "  <tbody>\n",
       "    <tr>\n",
       "      <th>Julie</th>\n",
       "      <td>20.818182</td>\n",
       "    </tr>\n",
       "    <tr>\n",
       "      <th>Lily</th>\n",
       "      <td>19.363636</td>\n",
       "    </tr>\n",
       "  </tbody>\n",
       "</table>\n",
       "</div>"
      ],
      "text/plain": [
       "               UX\n",
       "System           \n",
       "Julie   20.818182\n",
       "Lily    19.363636"
      ]
     },
     "execution_count": 89,
     "metadata": {},
     "output_type": "execute_result"
    }
   ],
   "source": [
    "pd.pivot_table(df_user_exp, values=(analysis_column), index=['System'], aggfunc=np.mean)"
   ]
  },
  {
   "cell_type": "code",
   "execution_count": 77,
   "metadata": {},
   "outputs": [
    {
     "data": {
      "text/plain": [
       "MannwhitneyuResult(statistic=74.5, pvalue=0.37237387607788974)"
      ]
     },
     "execution_count": 77,
     "metadata": {},
     "output_type": "execute_result"
    }
   ],
   "source": [
    "mannwhitneyu(x,y, alternative = 'two-sided')"
   ]
  },
  {
   "cell_type": "markdown",
   "metadata": {},
   "source": [
    "### Confidence in vehicle's capability (control, capability, decision-making) - statistically significant"
   ]
  },
  {
   "cell_type": "code",
   "execution_count": 90,
   "metadata": {},
   "outputs": [
    {
     "data": {
      "text/plain": [
       "Index(['On a scale from 1-5, how would you rate your confidence in the vehicle's capability, in terms of: [AV control ]',\n",
       "       'On a scale from 1-5, how would you rate your confidence in the vehicle's capability, in terms of: [Driving capability]',\n",
       "       'On a scale from 1-5, how would you rate your confidence in the vehicle's capability, in terms of: [Decision-making ability]'],\n",
       "      dtype='object')"
      ]
     },
     "execution_count": 90,
     "metadata": {},
     "output_type": "execute_result"
    }
   ],
   "source": [
    "df.columns[6:9]"
   ]
  },
  {
   "cell_type": "code",
   "execution_count": 91,
   "metadata": {},
   "outputs": [],
   "source": [
    "capability = df[df.columns[6:9]]"
   ]
  },
  {
   "cell_type": "code",
   "execution_count": 92,
   "metadata": {},
   "outputs": [],
   "source": [
    "df_capability = df.assign(Capability = capability[capability.columns[:3]].aggregate(axis = 1, func = sum))"
   ]
  },
  {
   "cell_type": "code",
   "execution_count": 93,
   "metadata": {},
   "outputs": [
    {
     "name": "stdout",
     "output_type": "stream",
     "text": [
      "Capability\n"
     ]
    }
   ],
   "source": [
    "print(list(df_capability)[-1])\n",
    "analysis_column = list(df_capability)[-1]\n",
    "x = df_capability.loc[df_capability['System']=='Julie'][analysis_column]\n",
    "y = df_capability.loc[df_capability['System']=='Lily'][analysis_column]"
   ]
  },
  {
   "cell_type": "code",
   "execution_count": null,
   "metadata": {},
   "outputs": [],
   "source": [
    "mannwhitneyu(x,y, alternative = 'two-sided')"
   ]
  },
  {
   "cell_type": "code",
   "execution_count": 95,
   "metadata": {},
   "outputs": [
    {
     "data": {
      "text/html": [
       "<div>\n",
       "<style scoped>\n",
       "    .dataframe tbody tr th:only-of-type {\n",
       "        vertical-align: middle;\n",
       "    }\n",
       "\n",
       "    .dataframe tbody tr th {\n",
       "        vertical-align: top;\n",
       "    }\n",
       "\n",
       "    .dataframe thead th {\n",
       "        text-align: right;\n",
       "    }\n",
       "</style>\n",
       "<table border=\"1\" class=\"dataframe\">\n",
       "  <thead>\n",
       "    <tr style=\"text-align: right;\">\n",
       "      <th></th>\n",
       "      <th>Capability</th>\n",
       "    </tr>\n",
       "    <tr>\n",
       "      <th>System</th>\n",
       "      <th></th>\n",
       "    </tr>\n",
       "  </thead>\n",
       "  <tbody>\n",
       "    <tr>\n",
       "      <th>Julie</th>\n",
       "      <td>12.818182</td>\n",
       "    </tr>\n",
       "    <tr>\n",
       "      <th>Lily</th>\n",
       "      <td>11.000000</td>\n",
       "    </tr>\n",
       "  </tbody>\n",
       "</table>\n",
       "</div>"
      ],
      "text/plain": [
       "        Capability\n",
       "System            \n",
       "Julie    12.818182\n",
       "Lily     11.000000"
      ]
     },
     "execution_count": 95,
     "metadata": {},
     "output_type": "execute_result"
    }
   ],
   "source": [
    "analysis_column = list(df_capability)[-1]\n",
    "pd.pivot_table(df_capability, values=(analysis_column), index=['System'], aggfunc=np.mean)"
   ]
  },
  {
   "cell_type": "markdown",
   "metadata": {},
   "source": [
    "### Characteristics of AV ride experience - not significant"
   ]
  },
  {
   "cell_type": "code",
   "execution_count": null,
   "metadata": {},
   "outputs": [],
   "source": [
    "df.columns[9:12]"
   ]
  },
  {
   "cell_type": "code",
   "execution_count": null,
   "metadata": {},
   "outputs": [],
   "source": [
    "ride_exp = df[df.columns[9:12]]"
   ]
  },
  {
   "cell_type": "code",
   "execution_count": null,
   "metadata": {},
   "outputs": [],
   "source": [
    "df_ride_exp = df.assign(Ride_Exp = ride_exp[ride_exp.columns[:3]].aggregate(axis = 1, func = sum))"
   ]
  },
  {
   "cell_type": "code",
   "execution_count": null,
   "metadata": {},
   "outputs": [],
   "source": [
    "print(list(df_ride_exp)[-1])\n",
    "analysis_column = list(df_ride_exp)[-1]\n",
    "x = df_ride_exp.loc[df_ride_exp['System']=='Julie'][analysis_column]\n",
    "y = df_ride_exp.loc[df_ride_exp['System']=='Lily'][analysis_column]"
   ]
  },
  {
   "cell_type": "code",
   "execution_count": null,
   "metadata": {},
   "outputs": [],
   "source": [
    "mannwhitneyu(x,y, alternative = 'two-sided')"
   ]
  },
  {
   "cell_type": "markdown",
   "metadata": {},
   "source": [
    "### Trustworthy, Friendly, In Control - not significant"
   ]
  },
  {
   "cell_type": "code",
   "execution_count": null,
   "metadata": {},
   "outputs": [],
   "source": [
    "df.columns[12:15]"
   ]
  },
  {
   "cell_type": "code",
   "execution_count": null,
   "metadata": {},
   "outputs": [],
   "source": [
    "trust = df[df.columns[12:15]]"
   ]
  },
  {
   "cell_type": "code",
   "execution_count": null,
   "metadata": {},
   "outputs": [],
   "source": [
    "df_trust = df.assign(Trust = df[df.columns[12:15]].aggregate(axis = 1, func = sum))"
   ]
  },
  {
   "cell_type": "code",
   "execution_count": null,
   "metadata": {},
   "outputs": [],
   "source": [
    "print(list(df_trust)[-1])\n",
    "analysis_column = list(df_trust)[-1]\n",
    "x = df_trust.loc[df_trust['System']=='Julie'][analysis_column]\n",
    "y = df_trust.loc[df_trust['System']=='Lily'][analysis_column]"
   ]
  },
  {
   "cell_type": "code",
   "execution_count": null,
   "metadata": {},
   "outputs": [],
   "source": [
    "mannwhitneyu(x,y, alternative = 'two-sided')"
   ]
  },
  {
   "cell_type": "markdown",
   "metadata": {},
   "source": [
    "### Usefulness of provided information - not significant"
   ]
  },
  {
   "cell_type": "code",
   "execution_count": null,
   "metadata": {},
   "outputs": [],
   "source": [
    "df.columns[17]"
   ]
  },
  {
   "cell_type": "code",
   "execution_count": null,
   "metadata": {},
   "outputs": [],
   "source": [
    "print(list(df)[17])\n",
    "x = df.loc[df['System']=='Julie'][list(df)[17]]\n",
    "y = df.loc[df['System']=='Lily'][list(df)[17]]"
   ]
  },
  {
   "cell_type": "code",
   "execution_count": null,
   "metadata": {},
   "outputs": [],
   "source": [
    "mannwhitneyu(x,y, alternative = 'two-sided')"
   ]
  },
  {
   "cell_type": "markdown",
   "metadata": {},
   "source": [
    "### Preference for a digital assistant - significant"
   ]
  },
  {
   "cell_type": "code",
   "execution_count": 99,
   "metadata": {},
   "outputs": [
    {
     "data": {
      "text/plain": [
       "'For a future ride, I would prefer to:'"
      ]
     },
     "execution_count": 99,
     "metadata": {},
     "output_type": "execute_result"
    }
   ],
   "source": [
    "df.columns[34]"
   ]
  },
  {
   "cell_type": "code",
   "execution_count": 102,
   "metadata": {},
   "outputs": [
    {
     "data": {
      "text/plain": [
       "0     1\n",
       "1     0\n",
       "2    -1\n",
       "3     1\n",
       "4    -1\n",
       "5    -1\n",
       "6    -1\n",
       "7     0\n",
       "8    -1\n",
       "9     0\n",
       "10   -1\n",
       "11   -1\n",
       "12    0\n",
       "13   -1\n",
       "14   -1\n",
       "15   -1\n",
       "16   -1\n",
       "17    1\n",
       "18    1\n",
       "19   -1\n",
       "20    1\n",
       "21    0\n",
       "Name: For a future ride, I would prefer to:, dtype: int64"
      ]
     },
     "execution_count": 102,
     "metadata": {},
     "output_type": "execute_result"
    }
   ],
   "source": [
    "df[df.columns[34]].replace({'Try another assistant':-1,'No preference':0,'Keep the same assistant': 1})"
   ]
  },
  {
   "cell_type": "code",
   "execution_count": null,
   "metadata": {},
   "outputs": [],
   "source": [
    "pref_replaced = df[df.columns[34]].replace({'Try another assistant':-1,'No preference':0,'Keep the same assistant': 1})"
   ]
  },
  {
   "cell_type": "code",
   "execution_count": 104,
   "metadata": {},
   "outputs": [
    {
     "name": "stdout",
     "output_type": "stream",
     "text": [
      "For a future ride, I would prefer to:\n"
     ]
    }
   ],
   "source": [
    "print(list(df)[34])\n",
    "df[df.columns[34]].replace({'Try another assistant':-1,'No preference':0,'Keep the same assistant': 1}, inplace=True)\n",
    "x = df.loc[df['System']=='Julie'][list(df)[34]]\n",
    "y = df.loc[df['System']=='Lily'][list(df)[34]]"
   ]
  },
  {
   "cell_type": "code",
   "execution_count": 105,
   "metadata": {},
   "outputs": [
    {
     "data": {
      "text/plain": [
       "0     1\n",
       "1     0\n",
       "2    -1\n",
       "3     1\n",
       "4    -1\n",
       "5    -1\n",
       "6    -1\n",
       "7     0\n",
       "8    -1\n",
       "9     0\n",
       "10   -1\n",
       "11   -1\n",
       "12    0\n",
       "13   -1\n",
       "14   -1\n",
       "15   -1\n",
       "16   -1\n",
       "17    1\n",
       "18    1\n",
       "19   -1\n",
       "20    1\n",
       "21    0\n",
       "Name: For a future ride, I would prefer to:, dtype: int64"
      ]
     },
     "execution_count": 105,
     "metadata": {},
     "output_type": "execute_result"
    }
   ],
   "source": [
    "df[df.columns[34]]"
   ]
  },
  {
   "cell_type": "code",
   "execution_count": 106,
   "metadata": {},
   "outputs": [
    {
     "data": {
      "text/plain": [
       "MannwhitneyuResult(statistic=90.0, pvalue=0.03501555442686633)"
      ]
     },
     "execution_count": 106,
     "metadata": {},
     "output_type": "execute_result"
    }
   ],
   "source": [
    "mannwhitneyu(x,y, alternative = 'two-sided')"
   ]
  },
  {
   "cell_type": "code",
   "execution_count": 117,
   "metadata": {},
   "outputs": [
    {
     "data": {
      "text/plain": [
       "System  For a future ride, I would prefer to:\n",
       "Julie    1                                       5\n",
       "        -1                                       4\n",
       "         0                                       2\n",
       "Lily    -1                                       8\n",
       "         0                                       3\n",
       "Name: For a future ride, I would prefer to:, dtype: int64"
      ]
     },
     "execution_count": 117,
     "metadata": {},
     "output_type": "execute_result"
    }
   ],
   "source": [
    "df.groupby(['System'])[df.columns[34]].value_counts()"
   ]
  },
  {
   "cell_type": "markdown",
   "metadata": {},
   "source": [
    "*Nobody in the Lily group wanted to keep the same assistant!*"
   ]
  },
  {
   "cell_type": "markdown",
   "metadata": {},
   "source": [
    "### Adjectives describing the AV"
   ]
  },
  {
   "cell_type": "markdown",
   "metadata": {},
   "source": [
    "Here we extract the adjectives users specified to describe the AV."
   ]
  },
  {
   "cell_type": "markdown",
   "metadata": {},
   "source": [
    "**Please check all adjectives that would best describe the self-driving vehicle (select all that apply)**: Julie"
   ]
  },
  {
   "cell_type": "code",
   "execution_count": null,
   "metadata": {},
   "outputs": [],
   "source": [
    "all_adj_resp = df[[\"System\", 'Please check all adjectives that would best describe the self-driving vehicle (select all that apply).']]"
   ]
  },
  {
   "cell_type": "code",
   "execution_count": null,
   "metadata": {},
   "outputs": [],
   "source": [
    "julie_words1 = all_adj_resp[all_adj_resp.System.str.contains('Julie')]"
   ]
  },
  {
   "cell_type": "markdown",
   "metadata": {},
   "source": [
    "**Please check all adjectives that would best describe the self-driving vehicle (select all that apply)**: Lily"
   ]
  },
  {
   "cell_type": "code",
   "execution_count": null,
   "metadata": {},
   "outputs": [],
   "source": [
    "lily_words1 = all_adj_resp[all_adj_resp.System.str.contains('Lily')]"
   ]
  },
  {
   "cell_type": "code",
   "execution_count": null,
   "metadata": {},
   "outputs": [],
   "source": [
    "len(lily_words1)"
   ]
  },
  {
   "cell_type": "markdown",
   "metadata": {},
   "source": [
    "### Adjectives describing the assistant"
   ]
  },
  {
   "cell_type": "markdown",
   "metadata": {},
   "source": [
    "Here we extract the adjectives users specified to describe their assigned assistant."
   ]
  },
  {
   "cell_type": "markdown",
   "metadata": {},
   "source": [
    "**Please specify any other adjectives that would best describe the assistant not included in the list above.**: Julie"
   ]
  },
  {
   "cell_type": "code",
   "execution_count": null,
   "metadata": {},
   "outputs": [],
   "source": [
    "all_more_adj_resp = df[[\"System\", 'Please specify any other adjectives that would best describe the assistant not included in the list above.']]"
   ]
  },
  {
   "cell_type": "code",
   "execution_count": null,
   "metadata": {},
   "outputs": [],
   "source": [
    "julie_words2 = all_more_adj_resp[all_more_adj_resp.System.str.contains('Julie')]"
   ]
  },
  {
   "cell_type": "code",
   "execution_count": null,
   "metadata": {},
   "outputs": [],
   "source": [
    "len(julie_words2)"
   ]
  },
  {
   "cell_type": "code",
   "execution_count": null,
   "metadata": {},
   "outputs": [],
   "source": [
    "lily_words2 = all_more_adj_resp[all_more_adj_resp.System.str.contains('Lily')]"
   ]
  },
  {
   "cell_type": "code",
   "execution_count": null,
   "metadata": {},
   "outputs": [],
   "source": [
    "len(lily_words2)"
   ]
  },
  {
   "cell_type": "code",
   "execution_count": null,
   "metadata": {},
   "outputs": [],
   "source": [
    "def getWords(allWords):\n",
    "    print(allWords)\n",
    "    words = []\n",
    "    for index,row in allWords.iterrows():\n",
    "        if isinstance(row[1],str):\n",
    "            if ',' in row[1]:\n",
    "                words.extend(row[1].split(','))\n",
    "            else:\n",
    "                words.extend(row[1].split(' '))\n",
    "    words = [word.strip().lower() for word in words]\n",
    "    words = ' '.join(words)\n",
    "    return words"
   ]
  },
  {
   "cell_type": "code",
   "execution_count": null,
   "metadata": {},
   "outputs": [],
   "source": [
    "def random_color_func(word=None, font_size=None, position=None, orientation=None, font_path=None, random_state=None):\n",
    "    h = 30\n",
    "    s = int(100.0 * 255.0 / 255.0)\n",
    "    l = int(100.0 * float(random_state.randint(60, 120)) / 255.0)\n",
    "    return \"hsl({}, {}%, {}%)\".format(h, s, l)\n",
    "\n",
    "def makeWordcloud(allWords, title):\n",
    "    words = getWords(allWords)\n",
    "    wordcloud = WordCloud(font_path=\"AmaticSC-Bold.ttf\",collocations=False,\n",
    "                          max_words=25,\n",
    "                          background_color = 'white',\n",
    "                          width = 960,\n",
    "                          height = 960,\n",
    "                          max_font_size=300,\n",
    "                          random_state = 42,\n",
    "                          color_func = random_color_func).generate(words)\n",
    "    print(wordcloud.words_)\n",
    "    print(\"Number of words =\", len(wordcloud.words_))\n",
    "    print(list(wordcloud.words_.keys()))\n",
    "    plt.figure( figsize=(20,10))\n",
    "    plt.imshow(wordcloud)\n",
    "    plt.title(label=title, fontdict={'fontsize':20})\n",
    "    plt.axis('off')"
   ]
  },
  {
   "cell_type": "code",
   "execution_count": null,
   "metadata": {},
   "outputs": [],
   "source": [
    "makeWordcloud(julie_words1, \"Julie\")"
   ]
  },
  {
   "cell_type": "code",
   "execution_count": null,
   "metadata": {},
   "outputs": [],
   "source": [
    "makeWordcloud(lily_words1, \"Lilly\")"
   ]
  },
  {
   "cell_type": "code",
   "execution_count": null,
   "metadata": {},
   "outputs": [],
   "source": [
    "makeWordcloud(julie_words2, \"Julie\")"
   ]
  },
  {
   "cell_type": "code",
   "execution_count": null,
   "metadata": {},
   "outputs": [],
   "source": [
    "makeWordcloud(lily_words2, \"Lilly\")"
   ]
  },
  {
   "cell_type": "markdown",
   "metadata": {},
   "source": [
    "# OLD STUFF only here for ref"
   ]
  },
  {
   "cell_type": "code",
   "execution_count": null,
   "metadata": {},
   "outputs": [],
   "source": [
    "user_exp['Total'] = user_exp.sum(axis=1)"
   ]
  },
  {
   "cell_type": "code",
   "execution_count": null,
   "metadata": {},
   "outputs": [],
   "source": [
    "user_exp_group_by_system = user_exp.groupby(['System'])\n",
    "user_exp_group_by_system.mean()"
   ]
  },
  {
   "cell_type": "code",
   "execution_count": null,
   "metadata": {},
   "outputs": [],
   "source": [
    "user_exp_group_by_system.var()"
   ]
  },
  {
   "cell_type": "code",
   "execution_count": null,
   "metadata": {},
   "outputs": [],
   "source": [
    "columns = ['System','Comfort','Safety','Others Safety', 'Trustworthiness', 'Riding again','Total']\n",
    "user_exp.columns = columns\n",
    "temp = user_exp.groupby(['System']).mean()\n",
    "temp = temp[temp.columns[:-1]]\n",
    "\n",
    "fig, ax = plt.subplots()\n",
    "ind = np.arange(5)\n",
    "width = 0.25\n",
    "julie = temp.iloc[0]\n",
    "lily = temp.iloc[1]\n",
    "julie_bars = ax.bar(ind, julie, width, color='r')\n",
    "lily_bars = ax.bar(ind + width, lily, width, color='g')\n",
    "ax.set_xticks(ind + width/2.0)\n",
    "ax.set_xticklabels(('Comfort','Safety','Others Safety', 'Trustworthiness', 'Riding again'))\n",
    "plt.xticks(rotation=45)\n",
    "plt.ylim(0,5)\n",
    "plt.yticks(np.arange(0, 5, .5))\n",
    "plt.ylabel('Mean response')\n",
    "plt.legend(['Julie','Lily'],loc=4)\n",
    "plt.show()"
   ]
  },
  {
   "cell_type": "markdown",
   "metadata": {},
   "source": [
    "### Confidence in vehicle capability"
   ]
  },
  {
   "cell_type": "code",
   "execution_count": null,
   "metadata": {},
   "outputs": [],
   "source": [
    "vehicle_cap = df[df.columns[:12]]\n",
    "vehicle_cap = vehicle_cap.drop(vehicle_cap.columns[1:6],axis=1)\n",
    "vehicle_cap_group_by_system = vehicle_cap.groupby(['System'])\n",
    "vehicle_cap_group_by_system.sum()"
   ]
  },
  {
   "cell_type": "code",
   "execution_count": null,
   "metadata": {},
   "outputs": [],
   "source": [
    "vehicle_cap['Total'] = vehicle_cap.sum(axis=1)"
   ]
  },
  {
   "cell_type": "code",
   "execution_count": null,
   "metadata": {},
   "outputs": [],
   "source": [
    "vehicle_cap_group_by_system = vehicle_cap.groupby(['System'])\n",
    "vehicle_cap_group_by_system.sum()"
   ]
  },
  {
   "cell_type": "code",
   "execution_count": null,
   "metadata": {},
   "outputs": [],
   "source": [
    "vehicle_cap_group_by_system2.mean()"
   ]
  },
  {
   "cell_type": "markdown",
   "metadata": {},
   "source": [
    "### perceived AV anthropomorphic characteristics"
   ]
  },
  {
   "cell_type": "code",
   "execution_count": null,
   "metadata": {},
   "outputs": [],
   "source": [
    "chrs = df[df.columns[:15]]\n",
    "chrs = chrs.drop(chrs.columns[1:-3],axis=1)"
   ]
  },
  {
   "cell_type": "code",
   "execution_count": null,
   "metadata": {},
   "outputs": [],
   "source": [
    "chrs['Total'] = chrs.sum(axis=1)"
   ]
  },
  {
   "cell_type": "code",
   "execution_count": null,
   "metadata": {},
   "outputs": [],
   "source": [
    "chrs_group_by_system = chrs.groupby(['System'])\n",
    "chrs_group_by_system.sum()"
   ]
  },
  {
   "cell_type": "code",
   "execution_count": null,
   "metadata": {},
   "outputs": [],
   "source": [
    "chrs_group_by_system2.mean()"
   ]
  },
  {
   "cell_type": "markdown",
   "metadata": {},
   "source": [
    "### value/usefulness of information provided "
   ]
  },
  {
   "cell_type": "code",
   "execution_count": null,
   "metadata": {},
   "outputs": [],
   "source": [
    "infovalue2 = df2[df2.columns[:-21]]\n",
    "infovalue2 = infovalue2.drop(infovalue2.columns[1:-11],axis=1)"
   ]
  },
  {
   "cell_type": "code",
   "execution_count": null,
   "metadata": {},
   "outputs": [],
   "source": [
    "infovalue2 = infovalue2.replace({'N/A':0})\n",
    "infovalue2['Total'] = infovalue2.sum(axis=1)"
   ]
  },
  {
   "cell_type": "code",
   "execution_count": null,
   "metadata": {},
   "outputs": [],
   "source": [
    "infovalue_group_by_system2 = infovalue2.groupby(['System'])\n",
    "infovalue_group_by_system2.sum()"
   ]
  },
  {
   "cell_type": "code",
   "execution_count": null,
   "metadata": {},
   "outputs": [],
   "source": [
    "infovalue_group_by_system2.mean()"
   ]
  },
  {
   "cell_type": "markdown",
   "metadata": {},
   "source": [
    "### distraction from the awareness of being in an AV"
   ]
  },
  {
   "cell_type": "code",
   "execution_count": null,
   "metadata": {
    "scrolled": true
   },
   "outputs": [],
   "source": [
    "distraction2 = df2[df2.columns[:-2]]\n",
    "distraction2 = distraction2.drop(distraction2.columns[1:-5],axis=1)"
   ]
  },
  {
   "cell_type": "code",
   "execution_count": null,
   "metadata": {},
   "outputs": [],
   "source": [
    "distraction2 = distraction2.replace({'Yes':1,'No':0})\n",
    "distraction2['Total'] = distraction2.sum(axis=1)"
   ]
  },
  {
   "cell_type": "code",
   "execution_count": null,
   "metadata": {},
   "outputs": [],
   "source": [
    "distraction_group_by_system2 = distraction2.groupby(['System'])\n",
    "distraction_group_by_system2.sum()"
   ]
  },
  {
   "cell_type": "code",
   "execution_count": null,
   "metadata": {},
   "outputs": [],
   "source": [
    "distraction_group_by_system2.mean()"
   ]
  },
  {
   "cell_type": "code",
   "execution_count": null,
   "metadata": {},
   "outputs": [],
   "source": [
    "# Plot comparing sums for Julie vs Lily for each question category\n",
    "fig, ax = plt.subplots()\n",
    "julie = (21.2, 24.5, 12.2, 43.8, 2.5)\n",
    "lily = (19.4, 21.8, 10.7, 39.2, 2.2)\n",
    "width = 0.25\n",
    "ind = np.arange(5)\n",
    "julie_bars = ax.bar(ind, julie, width, color='r')\n",
    "lily_bars = ax.bar(ind + width, lily, width,color='g')\n",
    "ax.set_title('End Ride Survey Data')\n",
    "ax.set_xticks(ind + width/2.0)\n",
    "ax.set_xticklabels(('UX','Vehicle Capabilities', 'Characteristics','Usefulness of Info', 'Distractions'))\n",
    "plt.xticks(rotation=60)\n",
    "plt.ylabel('sum of responses for question group')\n",
    "plt.xlabel('question grouping')\n",
    "plt.legend(['Julie','Lily'],loc=2)\n",
    "plt.show()"
   ]
  }
 ],
 "metadata": {
  "kernelspec": {
   "display_name": "Python 3",
   "language": "python",
   "name": "python3"
  },
  "language_info": {
   "codemirror_mode": {
    "name": "ipython",
    "version": 3
   },
   "file_extension": ".py",
   "mimetype": "text/x-python",
   "name": "python",
   "nbconvert_exporter": "python",
   "pygments_lexer": "ipython3",
   "version": "3.7.1"
  }
 },
 "nbformat": 4,
 "nbformat_minor": 2
}
