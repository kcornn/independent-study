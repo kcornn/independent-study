{
 "cells": [
  {
   "cell_type": "markdown",
   "metadata": {},
   "source": [
    "### Brief summary"
   ]
  },
  {
   "cell_type": "markdown",
   "metadata": {},
   "source": [
    "**Significant**\n",
    "- Confidence in vehicle's capability (control, capability, decision-making) - 0.020\n",
    "- Preference for a digital assistant in the future (IMPORTANT: *Nobody in the Lily group wanted to keep the same assistant!*) - 0.035\n",
    "\n",
    "**Not significant**\n",
    "- User Experience - 0.372\n",
    "- Characteristics of AV ride experience - 0.690\n",
    "- Trustworthy, Friendly, In Control - 0.245\n",
    "- Usefulness of provided information - 0.120\n",
    "- the degree to which the digital assistant distracted users from an awareness of being in an autonomous vehicle - 0.298\n",
    "- Environmental distraction - 0.387"
   ]
  },
  {
   "cell_type": "code",
   "execution_count": 446,
   "metadata": {},
   "outputs": [],
   "source": [
    "import pandas as pd\n",
    "import numpy as np\n",
    "import math\n",
    "import matplotlib.pyplot as plt\n",
    "from wordcloud import WordCloud, STOPWORDS\n",
    "from scipy.stats import mannwhitneyu, kruskal\n",
    "import re\n",
    "%matplotlib inline"
   ]
  },
  {
   "cell_type": "markdown",
   "metadata": {},
   "source": [
    "Loading endride data. Note that those who did not believe that the vehicle was autonomous were manually removed from the spreadsheet as was done in the preride and postride analyses."
   ]
  },
  {
   "cell_type": "code",
   "execution_count": 447,
   "metadata": {},
   "outputs": [],
   "source": [
    "df = pd.read_csv(\"endride_data_2.csv\")"
   ]
  },
  {
   "cell_type": "markdown",
   "metadata": {},
   "source": [
    "22 responses, same as the preride data"
   ]
  },
  {
   "cell_type": "code",
   "execution_count": 448,
   "metadata": {},
   "outputs": [
    {
     "data": {
      "text/plain": [
       "(22, 53)"
      ]
     },
     "execution_count": 448,
     "metadata": {},
     "output_type": "execute_result"
    }
   ],
   "source": [
    "df.shape"
   ]
  },
  {
   "cell_type": "markdown",
   "metadata": {},
   "source": [
    "Remove timestamp and name"
   ]
  },
  {
   "cell_type": "code",
   "execution_count": 449,
   "metadata": {
    "scrolled": true
   },
   "outputs": [],
   "source": [
    "df = df[df.columns[2:]]"
   ]
  },
  {
   "cell_type": "code",
   "execution_count": 450,
   "metadata": {},
   "outputs": [
    {
     "data": {
      "text/plain": [
       "(22, 51)"
      ]
     },
     "execution_count": 450,
     "metadata": {},
     "output_type": "execute_result"
    }
   ],
   "source": [
    "df.shape"
   ]
  },
  {
   "cell_type": "code",
   "execution_count": 451,
   "metadata": {},
   "outputs": [
    {
     "data": {
      "text/plain": [
       "System\n",
       "Julie    11\n",
       "Lily     11\n",
       "dtype: int64"
      ]
     },
     "execution_count": 451,
     "metadata": {},
     "output_type": "execute_result"
    }
   ],
   "source": [
    "group_by_system = df.groupby(['System'])\n",
    "group_by_system.size()"
   ]
  },
  {
   "cell_type": "code",
   "execution_count": 452,
   "metadata": {},
   "outputs": [],
   "source": [
    "# pd.DataFrame(list(df.columns.values))"
   ]
  },
  {
   "cell_type": "code",
   "execution_count": 564,
   "metadata": {},
   "outputs": [],
   "source": [
    "# df.columns"
   ]
  },
  {
   "cell_type": "markdown",
   "metadata": {},
   "source": [
    "### User experience - not significant"
   ]
  },
  {
   "cell_type": "code",
   "execution_count": 454,
   "metadata": {},
   "outputs": [],
   "source": [
    "user_exp = df[df.columns[:6]]"
   ]
  },
  {
   "cell_type": "code",
   "execution_count": 455,
   "metadata": {},
   "outputs": [
    {
     "data": {
      "text/plain": [
       "(22, 6)"
      ]
     },
     "execution_count": 455,
     "metadata": {},
     "output_type": "execute_result"
    }
   ],
   "source": [
    "user_exp.shape"
   ]
  },
  {
   "cell_type": "code",
   "execution_count": 456,
   "metadata": {},
   "outputs": [
    {
     "data": {
      "text/html": [
       "<div>\n",
       "<style scoped>\n",
       "    .dataframe tbody tr th:only-of-type {\n",
       "        vertical-align: middle;\n",
       "    }\n",
       "\n",
       "    .dataframe tbody tr th {\n",
       "        vertical-align: top;\n",
       "    }\n",
       "\n",
       "    .dataframe thead th {\n",
       "        text-align: right;\n",
       "    }\n",
       "</style>\n",
       "<table border=\"1\" class=\"dataframe\">\n",
       "  <thead>\n",
       "    <tr style=\"text-align: right;\">\n",
       "      <th></th>\n",
       "      <th>On a scale from 1-5, how would you rate your overall user experience in terms of: [Comfort &amp; relaxation during the ride]</th>\n",
       "      <th>On a scale from 1-5, how would you rate your overall user experience in terms of: [Perceived personal safety]</th>\n",
       "      <th>On a scale from 1-5, how would you rate your overall user experience in terms of: [Perceived safety of others]</th>\n",
       "      <th>On a scale from 1-5, how would you rate your overall user experience in terms of: [Degree of vehicle trustworthiness]</th>\n",
       "      <th>On a scale from 1-5, how would you rate your overall user experience in terms of: [Willingness to ride again]</th>\n",
       "    </tr>\n",
       "    <tr>\n",
       "      <th>System</th>\n",
       "      <th></th>\n",
       "      <th></th>\n",
       "      <th></th>\n",
       "      <th></th>\n",
       "      <th></th>\n",
       "    </tr>\n",
       "  </thead>\n",
       "  <tbody>\n",
       "    <tr>\n",
       "      <th>Julie</th>\n",
       "      <td>4.090909</td>\n",
       "      <td>4.181818</td>\n",
       "      <td>4.181818</td>\n",
       "      <td>3.818182</td>\n",
       "      <td>4.545455</td>\n",
       "    </tr>\n",
       "    <tr>\n",
       "      <th>Lily</th>\n",
       "      <td>3.818182</td>\n",
       "      <td>3.909091</td>\n",
       "      <td>3.636364</td>\n",
       "      <td>3.454545</td>\n",
       "      <td>4.545455</td>\n",
       "    </tr>\n",
       "  </tbody>\n",
       "</table>\n",
       "</div>"
      ],
      "text/plain": [
       "        On a scale from 1-5, how would you rate your overall user experience in terms of: [Comfort & relaxation during the ride]  \\\n",
       "System                                                                                                                             \n",
       "Julie                                            4.090909                                                                          \n",
       "Lily                                             3.818182                                                                          \n",
       "\n",
       "        On a scale from 1-5, how would you rate your overall user experience in terms of: [Perceived personal safety]  \\\n",
       "System                                                                                                                  \n",
       "Julie                                            4.181818                                                               \n",
       "Lily                                             3.909091                                                               \n",
       "\n",
       "        On a scale from 1-5, how would you rate your overall user experience in terms of: [Perceived safety of others]  \\\n",
       "System                                                                                                                   \n",
       "Julie                                            4.181818                                                                \n",
       "Lily                                             3.636364                                                                \n",
       "\n",
       "        On a scale from 1-5, how would you rate your overall user experience in terms of: [Degree of vehicle trustworthiness]  \\\n",
       "System                                                                                                                          \n",
       "Julie                                            3.818182                                                                       \n",
       "Lily                                             3.454545                                                                       \n",
       "\n",
       "        On a scale from 1-5, how would you rate your overall user experience in terms of: [Willingness to ride again]  \n",
       "System                                                                                                                 \n",
       "Julie                                            4.545455                                                              \n",
       "Lily                                             4.545455                                                              "
      ]
     },
     "execution_count": 456,
     "metadata": {},
     "output_type": "execute_result"
    }
   ],
   "source": [
    "user_exp.groupby([\"System\"]).mean()"
   ]
  },
  {
   "cell_type": "code",
   "execution_count": 457,
   "metadata": {},
   "outputs": [
    {
     "data": {
      "text/html": [
       "<div>\n",
       "<style scoped>\n",
       "    .dataframe tbody tr th:only-of-type {\n",
       "        vertical-align: middle;\n",
       "    }\n",
       "\n",
       "    .dataframe tbody tr th {\n",
       "        vertical-align: top;\n",
       "    }\n",
       "\n",
       "    .dataframe thead th {\n",
       "        text-align: right;\n",
       "    }\n",
       "</style>\n",
       "<table border=\"1\" class=\"dataframe\">\n",
       "  <thead>\n",
       "    <tr style=\"text-align: right;\">\n",
       "      <th></th>\n",
       "      <th>On a scale from 1-5, how would you rate your overall user experience in terms of: [Comfort &amp; relaxation during the ride]</th>\n",
       "      <th>On a scale from 1-5, how would you rate your overall user experience in terms of: [Perceived personal safety]</th>\n",
       "      <th>On a scale from 1-5, how would you rate your overall user experience in terms of: [Perceived safety of others]</th>\n",
       "      <th>On a scale from 1-5, how would you rate your overall user experience in terms of: [Degree of vehicle trustworthiness]</th>\n",
       "      <th>On a scale from 1-5, how would you rate your overall user experience in terms of: [Willingness to ride again]</th>\n",
       "    </tr>\n",
       "    <tr>\n",
       "      <th>System</th>\n",
       "      <th></th>\n",
       "      <th></th>\n",
       "      <th></th>\n",
       "      <th></th>\n",
       "      <th></th>\n",
       "    </tr>\n",
       "  </thead>\n",
       "  <tbody>\n",
       "    <tr>\n",
       "      <th>Julie</th>\n",
       "      <td>0.690909</td>\n",
       "      <td>0.563636</td>\n",
       "      <td>0.763636</td>\n",
       "      <td>0.763636</td>\n",
       "      <td>0.472727</td>\n",
       "    </tr>\n",
       "    <tr>\n",
       "      <th>Lily</th>\n",
       "      <td>0.963636</td>\n",
       "      <td>0.490909</td>\n",
       "      <td>0.854545</td>\n",
       "      <td>0.672727</td>\n",
       "      <td>0.472727</td>\n",
       "    </tr>\n",
       "  </tbody>\n",
       "</table>\n",
       "</div>"
      ],
      "text/plain": [
       "        On a scale from 1-5, how would you rate your overall user experience in terms of: [Comfort & relaxation during the ride]  \\\n",
       "System                                                                                                                             \n",
       "Julie                                            0.690909                                                                          \n",
       "Lily                                             0.963636                                                                          \n",
       "\n",
       "        On a scale from 1-5, how would you rate your overall user experience in terms of: [Perceived personal safety]  \\\n",
       "System                                                                                                                  \n",
       "Julie                                            0.563636                                                               \n",
       "Lily                                             0.490909                                                               \n",
       "\n",
       "        On a scale from 1-5, how would you rate your overall user experience in terms of: [Perceived safety of others]  \\\n",
       "System                                                                                                                   \n",
       "Julie                                            0.763636                                                                \n",
       "Lily                                             0.854545                                                                \n",
       "\n",
       "        On a scale from 1-5, how would you rate your overall user experience in terms of: [Degree of vehicle trustworthiness]  \\\n",
       "System                                                                                                                          \n",
       "Julie                                            0.763636                                                                       \n",
       "Lily                                             0.672727                                                                       \n",
       "\n",
       "        On a scale from 1-5, how would you rate your overall user experience in terms of: [Willingness to ride again]  \n",
       "System                                                                                                                 \n",
       "Julie                                            0.472727                                                              \n",
       "Lily                                             0.472727                                                              "
      ]
     },
     "execution_count": 457,
     "metadata": {},
     "output_type": "execute_result"
    }
   ],
   "source": [
    "user_exp.groupby([\"System\"]).var()"
   ]
  },
  {
   "cell_type": "markdown",
   "metadata": {},
   "source": [
    "Julie scored higher on average, except for \"Willingness to ride again\", where both Julie and Lily had the same average score."
   ]
  },
  {
   "cell_type": "code",
   "execution_count": 458,
   "metadata": {},
   "outputs": [
    {
     "data": {
      "text/plain": [
       "Index(['On a scale from 1-5, how would you rate your overall user experience in terms of: [Comfort & relaxation during the ride]',\n",
       "       'On a scale from 1-5, how would you rate your overall user experience in terms of: [Perceived personal safety]',\n",
       "       'On a scale from 1-5, how would you rate your overall user experience in terms of: [Perceived safety of others]',\n",
       "       'On a scale from 1-5, how would you rate your overall user experience in terms of: [Degree of vehicle trustworthiness]',\n",
       "       'On a scale from 1-5, how would you rate your overall user experience in terms of: [Willingness to ride again]'],\n",
       "      dtype='object')"
      ]
     },
     "execution_count": 458,
     "metadata": {},
     "output_type": "execute_result"
    }
   ],
   "source": [
    "user_exp.columns[1:6]"
   ]
  },
  {
   "cell_type": "code",
   "execution_count": 459,
   "metadata": {},
   "outputs": [],
   "source": [
    "df_user_exp = df.assign(UX = user_exp[user_exp.columns[1:6]].aggregate(axis = 1, func = sum))"
   ]
  },
  {
   "cell_type": "code",
   "execution_count": 460,
   "metadata": {},
   "outputs": [
    {
     "name": "stdout",
     "output_type": "stream",
     "text": [
      "UX\n"
     ]
    }
   ],
   "source": [
    "print(list(df_user_exp)[51])\n",
    "analysis_column = list(df_user_exp)[-1]\n",
    "x = df_user_exp.loc[df_user_exp['System']=='Julie'][analysis_column]\n",
    "y = df_user_exp.loc[df_user_exp['System']=='Lily'][analysis_column]"
   ]
  },
  {
   "cell_type": "code",
   "execution_count": 461,
   "metadata": {},
   "outputs": [
    {
     "data": {
      "text/html": [
       "<div>\n",
       "<style scoped>\n",
       "    .dataframe tbody tr th:only-of-type {\n",
       "        vertical-align: middle;\n",
       "    }\n",
       "\n",
       "    .dataframe tbody tr th {\n",
       "        vertical-align: top;\n",
       "    }\n",
       "\n",
       "    .dataframe thead th {\n",
       "        text-align: right;\n",
       "    }\n",
       "</style>\n",
       "<table border=\"1\" class=\"dataframe\">\n",
       "  <thead>\n",
       "    <tr style=\"text-align: right;\">\n",
       "      <th></th>\n",
       "      <th>UX</th>\n",
       "    </tr>\n",
       "    <tr>\n",
       "      <th>System</th>\n",
       "      <th></th>\n",
       "    </tr>\n",
       "  </thead>\n",
       "  <tbody>\n",
       "    <tr>\n",
       "      <th>Julie</th>\n",
       "      <td>20.818182</td>\n",
       "    </tr>\n",
       "    <tr>\n",
       "      <th>Lily</th>\n",
       "      <td>19.363636</td>\n",
       "    </tr>\n",
       "  </tbody>\n",
       "</table>\n",
       "</div>"
      ],
      "text/plain": [
       "               UX\n",
       "System           \n",
       "Julie   20.818182\n",
       "Lily    19.363636"
      ]
     },
     "execution_count": 461,
     "metadata": {},
     "output_type": "execute_result"
    }
   ],
   "source": [
    "pd.pivot_table(df_user_exp, values=(analysis_column), index=['System'], aggfunc=np.mean)"
   ]
  },
  {
   "cell_type": "code",
   "execution_count": 462,
   "metadata": {},
   "outputs": [
    {
     "data": {
      "text/plain": [
       "MannwhitneyuResult(statistic=74.5, pvalue=0.37237387607788974)"
      ]
     },
     "execution_count": 462,
     "metadata": {},
     "output_type": "execute_result"
    }
   ],
   "source": [
    "mannwhitneyu(x,y, alternative = 'two-sided')"
   ]
  },
  {
   "cell_type": "markdown",
   "metadata": {},
   "source": [
    "pvalue=0.37237387607788974"
   ]
  },
  {
   "cell_type": "markdown",
   "metadata": {},
   "source": [
    "### Confidence in vehicle's capability (control, capability, decision-making) - statistically significant"
   ]
  },
  {
   "cell_type": "code",
   "execution_count": 552,
   "metadata": {},
   "outputs": [
    {
     "data": {
      "text/plain": [
       "Index(['On a scale from 1-5, how would you rate your confidence in the vehicle's capability, in terms of: [AV control ]',\n",
       "       'On a scale from 1-5, how would you rate your confidence in the vehicle's capability, in terms of: [Driving capability]',\n",
       "       'On a scale from 1-5, how would you rate your confidence in the vehicle's capability, in terms of: [Decision-making ability]'],\n",
       "      dtype='object')"
      ]
     },
     "execution_count": 552,
     "metadata": {},
     "output_type": "execute_result"
    }
   ],
   "source": [
    "df.columns[6:9]"
   ]
  },
  {
   "cell_type": "code",
   "execution_count": 553,
   "metadata": {},
   "outputs": [],
   "source": [
    "capability = df[df.columns[6:9]]"
   ]
  },
  {
   "cell_type": "code",
   "execution_count": 555,
   "metadata": {},
   "outputs": [],
   "source": [
    "df_capability = df.assign(Capability = capability[capability.columns[:3]].aggregate(axis = 1, func = sum) / 3)"
   ]
  },
  {
   "cell_type": "code",
   "execution_count": 556,
   "metadata": {},
   "outputs": [
    {
     "data": {
      "text/html": [
       "<div>\n",
       "<style scoped>\n",
       "    .dataframe tbody tr th:only-of-type {\n",
       "        vertical-align: middle;\n",
       "    }\n",
       "\n",
       "    .dataframe tbody tr th {\n",
       "        vertical-align: top;\n",
       "    }\n",
       "\n",
       "    .dataframe thead th {\n",
       "        text-align: right;\n",
       "    }\n",
       "</style>\n",
       "<table border=\"1\" class=\"dataframe\">\n",
       "  <thead>\n",
       "    <tr style=\"text-align: right;\">\n",
       "      <th></th>\n",
       "      <th>System</th>\n",
       "      <th>On a scale from 1-5, how would you rate your overall user experience in terms of: [Comfort &amp; relaxation during the ride]</th>\n",
       "      <th>On a scale from 1-5, how would you rate your overall user experience in terms of: [Perceived personal safety]</th>\n",
       "      <th>On a scale from 1-5, how would you rate your overall user experience in terms of: [Perceived safety of others]</th>\n",
       "      <th>On a scale from 1-5, how would you rate your overall user experience in terms of: [Degree of vehicle trustworthiness]</th>\n",
       "      <th>On a scale from 1-5, how would you rate your overall user experience in terms of: [Willingness to ride again]</th>\n",
       "      <th>On a scale from 1-5, how would you rate your confidence in the vehicle's capability, in terms of: [AV control ]</th>\n",
       "      <th>On a scale from 1-5, how would you rate your confidence in the vehicle's capability, in terms of: [Driving capability]</th>\n",
       "      <th>On a scale from 1-5, how would you rate your confidence in the vehicle's capability, in terms of: [Decision-making ability]</th>\n",
       "      <th>Please rate each aspect of your autonomous vehicle ride experience on a scale from 1-5 (5 being the highest): [Interaction with the Digital assistant]</th>\n",
       "      <th>...</th>\n",
       "      <th>Are there new features that would prefer we add?</th>\n",
       "      <th>Are there features you disliked and would prefer that we remove or improve in the future?</th>\n",
       "      <th>Please indicate if following attributes affected your riding experience:  [Bumpiness]</th>\n",
       "      <th>Please indicate if following attributes affected your riding experience:  [Trip length]</th>\n",
       "      <th>Please indicate if following attributes affected your riding experience:  [Swirviness (side to side motion)]</th>\n",
       "      <th>Please indicate if following attributes affected your riding experience:  [Roundabouts]</th>\n",
       "      <th>Please indicate if following attributes affected your riding experience:  [Sudden stops]</th>\n",
       "      <th>Please comment on how the above factors affected your riding experience, if there were such factors.</th>\n",
       "      <th>Were there other factors that affected your riding experience? Please identify and comment, if there were such factors.</th>\n",
       "      <th>Capability</th>\n",
       "    </tr>\n",
       "  </thead>\n",
       "  <tbody>\n",
       "    <tr>\n",
       "      <th>0</th>\n",
       "      <td>Julie</td>\n",
       "      <td>3</td>\n",
       "      <td>3</td>\n",
       "      <td>4</td>\n",
       "      <td>3</td>\n",
       "      <td>4</td>\n",
       "      <td>4</td>\n",
       "      <td>4</td>\n",
       "      <td>4</td>\n",
       "      <td>4</td>\n",
       "      <td>...</td>\n",
       "      <td>no</td>\n",
       "      <td>car was a bit cold and the ac  was noisy</td>\n",
       "      <td>Yes</td>\n",
       "      <td>No</td>\n",
       "      <td>No</td>\n",
       "      <td>Yes</td>\n",
       "      <td>Yes</td>\n",
       "      <td>car went  on stone cobbles which was unexpected</td>\n",
       "      <td>stone cobbles and bumpy ride</td>\n",
       "      <td>4.000000</td>\n",
       "    </tr>\n",
       "    <tr>\n",
       "      <th>1</th>\n",
       "      <td>Lily</td>\n",
       "      <td>5</td>\n",
       "      <td>5</td>\n",
       "      <td>4</td>\n",
       "      <td>4</td>\n",
       "      <td>5</td>\n",
       "      <td>4</td>\n",
       "      <td>4</td>\n",
       "      <td>4</td>\n",
       "      <td>5</td>\n",
       "      <td>...</td>\n",
       "      <td>more comfortable seats. since i'm not driving,...</td>\n",
       "      <td>no</td>\n",
       "      <td>No</td>\n",
       "      <td>No</td>\n",
       "      <td>No</td>\n",
       "      <td>Yes</td>\n",
       "      <td>Yes</td>\n",
       "      <td>there was a sudden stop in front of someone cr...</td>\n",
       "      <td>no</td>\n",
       "      <td>4.000000</td>\n",
       "    </tr>\n",
       "    <tr>\n",
       "      <th>2</th>\n",
       "      <td>Julie</td>\n",
       "      <td>3</td>\n",
       "      <td>4</td>\n",
       "      <td>4</td>\n",
       "      <td>3</td>\n",
       "      <td>4</td>\n",
       "      <td>4</td>\n",
       "      <td>3</td>\n",
       "      <td>3</td>\n",
       "      <td>2</td>\n",
       "      <td>...</td>\n",
       "      <td>I think it might be better to see in front of ...</td>\n",
       "      <td>I prefer no T.V. if possible / to view in fron...</td>\n",
       "      <td>Yes</td>\n",
       "      <td>Yes</td>\n",
       "      <td>No</td>\n",
       "      <td>Yes</td>\n",
       "      <td>Yes</td>\n",
       "      <td>Going in a loop while it reroutes is pretty ja...</td>\n",
       "      <td>Stops feel abrupt sometimes, going through spe...</td>\n",
       "      <td>3.333333</td>\n",
       "    </tr>\n",
       "    <tr>\n",
       "      <th>3</th>\n",
       "      <td>Julie</td>\n",
       "      <td>4</td>\n",
       "      <td>4</td>\n",
       "      <td>4</td>\n",
       "      <td>4</td>\n",
       "      <td>5</td>\n",
       "      <td>5</td>\n",
       "      <td>5</td>\n",
       "      <td>4</td>\n",
       "      <td>4</td>\n",
       "      <td>...</td>\n",
       "      <td>Ability to see out the window more and take aw...</td>\n",
       "      <td>The TV screen - it didn't help and made me fee...</td>\n",
       "      <td>Yes</td>\n",
       "      <td>No</td>\n",
       "      <td>No</td>\n",
       "      <td>Yes</td>\n",
       "      <td>Yes</td>\n",
       "      <td>I didn't like going around the traffic circle ...</td>\n",
       "      <td>No</td>\n",
       "      <td>4.666667</td>\n",
       "    </tr>\n",
       "    <tr>\n",
       "      <th>4</th>\n",
       "      <td>Lily</td>\n",
       "      <td>3</td>\n",
       "      <td>3</td>\n",
       "      <td>2</td>\n",
       "      <td>2</td>\n",
       "      <td>5</td>\n",
       "      <td>3</td>\n",
       "      <td>2</td>\n",
       "      <td>3</td>\n",
       "      <td>3</td>\n",
       "      <td>...</td>\n",
       "      <td>none that i can think of</td>\n",
       "      <td>None that I can think of.</td>\n",
       "      <td>Yes</td>\n",
       "      <td>No</td>\n",
       "      <td>No</td>\n",
       "      <td>Yes</td>\n",
       "      <td>Yes</td>\n",
       "      <td>Some of the above factors made me nervous abou...</td>\n",
       "      <td>I wish I could have seen out the front window ...</td>\n",
       "      <td>2.666667</td>\n",
       "    </tr>\n",
       "    <tr>\n",
       "      <th>5</th>\n",
       "      <td>Julie</td>\n",
       "      <td>4</td>\n",
       "      <td>5</td>\n",
       "      <td>5</td>\n",
       "      <td>4</td>\n",
       "      <td>5</td>\n",
       "      <td>5</td>\n",
       "      <td>4</td>\n",
       "      <td>4</td>\n",
       "      <td>5</td>\n",
       "      <td>...</td>\n",
       "      <td>cant think of any now</td>\n",
       "      <td>none</td>\n",
       "      <td>Yes</td>\n",
       "      <td>No</td>\n",
       "      <td>No</td>\n",
       "      <td>Yes</td>\n",
       "      <td>Yes</td>\n",
       "      <td>It was discomfort but if given to drive in an ...</td>\n",
       "      <td>NaN</td>\n",
       "      <td>4.333333</td>\n",
       "    </tr>\n",
       "    <tr>\n",
       "      <th>6</th>\n",
       "      <td>Lily</td>\n",
       "      <td>4</td>\n",
       "      <td>5</td>\n",
       "      <td>5</td>\n",
       "      <td>3</td>\n",
       "      <td>4</td>\n",
       "      <td>4</td>\n",
       "      <td>4</td>\n",
       "      <td>3</td>\n",
       "      <td>3</td>\n",
       "      <td>...</td>\n",
       "      <td>I would like the option to provide instruction...</td>\n",
       "      <td>whatever caused it to circle the roundabout 3 ...</td>\n",
       "      <td>Yes</td>\n",
       "      <td>No</td>\n",
       "      <td>No</td>\n",
       "      <td>Yes</td>\n",
       "      <td>Yes</td>\n",
       "      <td>The roundabouts seemed challenging for the veh...</td>\n",
       "      <td>sudden stop when encountering a pedestrian app...</td>\n",
       "      <td>3.666667</td>\n",
       "    </tr>\n",
       "    <tr>\n",
       "      <th>7</th>\n",
       "      <td>Julie</td>\n",
       "      <td>4</td>\n",
       "      <td>4</td>\n",
       "      <td>4</td>\n",
       "      <td>4</td>\n",
       "      <td>4</td>\n",
       "      <td>4</td>\n",
       "      <td>4</td>\n",
       "      <td>4</td>\n",
       "      <td>4</td>\n",
       "      <td>...</td>\n",
       "      <td>none</td>\n",
       "      <td>ride was bumpy on several locations</td>\n",
       "      <td>Yes</td>\n",
       "      <td>Yes</td>\n",
       "      <td>No</td>\n",
       "      <td>Yes</td>\n",
       "      <td>No</td>\n",
       "      <td>riding 3x in the same roundabout is annoying, ...</td>\n",
       "      <td>none</td>\n",
       "      <td>4.000000</td>\n",
       "    </tr>\n",
       "    <tr>\n",
       "      <th>8</th>\n",
       "      <td>Lily</td>\n",
       "      <td>3</td>\n",
       "      <td>4</td>\n",
       "      <td>4</td>\n",
       "      <td>3</td>\n",
       "      <td>4</td>\n",
       "      <td>4</td>\n",
       "      <td>4</td>\n",
       "      <td>3</td>\n",
       "      <td>3</td>\n",
       "      <td>...</td>\n",
       "      <td>Switch away from low-hung GoPro in exchange fo...</td>\n",
       "      <td>nagging</td>\n",
       "      <td>Yes</td>\n",
       "      <td>No</td>\n",
       "      <td>No</td>\n",
       "      <td>No</td>\n",
       "      <td>Yes</td>\n",
       "      <td>accommodations in this van are far from plush</td>\n",
       "      <td>nausea from spatial dimensions of the gopro ca...</td>\n",
       "      <td>3.666667</td>\n",
       "    </tr>\n",
       "    <tr>\n",
       "      <th>9</th>\n",
       "      <td>Julie</td>\n",
       "      <td>5</td>\n",
       "      <td>5</td>\n",
       "      <td>5</td>\n",
       "      <td>5</td>\n",
       "      <td>5</td>\n",
       "      <td>5</td>\n",
       "      <td>4</td>\n",
       "      <td>5</td>\n",
       "      <td>5</td>\n",
       "      <td>...</td>\n",
       "      <td>None</td>\n",
       "      <td>No</td>\n",
       "      <td>No</td>\n",
       "      <td>No</td>\n",
       "      <td>No</td>\n",
       "      <td>Yes</td>\n",
       "      <td>Yes</td>\n",
       "      <td>I felt that having the round-about, the sudden...</td>\n",
       "      <td>I think that experiencing people walking, ridi...</td>\n",
       "      <td>4.666667</td>\n",
       "    </tr>\n",
       "    <tr>\n",
       "      <th>10</th>\n",
       "      <td>Lily</td>\n",
       "      <td>4</td>\n",
       "      <td>4</td>\n",
       "      <td>3</td>\n",
       "      <td>3</td>\n",
       "      <td>5</td>\n",
       "      <td>4</td>\n",
       "      <td>4</td>\n",
       "      <td>4</td>\n",
       "      <td>4</td>\n",
       "      <td>...</td>\n",
       "      <td>Not sure</td>\n",
       "      <td>No</td>\n",
       "      <td>No</td>\n",
       "      <td>No</td>\n",
       "      <td>No</td>\n",
       "      <td>Yes</td>\n",
       "      <td>No</td>\n",
       "      <td>The vehicle circled around a roundabout a few ...</td>\n",
       "      <td>NaN</td>\n",
       "      <td>4.000000</td>\n",
       "    </tr>\n",
       "    <tr>\n",
       "      <th>11</th>\n",
       "      <td>Julie</td>\n",
       "      <td>3</td>\n",
       "      <td>3</td>\n",
       "      <td>2</td>\n",
       "      <td>3</td>\n",
       "      <td>3</td>\n",
       "      <td>4</td>\n",
       "      <td>4</td>\n",
       "      <td>3</td>\n",
       "      <td>3</td>\n",
       "      <td>...</td>\n",
       "      <td>Nearby comforts, especially for longer trips, ...</td>\n",
       "      <td>NaN</td>\n",
       "      <td>Yes</td>\n",
       "      <td>No</td>\n",
       "      <td>Yes</td>\n",
       "      <td>Yes</td>\n",
       "      <td>Yes</td>\n",
       "      <td>No idea why a smart vehicle would loop around ...</td>\n",
       "      <td>I began to feel nauseous near the end of the trip</td>\n",
       "      <td>3.666667</td>\n",
       "    </tr>\n",
       "    <tr>\n",
       "      <th>12</th>\n",
       "      <td>Lily</td>\n",
       "      <td>4</td>\n",
       "      <td>4</td>\n",
       "      <td>3</td>\n",
       "      <td>4</td>\n",
       "      <td>5</td>\n",
       "      <td>4</td>\n",
       "      <td>4</td>\n",
       "      <td>4</td>\n",
       "      <td>5</td>\n",
       "      <td>...</td>\n",
       "      <td>dock for iPhone to play music</td>\n",
       "      <td>none that I can think of now</td>\n",
       "      <td>No</td>\n",
       "      <td>No</td>\n",
       "      <td>No</td>\n",
       "      <td>Yes</td>\n",
       "      <td>Yes</td>\n",
       "      <td>minor</td>\n",
       "      <td>NaN</td>\n",
       "      <td>4.000000</td>\n",
       "    </tr>\n",
       "    <tr>\n",
       "      <th>13</th>\n",
       "      <td>Lily</td>\n",
       "      <td>2</td>\n",
       "      <td>3</td>\n",
       "      <td>3</td>\n",
       "      <td>3</td>\n",
       "      <td>4</td>\n",
       "      <td>4</td>\n",
       "      <td>4</td>\n",
       "      <td>2</td>\n",
       "      <td>2</td>\n",
       "      <td>...</td>\n",
       "      <td>No</td>\n",
       "      <td>I didn't like the monitor showing the road</td>\n",
       "      <td>No</td>\n",
       "      <td>No</td>\n",
       "      <td>No</td>\n",
       "      <td>Yes</td>\n",
       "      <td>Yes</td>\n",
       "      <td>The vehicle didn't seem to do well with rounda...</td>\n",
       "      <td>The vehicle didn't seem to know how to navigat...</td>\n",
       "      <td>3.333333</td>\n",
       "    </tr>\n",
       "    <tr>\n",
       "      <th>14</th>\n",
       "      <td>Lily</td>\n",
       "      <td>4</td>\n",
       "      <td>4</td>\n",
       "      <td>4</td>\n",
       "      <td>5</td>\n",
       "      <td>5</td>\n",
       "      <td>4</td>\n",
       "      <td>5</td>\n",
       "      <td>4</td>\n",
       "      <td>5</td>\n",
       "      <td>...</td>\n",
       "      <td>when backing up, I would've wanted to see the ...</td>\n",
       "      <td>I see the foam padding behind the screen was p...</td>\n",
       "      <td>No</td>\n",
       "      <td>No</td>\n",
       "      <td>No</td>\n",
       "      <td>Yes</td>\n",
       "      <td>No</td>\n",
       "      <td>The three trips around the roundabout made me ...</td>\n",
       "      <td>I was a little concerned about the constructio...</td>\n",
       "      <td>4.333333</td>\n",
       "    </tr>\n",
       "    <tr>\n",
       "      <th>15</th>\n",
       "      <td>Julie</td>\n",
       "      <td>4</td>\n",
       "      <td>4</td>\n",
       "      <td>5</td>\n",
       "      <td>3</td>\n",
       "      <td>5</td>\n",
       "      <td>5</td>\n",
       "      <td>4</td>\n",
       "      <td>4</td>\n",
       "      <td>3</td>\n",
       "      <td>...</td>\n",
       "      <td>seeing through the front window</td>\n",
       "      <td>it wasn't a particularly comforatable feeling ...</td>\n",
       "      <td>No</td>\n",
       "      <td>No</td>\n",
       "      <td>No</td>\n",
       "      <td>No</td>\n",
       "      <td>Yes</td>\n",
       "      <td>there was an unnecessary sudden stop at a stop...</td>\n",
       "      <td>NaN</td>\n",
       "      <td>4.333333</td>\n",
       "    </tr>\n",
       "    <tr>\n",
       "      <th>16</th>\n",
       "      <td>Lily</td>\n",
       "      <td>3</td>\n",
       "      <td>3</td>\n",
       "      <td>3</td>\n",
       "      <td>3</td>\n",
       "      <td>3</td>\n",
       "      <td>3</td>\n",
       "      <td>3</td>\n",
       "      <td>2</td>\n",
       "      <td>3</td>\n",
       "      <td>...</td>\n",
       "      <td>NaN</td>\n",
       "      <td>Asking for my experience during the ride</td>\n",
       "      <td>Yes</td>\n",
       "      <td>No</td>\n",
       "      <td>No</td>\n",
       "      <td>Yes</td>\n",
       "      <td>Yes</td>\n",
       "      <td>The ride was not smooth and there were parts o...</td>\n",
       "      <td>Ride was boring, no music or entertainment tha...</td>\n",
       "      <td>2.666667</td>\n",
       "    </tr>\n",
       "    <tr>\n",
       "      <th>17</th>\n",
       "      <td>Julie</td>\n",
       "      <td>5</td>\n",
       "      <td>5</td>\n",
       "      <td>4</td>\n",
       "      <td>5</td>\n",
       "      <td>5</td>\n",
       "      <td>5</td>\n",
       "      <td>5</td>\n",
       "      <td>5</td>\n",
       "      <td>5</td>\n",
       "      <td>...</td>\n",
       "      <td>None.</td>\n",
       "      <td>I think the front camera had a little fisheye ...</td>\n",
       "      <td>No</td>\n",
       "      <td>No</td>\n",
       "      <td>No</td>\n",
       "      <td>Yes</td>\n",
       "      <td>No</td>\n",
       "      <td>The re-routing roundabout made me very slightl...</td>\n",
       "      <td>I think mainly not being able to have full fie...</td>\n",
       "      <td>5.000000</td>\n",
       "    </tr>\n",
       "    <tr>\n",
       "      <th>18</th>\n",
       "      <td>Julie</td>\n",
       "      <td>5</td>\n",
       "      <td>5</td>\n",
       "      <td>5</td>\n",
       "      <td>5</td>\n",
       "      <td>5</td>\n",
       "      <td>5</td>\n",
       "      <td>5</td>\n",
       "      <td>3</td>\n",
       "      <td>5</td>\n",
       "      <td>...</td>\n",
       "      <td>i thought it was just right as is</td>\n",
       "      <td>screen could be smaller</td>\n",
       "      <td>Yes</td>\n",
       "      <td>No</td>\n",
       "      <td>No</td>\n",
       "      <td>Yes</td>\n",
       "      <td>No</td>\n",
       "      <td>seems like the car got a little confuse on the...</td>\n",
       "      <td>road work,</td>\n",
       "      <td>4.333333</td>\n",
       "    </tr>\n",
       "    <tr>\n",
       "      <th>19</th>\n",
       "      <td>Lily</td>\n",
       "      <td>5</td>\n",
       "      <td>4</td>\n",
       "      <td>4</td>\n",
       "      <td>4</td>\n",
       "      <td>5</td>\n",
       "      <td>4</td>\n",
       "      <td>4</td>\n",
       "      <td>3</td>\n",
       "      <td>4</td>\n",
       "      <td>...</td>\n",
       "      <td>transformable seats, workspace</td>\n",
       "      <td>no</td>\n",
       "      <td>No</td>\n",
       "      <td>No</td>\n",
       "      <td>No</td>\n",
       "      <td>Yes</td>\n",
       "      <td>Yes</td>\n",
       "      <td>the car took the roundabout two times, once it...</td>\n",
       "      <td>I was wondering if there was a safety driver i...</td>\n",
       "      <td>3.666667</td>\n",
       "    </tr>\n",
       "    <tr>\n",
       "      <th>20</th>\n",
       "      <td>Julie</td>\n",
       "      <td>5</td>\n",
       "      <td>4</td>\n",
       "      <td>4</td>\n",
       "      <td>3</td>\n",
       "      <td>5</td>\n",
       "      <td>5</td>\n",
       "      <td>4</td>\n",
       "      <td>5</td>\n",
       "      <td>5</td>\n",
       "      <td>...</td>\n",
       "      <td>Music selection and lighting change</td>\n",
       "      <td>No</td>\n",
       "      <td>No</td>\n",
       "      <td>No</td>\n",
       "      <td>No</td>\n",
       "      <td>Yes</td>\n",
       "      <td>Yes</td>\n",
       "      <td>The car went around a roundabout 3(?) times. T...</td>\n",
       "      <td>NaN</td>\n",
       "      <td>4.666667</td>\n",
       "    </tr>\n",
       "    <tr>\n",
       "      <th>21</th>\n",
       "      <td>Lily</td>\n",
       "      <td>5</td>\n",
       "      <td>4</td>\n",
       "      <td>5</td>\n",
       "      <td>4</td>\n",
       "      <td>5</td>\n",
       "      <td>5</td>\n",
       "      <td>4</td>\n",
       "      <td>4</td>\n",
       "      <td>5</td>\n",
       "      <td>...</td>\n",
       "      <td>putting the window down</td>\n",
       "      <td>no</td>\n",
       "      <td>Yes</td>\n",
       "      <td>Yes</td>\n",
       "      <td>No</td>\n",
       "      <td>Yes</td>\n",
       "      <td>No</td>\n",
       "      <td>It went around the roundabout 3x, so I was con...</td>\n",
       "      <td>NaN</td>\n",
       "      <td>4.333333</td>\n",
       "    </tr>\n",
       "  </tbody>\n",
       "</table>\n",
       "<p>22 rows × 52 columns</p>\n",
       "</div>"
      ],
      "text/plain": [
       "   System  \\\n",
       "0   Julie   \n",
       "1    Lily   \n",
       "2   Julie   \n",
       "3   Julie   \n",
       "4    Lily   \n",
       "5   Julie   \n",
       "6    Lily   \n",
       "7   Julie   \n",
       "8    Lily   \n",
       "9   Julie   \n",
       "10   Lily   \n",
       "11  Julie   \n",
       "12   Lily   \n",
       "13   Lily   \n",
       "14   Lily   \n",
       "15  Julie   \n",
       "16   Lily   \n",
       "17  Julie   \n",
       "18  Julie   \n",
       "19   Lily   \n",
       "20  Julie   \n",
       "21   Lily   \n",
       "\n",
       "    On a scale from 1-5, how would you rate your overall user experience in terms of: [Comfort & relaxation during the ride]  \\\n",
       "0                                                   3                                                                          \n",
       "1                                                   5                                                                          \n",
       "2                                                   3                                                                          \n",
       "3                                                   4                                                                          \n",
       "4                                                   3                                                                          \n",
       "5                                                   4                                                                          \n",
       "6                                                   4                                                                          \n",
       "7                                                   4                                                                          \n",
       "8                                                   3                                                                          \n",
       "9                                                   5                                                                          \n",
       "10                                                  4                                                                          \n",
       "11                                                  3                                                                          \n",
       "12                                                  4                                                                          \n",
       "13                                                  2                                                                          \n",
       "14                                                  4                                                                          \n",
       "15                                                  4                                                                          \n",
       "16                                                  3                                                                          \n",
       "17                                                  5                                                                          \n",
       "18                                                  5                                                                          \n",
       "19                                                  5                                                                          \n",
       "20                                                  5                                                                          \n",
       "21                                                  5                                                                          \n",
       "\n",
       "    On a scale from 1-5, how would you rate your overall user experience in terms of: [Perceived personal safety]  \\\n",
       "0                                                   3                                                               \n",
       "1                                                   5                                                               \n",
       "2                                                   4                                                               \n",
       "3                                                   4                                                               \n",
       "4                                                   3                                                               \n",
       "5                                                   5                                                               \n",
       "6                                                   5                                                               \n",
       "7                                                   4                                                               \n",
       "8                                                   4                                                               \n",
       "9                                                   5                                                               \n",
       "10                                                  4                                                               \n",
       "11                                                  3                                                               \n",
       "12                                                  4                                                               \n",
       "13                                                  3                                                               \n",
       "14                                                  4                                                               \n",
       "15                                                  4                                                               \n",
       "16                                                  3                                                               \n",
       "17                                                  5                                                               \n",
       "18                                                  5                                                               \n",
       "19                                                  4                                                               \n",
       "20                                                  4                                                               \n",
       "21                                                  4                                                               \n",
       "\n",
       "    On a scale from 1-5, how would you rate your overall user experience in terms of: [Perceived safety of others]  \\\n",
       "0                                                   4                                                                \n",
       "1                                                   4                                                                \n",
       "2                                                   4                                                                \n",
       "3                                                   4                                                                \n",
       "4                                                   2                                                                \n",
       "5                                                   5                                                                \n",
       "6                                                   5                                                                \n",
       "7                                                   4                                                                \n",
       "8                                                   4                                                                \n",
       "9                                                   5                                                                \n",
       "10                                                  3                                                                \n",
       "11                                                  2                                                                \n",
       "12                                                  3                                                                \n",
       "13                                                  3                                                                \n",
       "14                                                  4                                                                \n",
       "15                                                  5                                                                \n",
       "16                                                  3                                                                \n",
       "17                                                  4                                                                \n",
       "18                                                  5                                                                \n",
       "19                                                  4                                                                \n",
       "20                                                  4                                                                \n",
       "21                                                  5                                                                \n",
       "\n",
       "    On a scale from 1-5, how would you rate your overall user experience in terms of: [Degree of vehicle trustworthiness]  \\\n",
       "0                                                   3                                                                       \n",
       "1                                                   4                                                                       \n",
       "2                                                   3                                                                       \n",
       "3                                                   4                                                                       \n",
       "4                                                   2                                                                       \n",
       "5                                                   4                                                                       \n",
       "6                                                   3                                                                       \n",
       "7                                                   4                                                                       \n",
       "8                                                   3                                                                       \n",
       "9                                                   5                                                                       \n",
       "10                                                  3                                                                       \n",
       "11                                                  3                                                                       \n",
       "12                                                  4                                                                       \n",
       "13                                                  3                                                                       \n",
       "14                                                  5                                                                       \n",
       "15                                                  3                                                                       \n",
       "16                                                  3                                                                       \n",
       "17                                                  5                                                                       \n",
       "18                                                  5                                                                       \n",
       "19                                                  4                                                                       \n",
       "20                                                  3                                                                       \n",
       "21                                                  4                                                                       \n",
       "\n",
       "    On a scale from 1-5, how would you rate your overall user experience in terms of: [Willingness to ride again]  \\\n",
       "0                                                   4                                                               \n",
       "1                                                   5                                                               \n",
       "2                                                   4                                                               \n",
       "3                                                   5                                                               \n",
       "4                                                   5                                                               \n",
       "5                                                   5                                                               \n",
       "6                                                   4                                                               \n",
       "7                                                   4                                                               \n",
       "8                                                   4                                                               \n",
       "9                                                   5                                                               \n",
       "10                                                  5                                                               \n",
       "11                                                  3                                                               \n",
       "12                                                  5                                                               \n",
       "13                                                  4                                                               \n",
       "14                                                  5                                                               \n",
       "15                                                  5                                                               \n",
       "16                                                  3                                                               \n",
       "17                                                  5                                                               \n",
       "18                                                  5                                                               \n",
       "19                                                  5                                                               \n",
       "20                                                  5                                                               \n",
       "21                                                  5                                                               \n",
       "\n",
       "    On a scale from 1-5, how would you rate your confidence in the vehicle's capability, in terms of: [AV control ]  \\\n",
       "0                                                   4                                                                 \n",
       "1                                                   4                                                                 \n",
       "2                                                   4                                                                 \n",
       "3                                                   5                                                                 \n",
       "4                                                   3                                                                 \n",
       "5                                                   5                                                                 \n",
       "6                                                   4                                                                 \n",
       "7                                                   4                                                                 \n",
       "8                                                   4                                                                 \n",
       "9                                                   5                                                                 \n",
       "10                                                  4                                                                 \n",
       "11                                                  4                                                                 \n",
       "12                                                  4                                                                 \n",
       "13                                                  4                                                                 \n",
       "14                                                  4                                                                 \n",
       "15                                                  5                                                                 \n",
       "16                                                  3                                                                 \n",
       "17                                                  5                                                                 \n",
       "18                                                  5                                                                 \n",
       "19                                                  4                                                                 \n",
       "20                                                  5                                                                 \n",
       "21                                                  5                                                                 \n",
       "\n",
       "    On a scale from 1-5, how would you rate your confidence in the vehicle's capability, in terms of: [Driving capability]  \\\n",
       "0                                                   4                                                                        \n",
       "1                                                   4                                                                        \n",
       "2                                                   3                                                                        \n",
       "3                                                   5                                                                        \n",
       "4                                                   2                                                                        \n",
       "5                                                   4                                                                        \n",
       "6                                                   4                                                                        \n",
       "7                                                   4                                                                        \n",
       "8                                                   4                                                                        \n",
       "9                                                   4                                                                        \n",
       "10                                                  4                                                                        \n",
       "11                                                  4                                                                        \n",
       "12                                                  4                                                                        \n",
       "13                                                  4                                                                        \n",
       "14                                                  5                                                                        \n",
       "15                                                  4                                                                        \n",
       "16                                                  3                                                                        \n",
       "17                                                  5                                                                        \n",
       "18                                                  5                                                                        \n",
       "19                                                  4                                                                        \n",
       "20                                                  4                                                                        \n",
       "21                                                  4                                                                        \n",
       "\n",
       "    On a scale from 1-5, how would you rate your confidence in the vehicle's capability, in terms of: [Decision-making ability]  \\\n",
       "0                                                   4                                                                             \n",
       "1                                                   4                                                                             \n",
       "2                                                   3                                                                             \n",
       "3                                                   4                                                                             \n",
       "4                                                   3                                                                             \n",
       "5                                                   4                                                                             \n",
       "6                                                   3                                                                             \n",
       "7                                                   4                                                                             \n",
       "8                                                   3                                                                             \n",
       "9                                                   5                                                                             \n",
       "10                                                  4                                                                             \n",
       "11                                                  3                                                                             \n",
       "12                                                  4                                                                             \n",
       "13                                                  2                                                                             \n",
       "14                                                  4                                                                             \n",
       "15                                                  4                                                                             \n",
       "16                                                  2                                                                             \n",
       "17                                                  5                                                                             \n",
       "18                                                  3                                                                             \n",
       "19                                                  3                                                                             \n",
       "20                                                  5                                                                             \n",
       "21                                                  4                                                                             \n",
       "\n",
       "    Please rate each aspect of your autonomous vehicle ride experience on a scale from 1-5 (5 being the highest): [Interaction with the Digital assistant]  \\\n",
       "0                                                   4                                                                                                        \n",
       "1                                                   5                                                                                                        \n",
       "2                                                   2                                                                                                        \n",
       "3                                                   4                                                                                                        \n",
       "4                                                   3                                                                                                        \n",
       "5                                                   5                                                                                                        \n",
       "6                                                   3                                                                                                        \n",
       "7                                                   4                                                                                                        \n",
       "8                                                   3                                                                                                        \n",
       "9                                                   5                                                                                                        \n",
       "10                                                  4                                                                                                        \n",
       "11                                                  3                                                                                                        \n",
       "12                                                  5                                                                                                        \n",
       "13                                                  2                                                                                                        \n",
       "14                                                  5                                                                                                        \n",
       "15                                                  3                                                                                                        \n",
       "16                                                  3                                                                                                        \n",
       "17                                                  5                                                                                                        \n",
       "18                                                  5                                                                                                        \n",
       "19                                                  4                                                                                                        \n",
       "20                                                  5                                                                                                        \n",
       "21                                                  5                                                                                                        \n",
       "\n",
       "    ...  Are there new features that would prefer we add?   \\\n",
       "0   ...                                                 no   \n",
       "1   ...  more comfortable seats. since i'm not driving,...   \n",
       "2   ...  I think it might be better to see in front of ...   \n",
       "3   ...  Ability to see out the window more and take aw...   \n",
       "4   ...                           none that i can think of   \n",
       "5   ...                              cant think of any now   \n",
       "6   ...  I would like the option to provide instruction...   \n",
       "7   ...                                               none   \n",
       "8   ...  Switch away from low-hung GoPro in exchange fo...   \n",
       "9   ...                                               None   \n",
       "10  ...                                           Not sure   \n",
       "11  ...  Nearby comforts, especially for longer trips, ...   \n",
       "12  ...                      dock for iPhone to play music   \n",
       "13  ...                                                 No   \n",
       "14  ...  when backing up, I would've wanted to see the ...   \n",
       "15  ...                    seeing through the front window   \n",
       "16  ...                                                NaN   \n",
       "17  ...                                              None.   \n",
       "18  ...                  i thought it was just right as is   \n",
       "19  ...                     transformable seats, workspace   \n",
       "20  ...                Music selection and lighting change   \n",
       "21  ...                            putting the window down   \n",
       "\n",
       "    Are there features you disliked and would prefer that we remove or improve in the future?  \\\n",
       "0            car was a bit cold and the ac  was noisy                                           \n",
       "1                                                  no                                           \n",
       "2   I prefer no T.V. if possible / to view in fron...                                           \n",
       "3   The TV screen - it didn't help and made me fee...                                           \n",
       "4                          None that I can think of.                                            \n",
       "5                                                none                                           \n",
       "6   whatever caused it to circle the roundabout 3 ...                                           \n",
       "7                 ride was bumpy on several locations                                           \n",
       "8                                             nagging                                           \n",
       "9                                                  No                                           \n",
       "10                                                 No                                           \n",
       "11                                                NaN                                           \n",
       "12                       none that I can think of now                                           \n",
       "13         I didn't like the monitor showing the road                                           \n",
       "14  I see the foam padding behind the screen was p...                                           \n",
       "15  it wasn't a particularly comforatable feeling ...                                           \n",
       "16           Asking for my experience during the ride                                           \n",
       "17  I think the front camera had a little fisheye ...                                           \n",
       "18                            screen could be smaller                                           \n",
       "19                                                 no                                           \n",
       "20                                                 No                                           \n",
       "21                                                 no                                           \n",
       "\n",
       "    Please indicate if following attributes affected your riding experience:  [Bumpiness]  \\\n",
       "0                                                 Yes                                       \n",
       "1                                                  No                                       \n",
       "2                                                 Yes                                       \n",
       "3                                                 Yes                                       \n",
       "4                                                 Yes                                       \n",
       "5                                                 Yes                                       \n",
       "6                                                 Yes                                       \n",
       "7                                                 Yes                                       \n",
       "8                                                 Yes                                       \n",
       "9                                                  No                                       \n",
       "10                                                 No                                       \n",
       "11                                                Yes                                       \n",
       "12                                                 No                                       \n",
       "13                                                 No                                       \n",
       "14                                                 No                                       \n",
       "15                                                 No                                       \n",
       "16                                                Yes                                       \n",
       "17                                                 No                                       \n",
       "18                                                Yes                                       \n",
       "19                                                 No                                       \n",
       "20                                                 No                                       \n",
       "21                                                Yes                                       \n",
       "\n",
       "    Please indicate if following attributes affected your riding experience:  [Trip length]  \\\n",
       "0                                                  No                                         \n",
       "1                                                  No                                         \n",
       "2                                                 Yes                                         \n",
       "3                                                  No                                         \n",
       "4                                                  No                                         \n",
       "5                                                  No                                         \n",
       "6                                                  No                                         \n",
       "7                                                 Yes                                         \n",
       "8                                                  No                                         \n",
       "9                                                  No                                         \n",
       "10                                                 No                                         \n",
       "11                                                 No                                         \n",
       "12                                                 No                                         \n",
       "13                                                 No                                         \n",
       "14                                                 No                                         \n",
       "15                                                 No                                         \n",
       "16                                                 No                                         \n",
       "17                                                 No                                         \n",
       "18                                                 No                                         \n",
       "19                                                 No                                         \n",
       "20                                                 No                                         \n",
       "21                                                Yes                                         \n",
       "\n",
       "    Please indicate if following attributes affected your riding experience:  [Swirviness (side to side motion)]  \\\n",
       "0                                                  No                                                              \n",
       "1                                                  No                                                              \n",
       "2                                                  No                                                              \n",
       "3                                                  No                                                              \n",
       "4                                                  No                                                              \n",
       "5                                                  No                                                              \n",
       "6                                                  No                                                              \n",
       "7                                                  No                                                              \n",
       "8                                                  No                                                              \n",
       "9                                                  No                                                              \n",
       "10                                                 No                                                              \n",
       "11                                                Yes                                                              \n",
       "12                                                 No                                                              \n",
       "13                                                 No                                                              \n",
       "14                                                 No                                                              \n",
       "15                                                 No                                                              \n",
       "16                                                 No                                                              \n",
       "17                                                 No                                                              \n",
       "18                                                 No                                                              \n",
       "19                                                 No                                                              \n",
       "20                                                 No                                                              \n",
       "21                                                 No                                                              \n",
       "\n",
       "   Please indicate if following attributes affected your riding experience:  [Roundabouts]  \\\n",
       "0                                                 Yes                                        \n",
       "1                                                 Yes                                        \n",
       "2                                                 Yes                                        \n",
       "3                                                 Yes                                        \n",
       "4                                                 Yes                                        \n",
       "5                                                 Yes                                        \n",
       "6                                                 Yes                                        \n",
       "7                                                 Yes                                        \n",
       "8                                                  No                                        \n",
       "9                                                 Yes                                        \n",
       "10                                                Yes                                        \n",
       "11                                                Yes                                        \n",
       "12                                                Yes                                        \n",
       "13                                                Yes                                        \n",
       "14                                                Yes                                        \n",
       "15                                                 No                                        \n",
       "16                                                Yes                                        \n",
       "17                                                Yes                                        \n",
       "18                                                Yes                                        \n",
       "19                                                Yes                                        \n",
       "20                                                Yes                                        \n",
       "21                                                Yes                                        \n",
       "\n",
       "   Please indicate if following attributes affected your riding experience:  [Sudden stops]  \\\n",
       "0                                                 Yes                                         \n",
       "1                                                 Yes                                         \n",
       "2                                                 Yes                                         \n",
       "3                                                 Yes                                         \n",
       "4                                                 Yes                                         \n",
       "5                                                 Yes                                         \n",
       "6                                                 Yes                                         \n",
       "7                                                  No                                         \n",
       "8                                                 Yes                                         \n",
       "9                                                 Yes                                         \n",
       "10                                                 No                                         \n",
       "11                                                Yes                                         \n",
       "12                                                Yes                                         \n",
       "13                                                Yes                                         \n",
       "14                                                 No                                         \n",
       "15                                                Yes                                         \n",
       "16                                                Yes                                         \n",
       "17                                                 No                                         \n",
       "18                                                 No                                         \n",
       "19                                                Yes                                         \n",
       "20                                                Yes                                         \n",
       "21                                                 No                                         \n",
       "\n",
       "    Please comment on how the above factors affected your riding experience, if there were such factors.  \\\n",
       "0     car went  on stone cobbles which was unexpected                                                      \n",
       "1   there was a sudden stop in front of someone cr...                                                      \n",
       "2   Going in a loop while it reroutes is pretty ja...                                                      \n",
       "3   I didn't like going around the traffic circle ...                                                      \n",
       "4   Some of the above factors made me nervous abou...                                                      \n",
       "5   It was discomfort but if given to drive in an ...                                                      \n",
       "6   The roundabouts seemed challenging for the veh...                                                      \n",
       "7   riding 3x in the same roundabout is annoying, ...                                                      \n",
       "8       accommodations in this van are far from plush                                                      \n",
       "9   I felt that having the round-about, the sudden...                                                      \n",
       "10  The vehicle circled around a roundabout a few ...                                                      \n",
       "11  No idea why a smart vehicle would loop around ...                                                      \n",
       "12                                              minor                                                      \n",
       "13  The vehicle didn't seem to do well with rounda...                                                      \n",
       "14  The three trips around the roundabout made me ...                                                      \n",
       "15  there was an unnecessary sudden stop at a stop...                                                      \n",
       "16  The ride was not smooth and there were parts o...                                                      \n",
       "17  The re-routing roundabout made me very slightl...                                                      \n",
       "18  seems like the car got a little confuse on the...                                                      \n",
       "19  the car took the roundabout two times, once it...                                                      \n",
       "20  The car went around a roundabout 3(?) times. T...                                                      \n",
       "21  It went around the roundabout 3x, so I was con...                                                      \n",
       "\n",
       "   Were there other factors that affected your riding experience? Please identify and comment, if there were such factors.  \\\n",
       "0                        stone cobbles and bumpy ride                                                                        \n",
       "1                                                  no                                                                        \n",
       "2   Stops feel abrupt sometimes, going through spe...                                                                        \n",
       "3                                                  No                                                                        \n",
       "4   I wish I could have seen out the front window ...                                                                        \n",
       "5                                                 NaN                                                                        \n",
       "6   sudden stop when encountering a pedestrian app...                                                                        \n",
       "7                                                none                                                                        \n",
       "8   nausea from spatial dimensions of the gopro ca...                                                                        \n",
       "9   I think that experiencing people walking, ridi...                                                                        \n",
       "10                                                NaN                                                                        \n",
       "11  I began to feel nauseous near the end of the trip                                                                        \n",
       "12                                                NaN                                                                        \n",
       "13  The vehicle didn't seem to know how to navigat...                                                                        \n",
       "14  I was a little concerned about the constructio...                                                                        \n",
       "15                                                NaN                                                                        \n",
       "16  Ride was boring, no music or entertainment tha...                                                                        \n",
       "17  I think mainly not being able to have full fie...                                                                        \n",
       "18                                        road work,                                                                         \n",
       "19  I was wondering if there was a safety driver i...                                                                        \n",
       "20                                                NaN                                                                        \n",
       "21                                                NaN                                                                        \n",
       "\n",
       "    Capability  \n",
       "0     4.000000  \n",
       "1     4.000000  \n",
       "2     3.333333  \n",
       "3     4.666667  \n",
       "4     2.666667  \n",
       "5     4.333333  \n",
       "6     3.666667  \n",
       "7     4.000000  \n",
       "8     3.666667  \n",
       "9     4.666667  \n",
       "10    4.000000  \n",
       "11    3.666667  \n",
       "12    4.000000  \n",
       "13    3.333333  \n",
       "14    4.333333  \n",
       "15    4.333333  \n",
       "16    2.666667  \n",
       "17    5.000000  \n",
       "18    4.333333  \n",
       "19    3.666667  \n",
       "20    4.666667  \n",
       "21    4.333333  \n",
       "\n",
       "[22 rows x 52 columns]"
      ]
     },
     "execution_count": 556,
     "metadata": {},
     "output_type": "execute_result"
    }
   ],
   "source": [
    "df_capability"
   ]
  },
  {
   "cell_type": "code",
   "execution_count": 557,
   "metadata": {},
   "outputs": [
    {
     "name": "stdout",
     "output_type": "stream",
     "text": [
      "Capability\n"
     ]
    }
   ],
   "source": [
    "print(list(df_capability)[-1])\n",
    "analysis_column = list(df_capability)[-1]\n",
    "x = df_capability.loc[df_capability['System']=='Julie'][analysis_column]\n",
    "y = df_capability.loc[df_capability['System']=='Lily'][analysis_column]"
   ]
  },
  {
   "cell_type": "code",
   "execution_count": 561,
   "metadata": {},
   "outputs": [
    {
     "data": {
      "text/plain": [
       "System\n",
       "Julie    4.272727\n",
       "Lily     3.666667\n",
       "Name: Capability, dtype: float64"
      ]
     },
     "execution_count": 561,
     "metadata": {},
     "output_type": "execute_result"
    }
   ],
   "source": [
    "df_capability.groupby(['System'])[list(df_capability)[-1]].mean()"
   ]
  },
  {
   "cell_type": "code",
   "execution_count": 560,
   "metadata": {},
   "outputs": [
    {
     "data": {
      "text/plain": [
       "System\n",
       "Julie    0.240404\n",
       "Lily     0.333333\n",
       "Name: Capability, dtype: float64"
      ]
     },
     "execution_count": 560,
     "metadata": {},
     "output_type": "execute_result"
    }
   ],
   "source": [
    "df_capability.groupby(['System'])[list(df_capability)[-1]].var()"
   ]
  },
  {
   "cell_type": "code",
   "execution_count": 562,
   "metadata": {},
   "outputs": [
    {
     "data": {
      "text/plain": [
       "MannwhitneyuResult(statistic=96.0, pvalue=0.01951748118217775)"
      ]
     },
     "execution_count": 562,
     "metadata": {},
     "output_type": "execute_result"
    }
   ],
   "source": [
    "mannwhitneyu(x,y, alternative = 'two-sided')"
   ]
  },
  {
   "cell_type": "markdown",
   "metadata": {},
   "source": [
    "pvalue=0.01951748118217775)"
   ]
  },
  {
   "cell_type": "code",
   "execution_count": 472,
   "metadata": {},
   "outputs": [
    {
     "data": {
      "text/html": [
       "<div>\n",
       "<style scoped>\n",
       "    .dataframe tbody tr th:only-of-type {\n",
       "        vertical-align: middle;\n",
       "    }\n",
       "\n",
       "    .dataframe tbody tr th {\n",
       "        vertical-align: top;\n",
       "    }\n",
       "\n",
       "    .dataframe thead th {\n",
       "        text-align: right;\n",
       "    }\n",
       "</style>\n",
       "<table border=\"1\" class=\"dataframe\">\n",
       "  <thead>\n",
       "    <tr style=\"text-align: right;\">\n",
       "      <th></th>\n",
       "      <th>Capability</th>\n",
       "    </tr>\n",
       "    <tr>\n",
       "      <th>System</th>\n",
       "      <th></th>\n",
       "    </tr>\n",
       "  </thead>\n",
       "  <tbody>\n",
       "    <tr>\n",
       "      <th>Julie</th>\n",
       "      <td>4.272727</td>\n",
       "    </tr>\n",
       "    <tr>\n",
       "      <th>Lily</th>\n",
       "      <td>3.666667</td>\n",
       "    </tr>\n",
       "  </tbody>\n",
       "</table>\n",
       "</div>"
      ],
      "text/plain": [
       "        Capability\n",
       "System            \n",
       "Julie     4.272727\n",
       "Lily      3.666667"
      ]
     },
     "execution_count": 472,
     "metadata": {},
     "output_type": "execute_result"
    }
   ],
   "source": [
    "analysis_column = list(df_capability)[-1]\n",
    "pd.pivot_table(df_capability, values=(analysis_column), index=['System'], aggfunc=np.mean)"
   ]
  },
  {
   "cell_type": "code",
   "execution_count": 473,
   "metadata": {},
   "outputs": [],
   "source": [
    "df_capability_grouped = df_capability.groupby(['System']).mean()\n",
    "capability2 = df_capability_grouped[df_capability_grouped.columns[5:8]]"
   ]
  },
  {
   "cell_type": "code",
   "execution_count": 474,
   "metadata": {},
   "outputs": [],
   "source": [
    "df_capability_grouped_std = df_capability.groupby(['System']).std()\n",
    "capability2_std = df_capability_grouped_std[df_capability_grouped_std.columns[5:8]]"
   ]
  },
  {
   "cell_type": "code",
   "execution_count": 475,
   "metadata": {},
   "outputs": [
    {
     "data": {
      "text/html": [
       "<div>\n",
       "<style scoped>\n",
       "    .dataframe tbody tr th:only-of-type {\n",
       "        vertical-align: middle;\n",
       "    }\n",
       "\n",
       "    .dataframe tbody tr th {\n",
       "        vertical-align: top;\n",
       "    }\n",
       "\n",
       "    .dataframe thead th {\n",
       "        text-align: right;\n",
       "    }\n",
       "</style>\n",
       "<table border=\"1\" class=\"dataframe\">\n",
       "  <thead>\n",
       "    <tr style=\"text-align: right;\">\n",
       "      <th></th>\n",
       "      <th>On a scale from 1-5, how would you rate your confidence in the vehicle's capability, in terms of: [AV control ]</th>\n",
       "      <th>On a scale from 1-5, how would you rate your confidence in the vehicle's capability, in terms of: [Driving capability]</th>\n",
       "      <th>On a scale from 1-5, how would you rate your confidence in the vehicle's capability, in terms of: [Decision-making ability]</th>\n",
       "    </tr>\n",
       "    <tr>\n",
       "      <th>System</th>\n",
       "      <th></th>\n",
       "      <th></th>\n",
       "      <th></th>\n",
       "    </tr>\n",
       "  </thead>\n",
       "  <tbody>\n",
       "    <tr>\n",
       "      <th>Julie</th>\n",
       "      <td>4.636364</td>\n",
       "      <td>4.181818</td>\n",
       "      <td>4.000000</td>\n",
       "    </tr>\n",
       "    <tr>\n",
       "      <th>Lily</th>\n",
       "      <td>3.909091</td>\n",
       "      <td>3.818182</td>\n",
       "      <td>3.272727</td>\n",
       "    </tr>\n",
       "  </tbody>\n",
       "</table>\n",
       "</div>"
      ],
      "text/plain": [
       "        On a scale from 1-5, how would you rate your confidence in the vehicle's capability, in terms of: [AV control ]  \\\n",
       "System                                                                                                                    \n",
       "Julie                                            4.636364                                                                 \n",
       "Lily                                             3.909091                                                                 \n",
       "\n",
       "        On a scale from 1-5, how would you rate your confidence in the vehicle's capability, in terms of: [Driving capability]  \\\n",
       "System                                                                                                                           \n",
       "Julie                                            4.181818                                                                        \n",
       "Lily                                             3.818182                                                                        \n",
       "\n",
       "        On a scale from 1-5, how would you rate your confidence in the vehicle's capability, in terms of: [Decision-making ability]  \n",
       "System                                                                                                                               \n",
       "Julie                                            4.000000                                                                            \n",
       "Lily                                             3.272727                                                                            "
      ]
     },
     "execution_count": 475,
     "metadata": {},
     "output_type": "execute_result"
    }
   ],
   "source": [
    "capability2"
   ]
  },
  {
   "cell_type": "code",
   "execution_count": 476,
   "metadata": {},
   "outputs": [
    {
     "data": {
      "text/plain": [
       "On a scale from 1-5, how would you rate your confidence in the vehicle's capability, in terms of: [AV control ]                0.504525\n",
       "On a scale from 1-5, how would you rate your confidence in the vehicle's capability, in terms of: [Driving capability]         0.603023\n",
       "On a scale from 1-5, how would you rate your confidence in the vehicle's capability, in terms of: [Decision-making ability]    0.774597\n",
       "Name: Julie, dtype: float64"
      ]
     },
     "execution_count": 476,
     "metadata": {},
     "output_type": "execute_result"
    }
   ],
   "source": [
    "capability2_std.iloc[0]"
   ]
  },
  {
   "cell_type": "code",
   "execution_count": 477,
   "metadata": {},
   "outputs": [
    {
     "data": {
      "text/plain": [
       "On a scale from 1-5, how would you rate your confidence in the vehicle's capability, in terms of: [AV control ]                0.539360\n",
       "On a scale from 1-5, how would you rate your confidence in the vehicle's capability, in terms of: [Driving capability]         0.750757\n",
       "On a scale from 1-5, how would you rate your confidence in the vehicle's capability, in terms of: [Decision-making ability]    0.786245\n",
       "Name: Lily, dtype: float64"
      ]
     },
     "execution_count": 477,
     "metadata": {},
     "output_type": "execute_result"
    }
   ],
   "source": [
    "capability2_std.iloc[1]"
   ]
  },
  {
   "cell_type": "code",
   "execution_count": 478,
   "metadata": {},
   "outputs": [
    {
     "data": {
      "image/png": "[encoded data removed]",
      "text/plain": [
       "<Figure size 432x288 with 1 Axes>"
      ]
     },
     "metadata": {
      "needs_background": "light"
     },
     "output_type": "display_data"
    }
   ],
   "source": [
    "fig, ax = plt.subplots()\n",
    "julie = capability2.groupby(['System']).mean().iloc[0]\n",
    "lily = capability2.groupby(['System']).mean().iloc[1]\n",
    "width = 0.25\n",
    "ind = np.arange(3)\n",
    "#julie_bars = ax.bar(ind, julie, width, color='r', label='Julie', yerr=capability2_std.iloc[0], capsize=5)\n",
    "#lily_bars = ax.bar(ind + width, lily, width, color='g', label='Lilly', yerr=capability2_std.iloc[1], capsize=5)\n",
    "#julie_bars = ax.bar(ind, julie, width, color='r', label='Julie', capsize=5)\n",
    "#lily_bars = ax.bar(ind + width, lily, width, color='g', label='Lilly', capsize=5)\n",
    "julie_bars = ax.bar(ind, julie, width, color='#000000', label='Julie', capsize=5)\n",
    "lily_bars = ax.bar(ind + width, lily, width, color='#A9A9A9', label='Lilly', capsize=5)\n",
    "ax.set_title('Confidence in Vehicle Capability')\n",
    "ax.set_xticks(ind + width/2.0)\n",
    "ax.set_xticklabels(('AV control', 'Driving capability', 'Decision-making'))\n",
    "ax.axhline(y=0, color='k')\n",
    "plt.xticks(rotation=30)\n",
    "plt.xlabel('Vehicle Characteristic')\n",
    "plt.ylabel('Mean Response')\n",
    "legend = ax.legend()\n",
    "for line in legend.get_lines():\n",
    "    line.set_linewidth(4.0)\n",
    "plt.legend(loc='lower right')\n",
    "plt.savefig(\"confidence_endride.jpeg\", dpi=300, bbox_inches = 'tight', pad_inches = 0)"
   ]
  },
  {
   "cell_type": "markdown",
   "metadata": {},
   "source": [
    "### Characteristics of AV ride experience - not significant"
   ]
  },
  {
   "cell_type": "code",
   "execution_count": 479,
   "metadata": {},
   "outputs": [
    {
     "data": {
      "text/plain": [
       "Index(['Please rate each aspect of your autonomous vehicle ride experience on a scale from 1-5 (5 being the highest): [Interaction with the Digital assistant]',\n",
       "       'Please rate each aspect of your autonomous vehicle ride experience on a scale from 1-5 (5 being the highest): [Interior vehicle accomodations ]',\n",
       "       'Please rate each aspect of your autonomous vehicle ride experience on a scale from 1-5 (5 being the highest): [The drive / driving route ]'],\n",
       "      dtype='object')"
      ]
     },
     "execution_count": 479,
     "metadata": {},
     "output_type": "execute_result"
    }
   ],
   "source": [
    "df.columns[9:12]"
   ]
  },
  {
   "cell_type": "code",
   "execution_count": 480,
   "metadata": {},
   "outputs": [],
   "source": [
    "ride_exp = df[df.columns[9:12]]"
   ]
  },
  {
   "cell_type": "code",
   "execution_count": 481,
   "metadata": {},
   "outputs": [
    {
     "data": {
      "text/html": [
       "<div>\n",
       "<style scoped>\n",
       "    .dataframe tbody tr th:only-of-type {\n",
       "        vertical-align: middle;\n",
       "    }\n",
       "\n",
       "    .dataframe tbody tr th {\n",
       "        vertical-align: top;\n",
       "    }\n",
       "\n",
       "    .dataframe thead th {\n",
       "        text-align: right;\n",
       "    }\n",
       "</style>\n",
       "<table border=\"1\" class=\"dataframe\">\n",
       "  <thead>\n",
       "    <tr style=\"text-align: right;\">\n",
       "      <th></th>\n",
       "      <th>Please rate each aspect of your autonomous vehicle ride experience on a scale from 1-5 (5 being the highest): [Interaction with the Digital assistant]</th>\n",
       "      <th>Please rate each aspect of your autonomous vehicle ride experience on a scale from 1-5 (5 being the highest): [Interior vehicle accomodations ]</th>\n",
       "      <th>Please rate each aspect of your autonomous vehicle ride experience on a scale from 1-5 (5 being the highest): [The drive / driving route ]</th>\n",
       "    </tr>\n",
       "    <tr>\n",
       "      <th>System</th>\n",
       "      <th></th>\n",
       "      <th></th>\n",
       "      <th></th>\n",
       "    </tr>\n",
       "  </thead>\n",
       "  <tbody>\n",
       "    <tr>\n",
       "      <th>Julie</th>\n",
       "      <td>1.090909</td>\n",
       "      <td>1.872727</td>\n",
       "      <td>0.563636</td>\n",
       "    </tr>\n",
       "    <tr>\n",
       "      <th>Lily</th>\n",
       "      <td>1.163636</td>\n",
       "      <td>1.418182</td>\n",
       "      <td>2.018182</td>\n",
       "    </tr>\n",
       "  </tbody>\n",
       "</table>\n",
       "</div>"
      ],
      "text/plain": [
       "        Please rate each aspect of your autonomous vehicle ride experience on a scale from 1-5 (5 being the highest): [Interaction with the Digital assistant]  \\\n",
       "System                                                                                                                                                           \n",
       "Julie                                            1.090909                                                                                                        \n",
       "Lily                                             1.163636                                                                                                        \n",
       "\n",
       "        Please rate each aspect of your autonomous vehicle ride experience on a scale from 1-5 (5 being the highest): [Interior vehicle accomodations ]  \\\n",
       "System                                                                                                                                                    \n",
       "Julie                                            1.872727                                                                                                 \n",
       "Lily                                             1.418182                                                                                                 \n",
       "\n",
       "        Please rate each aspect of your autonomous vehicle ride experience on a scale from 1-5 (5 being the highest): [The drive / driving route ]  \n",
       "System                                                                                                                                              \n",
       "Julie                                            0.563636                                                                                           \n",
       "Lily                                             2.018182                                                                                           "
      ]
     },
     "execution_count": 481,
     "metadata": {},
     "output_type": "execute_result"
    }
   ],
   "source": [
    "df.groupby(['System'])[df.columns[9:12]].var()"
   ]
  },
  {
   "cell_type": "code",
   "execution_count": 482,
   "metadata": {},
   "outputs": [],
   "source": [
    "df_ride_exp = df.assign(Ride_Exp = ride_exp[ride_exp.columns[:3]].aggregate(axis = 1, func = sum))"
   ]
  },
  {
   "cell_type": "code",
   "execution_count": 483,
   "metadata": {},
   "outputs": [
    {
     "name": "stdout",
     "output_type": "stream",
     "text": [
      "Ride_Exp\n"
     ]
    }
   ],
   "source": [
    "print(list(df_ride_exp)[-1])\n",
    "analysis_column = list(df_ride_exp)[-1]\n",
    "x = df_ride_exp.loc[df_ride_exp['System']=='Julie'][analysis_column]\n",
    "y = df_ride_exp.loc[df_ride_exp['System']=='Lily'][analysis_column]"
   ]
  },
  {
   "cell_type": "code",
   "execution_count": 484,
   "metadata": {},
   "outputs": [
    {
     "data": {
      "text/plain": [
       "MannwhitneyuResult(statistic=67.0, pvalue=0.6904192245963843)"
      ]
     },
     "execution_count": 484,
     "metadata": {},
     "output_type": "execute_result"
    }
   ],
   "source": [
    "mannwhitneyu(x,y, alternative = 'two-sided')"
   ]
  },
  {
   "cell_type": "markdown",
   "metadata": {},
   "source": [
    "pvalue=0.6904192245963843)"
   ]
  },
  {
   "cell_type": "markdown",
   "metadata": {},
   "source": [
    "### Trustworthy, Friendly, In Control - not significant"
   ]
  },
  {
   "cell_type": "code",
   "execution_count": 485,
   "metadata": {},
   "outputs": [
    {
     "data": {
      "text/plain": [
       "Index(['On a scale from 1-5, to what degree did the digital assistant make the self-driving vehicle seem to be the following? [Trustworthy]',\n",
       "       'On a scale from 1-5, to what degree did the digital assistant make the self-driving vehicle seem to be the following? [Friendly]',\n",
       "       'On a scale from 1-5, to what degree did the digital assistant make the self-driving vehicle seem to be the following? [In Control]'],\n",
       "      dtype='object')"
      ]
     },
     "execution_count": 485,
     "metadata": {},
     "output_type": "execute_result"
    }
   ],
   "source": [
    "df.columns[12:15]"
   ]
  },
  {
   "cell_type": "code",
   "execution_count": 486,
   "metadata": {},
   "outputs": [],
   "source": [
    "trust = df[df.columns[12:15]]"
   ]
  },
  {
   "cell_type": "code",
   "execution_count": 487,
   "metadata": {},
   "outputs": [
    {
     "data": {
      "text/html": [
       "<div>\n",
       "<style scoped>\n",
       "    .dataframe tbody tr th:only-of-type {\n",
       "        vertical-align: middle;\n",
       "    }\n",
       "\n",
       "    .dataframe tbody tr th {\n",
       "        vertical-align: top;\n",
       "    }\n",
       "\n",
       "    .dataframe thead th {\n",
       "        text-align: right;\n",
       "    }\n",
       "</style>\n",
       "<table border=\"1\" class=\"dataframe\">\n",
       "  <thead>\n",
       "    <tr style=\"text-align: right;\">\n",
       "      <th></th>\n",
       "      <th>On a scale from 1-5, to what degree did the digital assistant make the self-driving vehicle seem to be the following? [Trustworthy]</th>\n",
       "      <th>On a scale from 1-5, to what degree did the digital assistant make the self-driving vehicle seem to be the following? [Friendly]</th>\n",
       "      <th>On a scale from 1-5, to what degree did the digital assistant make the self-driving vehicle seem to be the following? [In Control]</th>\n",
       "    </tr>\n",
       "    <tr>\n",
       "      <th>System</th>\n",
       "      <th></th>\n",
       "      <th></th>\n",
       "      <th></th>\n",
       "    </tr>\n",
       "  </thead>\n",
       "  <tbody>\n",
       "    <tr>\n",
       "      <th>Julie</th>\n",
       "      <td>0.563636</td>\n",
       "      <td>1.290909</td>\n",
       "      <td>0.800000</td>\n",
       "    </tr>\n",
       "    <tr>\n",
       "      <th>Lily</th>\n",
       "      <td>1.472727</td>\n",
       "      <td>1.363636</td>\n",
       "      <td>1.272727</td>\n",
       "    </tr>\n",
       "  </tbody>\n",
       "</table>\n",
       "</div>"
      ],
      "text/plain": [
       "        On a scale from 1-5, to what degree did the digital assistant make the self-driving vehicle seem to be the following? [Trustworthy]  \\\n",
       "System                                                                                                                                        \n",
       "Julie                                            0.563636                                                                                     \n",
       "Lily                                             1.472727                                                                                     \n",
       "\n",
       "        On a scale from 1-5, to what degree did the digital assistant make the self-driving vehicle seem to be the following? [Friendly]  \\\n",
       "System                                                                                                                                     \n",
       "Julie                                            1.290909                                                                                  \n",
       "Lily                                             1.363636                                                                                  \n",
       "\n",
       "        On a scale from 1-5, to what degree did the digital assistant make the self-driving vehicle seem to be the following? [In Control]  \n",
       "System                                                                                                                                      \n",
       "Julie                                            0.800000                                                                                   \n",
       "Lily                                             1.272727                                                                                   "
      ]
     },
     "execution_count": 487,
     "metadata": {},
     "output_type": "execute_result"
    }
   ],
   "source": [
    "df.groupby(['System'])[df.columns[12:15]].var()"
   ]
  },
  {
   "cell_type": "code",
   "execution_count": 567,
   "metadata": {},
   "outputs": [],
   "source": [
    "df_trust = df.assign(Trust = df[df.columns[12:15]].aggregate(axis = 1, func = sum) / 3)"
   ]
  },
  {
   "cell_type": "code",
   "execution_count": 568,
   "metadata": {},
   "outputs": [
    {
     "name": "stdout",
     "output_type": "stream",
     "text": [
      "Trust\n"
     ]
    }
   ],
   "source": [
    "print(list(df_trust)[-1])\n",
    "analysis_column = list(df_trust)[-1]\n",
    "x = df_trust.loc[df_trust['System']=='Julie'][analysis_column]\n",
    "y = df_trust.loc[df_trust['System']=='Lily'][analysis_column]"
   ]
  },
  {
   "cell_type": "code",
   "execution_count": 569,
   "metadata": {},
   "outputs": [
    {
     "data": {
      "text/plain": [
       "MannwhitneyuResult(statistic=78.5, pvalue=0.24537030363424872)"
      ]
     },
     "execution_count": 569,
     "metadata": {},
     "output_type": "execute_result"
    }
   ],
   "source": [
    "mannwhitneyu(x,y, alternative = 'two-sided')"
   ]
  },
  {
   "cell_type": "markdown",
   "metadata": {},
   "source": [
    "pvalue=0.24537030363424872"
   ]
  },
  {
   "cell_type": "markdown",
   "metadata": {},
   "source": [
    "### Usefulness of provided information - not significant"
   ]
  },
  {
   "cell_type": "code",
   "execution_count": 491,
   "metadata": {},
   "outputs": [
    {
     "data": {
      "text/plain": [
       "'How useful was the information presented throughout the ride? '"
      ]
     },
     "execution_count": 491,
     "metadata": {},
     "output_type": "execute_result"
    }
   ],
   "source": [
    "df.columns[17]"
   ]
  },
  {
   "cell_type": "code",
   "execution_count": 492,
   "metadata": {},
   "outputs": [
    {
     "name": "stdout",
     "output_type": "stream",
     "text": [
      "How useful was the information presented throughout the ride? \n"
     ]
    }
   ],
   "source": [
    "print(list(df)[17])\n",
    "x = df.loc[df['System']=='Julie'][list(df)[17]]\n",
    "y = df.loc[df['System']=='Lily'][list(df)[17]]"
   ]
  },
  {
   "cell_type": "code",
   "execution_count": 493,
   "metadata": {},
   "outputs": [
    {
     "data": {
      "text/plain": [
       "MannwhitneyuResult(statistic=84.0, pvalue=0.12042973410056898)"
      ]
     },
     "execution_count": 493,
     "metadata": {},
     "output_type": "execute_result"
    }
   ],
   "source": [
    "mannwhitneyu(x,y, alternative = 'two-sided')"
   ]
  },
  {
   "cell_type": "markdown",
   "metadata": {},
   "source": [
    "pvalue=0.12042973410056898"
   ]
  },
  {
   "cell_type": "markdown",
   "metadata": {},
   "source": [
    "### Preference for a digital assistant - significant"
   ]
  },
  {
   "cell_type": "code",
   "execution_count": 494,
   "metadata": {},
   "outputs": [
    {
     "data": {
      "text/plain": [
       "'For a future ride, I would prefer to:'"
      ]
     },
     "execution_count": 494,
     "metadata": {},
     "output_type": "execute_result"
    }
   ],
   "source": [
    "df.columns[34]"
   ]
  },
  {
   "cell_type": "code",
   "execution_count": 495,
   "metadata": {},
   "outputs": [
    {
     "data": {
      "text/plain": [
       "0     5\n",
       "1     3\n",
       "2     1\n",
       "3     5\n",
       "4     1\n",
       "5     1\n",
       "6     1\n",
       "7     3\n",
       "8     1\n",
       "9     3\n",
       "10    1\n",
       "11    1\n",
       "12    3\n",
       "13    1\n",
       "14    1\n",
       "15    1\n",
       "16    1\n",
       "17    5\n",
       "18    5\n",
       "19    1\n",
       "20    5\n",
       "21    3\n",
       "Name: For a future ride, I would prefer to:, dtype: int64"
      ]
     },
     "execution_count": 495,
     "metadata": {},
     "output_type": "execute_result"
    }
   ],
   "source": [
    "df[df.columns[34]].replace({'Try another assistant':1,'No preference':3,'Keep the same assistant': 5})"
   ]
  },
  {
   "cell_type": "code",
   "execution_count": 496,
   "metadata": {},
   "outputs": [
    {
     "name": "stdout",
     "output_type": "stream",
     "text": [
      "For a future ride, I would prefer to:\n"
     ]
    }
   ],
   "source": [
    "print(list(df)[34])\n",
    "df[df.columns[34]].replace({'Try another assistant':-1,'No preference':0,'Keep the same assistant': 1}, inplace=True)\n",
    "x = df.loc[df['System']=='Julie'][list(df)[34]]\n",
    "y = df.loc[df['System']=='Lily'][list(df)[34]]"
   ]
  },
  {
   "cell_type": "code",
   "execution_count": 497,
   "metadata": {},
   "outputs": [
    {
     "data": {
      "text/plain": [
       "System\n",
       "Julie    0.890909\n",
       "Lily     0.218182\n",
       "Name: For a future ride, I would prefer to:, dtype: float64"
      ]
     },
     "execution_count": 497,
     "metadata": {},
     "output_type": "execute_result"
    }
   ],
   "source": [
    "df.groupby(['System'])[df.columns[34]].var()"
   ]
  },
  {
   "cell_type": "code",
   "execution_count": 498,
   "metadata": {},
   "outputs": [
    {
     "data": {
      "text/plain": [
       "0     1\n",
       "2    -1\n",
       "3     1\n",
       "5    -1\n",
       "7     0\n",
       "9     0\n",
       "11   -1\n",
       "15   -1\n",
       "17    1\n",
       "18    1\n",
       "20    1\n",
       "Name: For a future ride, I would prefer to:, dtype: int64"
      ]
     },
     "execution_count": 498,
     "metadata": {},
     "output_type": "execute_result"
    }
   ],
   "source": [
    "x"
   ]
  },
  {
   "cell_type": "code",
   "execution_count": 499,
   "metadata": {},
   "outputs": [
    {
     "data": {
      "text/plain": [
       "MannwhitneyuResult(statistic=90.0, pvalue=0.03501555442686633)"
      ]
     },
     "execution_count": 499,
     "metadata": {},
     "output_type": "execute_result"
    }
   ],
   "source": [
    "mannwhitneyu(x,y, alternative = 'two-sided')"
   ]
  },
  {
   "cell_type": "code",
   "execution_count": 500,
   "metadata": {},
   "outputs": [
    {
     "data": {
      "text/plain": [
       "System  For a future ride, I would prefer to:\n",
       "Julie    1                                       5\n",
       "        -1                                       4\n",
       "         0                                       2\n",
       "Lily    -1                                       8\n",
       "         0                                       3\n",
       "Name: For a future ride, I would prefer to:, dtype: int64"
      ]
     },
     "execution_count": 500,
     "metadata": {},
     "output_type": "execute_result"
    }
   ],
   "source": [
    "df.groupby(['System'])[df.columns[34]].value_counts()"
   ]
  },
  {
   "cell_type": "markdown",
   "metadata": {},
   "source": [
    "pvalue=0.03501555442686633"
   ]
  },
  {
   "cell_type": "markdown",
   "metadata": {},
   "source": [
    "*Nobody in the Lily group wanted to keep the same assistant!*"
   ]
  },
  {
   "cell_type": "markdown",
   "metadata": {},
   "source": [
    "## Assistant as a distraction - not significant"
   ]
  },
  {
   "cell_type": "code",
   "execution_count": 501,
   "metadata": {},
   "outputs": [
    {
     "name": "stdout",
     "output_type": "stream",
     "text": [
      "On a scale from 1-5, please rate the degree to which the digital assistant distracted you from an awareness of being in an AV? \n"
     ]
    }
   ],
   "source": [
    "print(list(df)[30])\n",
    "x = df.loc[df['System']=='Julie'][list(df)[30]]\n",
    "y = df.loc[df['System']=='Lily'][list(df)[30]]"
   ]
  },
  {
   "cell_type": "code",
   "execution_count": 502,
   "metadata": {},
   "outputs": [
    {
     "data": {
      "text/plain": [
       "MannwhitneyuResult(statistic=76.5, pvalue=0.29773750380731034)"
      ]
     },
     "execution_count": 502,
     "metadata": {},
     "output_type": "execute_result"
    }
   ],
   "source": [
    "mannwhitneyu(x,y, alternative = 'two-sided')"
   ]
  },
  {
   "cell_type": "markdown",
   "metadata": {},
   "source": [
    "pvalue=0.29773750380731034"
   ]
  },
  {
   "cell_type": "code",
   "execution_count": 503,
   "metadata": {},
   "outputs": [
    {
     "data": {
      "text/plain": [
       "(3.0, 2.4545454545454546)"
      ]
     },
     "execution_count": 503,
     "metadata": {},
     "output_type": "execute_result"
    }
   ],
   "source": [
    "x.mean(), y.mean()"
   ]
  },
  {
   "cell_type": "code",
   "execution_count": 504,
   "metadata": {},
   "outputs": [
    {
     "data": {
      "text/plain": [
       "(33, 27)"
      ]
     },
     "execution_count": 504,
     "metadata": {},
     "output_type": "execute_result"
    }
   ],
   "source": [
    "x.sum(), y.sum()"
   ]
  },
  {
   "cell_type": "code",
   "execution_count": 505,
   "metadata": {},
   "outputs": [
    {
     "data": {
      "text/plain": [
       "System\n",
       "Julie    1.000000\n",
       "Lily     3.072727\n",
       "Name: On a scale from 1-5, please rate the degree to which the digital assistant distracted you from an awareness of being in an AV? , dtype: float64"
      ]
     },
     "execution_count": 505,
     "metadata": {},
     "output_type": "execute_result"
    }
   ],
   "source": [
    "df.groupby(['System'])[df.columns[30]].var()"
   ]
  },
  {
   "cell_type": "code",
   "execution_count": 506,
   "metadata": {},
   "outputs": [
    {
     "data": {
      "text/plain": [
       "(1.0, 3.0727272727272723)"
      ]
     },
     "execution_count": 506,
     "metadata": {},
     "output_type": "execute_result"
    }
   ],
   "source": [
    "x.var(), y.var()"
   ]
  },
  {
   "cell_type": "markdown",
   "metadata": {},
   "source": [
    "Overall, though, on average Julie helped distract users more"
   ]
  },
  {
   "cell_type": "markdown",
   "metadata": {},
   "source": [
    "## Environmental Distractions - significant"
   ]
  },
  {
   "cell_type": "code",
   "execution_count": 507,
   "metadata": {},
   "outputs": [],
   "source": [
    "distraction = df[df.columns[:-2]]\n",
    "distraction = distraction.drop(distraction.columns[1:-5],axis=1)"
   ]
  },
  {
   "cell_type": "code",
   "execution_count": 508,
   "metadata": {},
   "outputs": [
    {
     "data": {
      "text/html": [
       "<div>\n",
       "<style scoped>\n",
       "    .dataframe tbody tr th:only-of-type {\n",
       "        vertical-align: middle;\n",
       "    }\n",
       "\n",
       "    .dataframe tbody tr th {\n",
       "        vertical-align: top;\n",
       "    }\n",
       "\n",
       "    .dataframe thead th {\n",
       "        text-align: right;\n",
       "    }\n",
       "</style>\n",
       "<table border=\"1\" class=\"dataframe\">\n",
       "  <thead>\n",
       "    <tr style=\"text-align: right;\">\n",
       "      <th></th>\n",
       "      <th>System</th>\n",
       "      <th>Please indicate if following attributes affected your riding experience:  [Bumpiness]</th>\n",
       "      <th>Please indicate if following attributes affected your riding experience:  [Trip length]</th>\n",
       "      <th>Please indicate if following attributes affected your riding experience:  [Swirviness (side to side motion)]</th>\n",
       "      <th>Please indicate if following attributes affected your riding experience:  [Roundabouts]</th>\n",
       "      <th>Please indicate if following attributes affected your riding experience:  [Sudden stops]</th>\n",
       "      <th>Distractions</th>\n",
       "    </tr>\n",
       "  </thead>\n",
       "  <tbody>\n",
       "    <tr>\n",
       "      <th>0</th>\n",
       "      <td>Julie</td>\n",
       "      <td>1</td>\n",
       "      <td>0</td>\n",
       "      <td>0</td>\n",
       "      <td>1</td>\n",
       "      <td>1</td>\n",
       "      <td>0.6</td>\n",
       "    </tr>\n",
       "    <tr>\n",
       "      <th>1</th>\n",
       "      <td>Lily</td>\n",
       "      <td>0</td>\n",
       "      <td>0</td>\n",
       "      <td>0</td>\n",
       "      <td>1</td>\n",
       "      <td>1</td>\n",
       "      <td>0.4</td>\n",
       "    </tr>\n",
       "    <tr>\n",
       "      <th>2</th>\n",
       "      <td>Julie</td>\n",
       "      <td>1</td>\n",
       "      <td>1</td>\n",
       "      <td>0</td>\n",
       "      <td>1</td>\n",
       "      <td>1</td>\n",
       "      <td>0.8</td>\n",
       "    </tr>\n",
       "    <tr>\n",
       "      <th>3</th>\n",
       "      <td>Julie</td>\n",
       "      <td>1</td>\n",
       "      <td>0</td>\n",
       "      <td>0</td>\n",
       "      <td>1</td>\n",
       "      <td>1</td>\n",
       "      <td>0.6</td>\n",
       "    </tr>\n",
       "    <tr>\n",
       "      <th>4</th>\n",
       "      <td>Lily</td>\n",
       "      <td>1</td>\n",
       "      <td>0</td>\n",
       "      <td>0</td>\n",
       "      <td>1</td>\n",
       "      <td>1</td>\n",
       "      <td>0.6</td>\n",
       "    </tr>\n",
       "    <tr>\n",
       "      <th>5</th>\n",
       "      <td>Julie</td>\n",
       "      <td>1</td>\n",
       "      <td>0</td>\n",
       "      <td>0</td>\n",
       "      <td>1</td>\n",
       "      <td>1</td>\n",
       "      <td>0.6</td>\n",
       "    </tr>\n",
       "    <tr>\n",
       "      <th>6</th>\n",
       "      <td>Lily</td>\n",
       "      <td>1</td>\n",
       "      <td>0</td>\n",
       "      <td>0</td>\n",
       "      <td>1</td>\n",
       "      <td>1</td>\n",
       "      <td>0.6</td>\n",
       "    </tr>\n",
       "    <tr>\n",
       "      <th>7</th>\n",
       "      <td>Julie</td>\n",
       "      <td>1</td>\n",
       "      <td>1</td>\n",
       "      <td>0</td>\n",
       "      <td>1</td>\n",
       "      <td>0</td>\n",
       "      <td>0.6</td>\n",
       "    </tr>\n",
       "    <tr>\n",
       "      <th>8</th>\n",
       "      <td>Lily</td>\n",
       "      <td>1</td>\n",
       "      <td>0</td>\n",
       "      <td>0</td>\n",
       "      <td>0</td>\n",
       "      <td>1</td>\n",
       "      <td>0.4</td>\n",
       "    </tr>\n",
       "    <tr>\n",
       "      <th>9</th>\n",
       "      <td>Julie</td>\n",
       "      <td>0</td>\n",
       "      <td>0</td>\n",
       "      <td>0</td>\n",
       "      <td>1</td>\n",
       "      <td>1</td>\n",
       "      <td>0.4</td>\n",
       "    </tr>\n",
       "    <tr>\n",
       "      <th>10</th>\n",
       "      <td>Lily</td>\n",
       "      <td>0</td>\n",
       "      <td>0</td>\n",
       "      <td>0</td>\n",
       "      <td>1</td>\n",
       "      <td>0</td>\n",
       "      <td>0.2</td>\n",
       "    </tr>\n",
       "    <tr>\n",
       "      <th>11</th>\n",
       "      <td>Julie</td>\n",
       "      <td>1</td>\n",
       "      <td>0</td>\n",
       "      <td>1</td>\n",
       "      <td>1</td>\n",
       "      <td>1</td>\n",
       "      <td>0.8</td>\n",
       "    </tr>\n",
       "    <tr>\n",
       "      <th>12</th>\n",
       "      <td>Lily</td>\n",
       "      <td>0</td>\n",
       "      <td>0</td>\n",
       "      <td>0</td>\n",
       "      <td>1</td>\n",
       "      <td>1</td>\n",
       "      <td>0.4</td>\n",
       "    </tr>\n",
       "    <tr>\n",
       "      <th>13</th>\n",
       "      <td>Lily</td>\n",
       "      <td>0</td>\n",
       "      <td>0</td>\n",
       "      <td>0</td>\n",
       "      <td>1</td>\n",
       "      <td>1</td>\n",
       "      <td>0.4</td>\n",
       "    </tr>\n",
       "    <tr>\n",
       "      <th>14</th>\n",
       "      <td>Lily</td>\n",
       "      <td>0</td>\n",
       "      <td>0</td>\n",
       "      <td>0</td>\n",
       "      <td>1</td>\n",
       "      <td>0</td>\n",
       "      <td>0.2</td>\n",
       "    </tr>\n",
       "    <tr>\n",
       "      <th>15</th>\n",
       "      <td>Julie</td>\n",
       "      <td>0</td>\n",
       "      <td>0</td>\n",
       "      <td>0</td>\n",
       "      <td>0</td>\n",
       "      <td>1</td>\n",
       "      <td>0.2</td>\n",
       "    </tr>\n",
       "    <tr>\n",
       "      <th>16</th>\n",
       "      <td>Lily</td>\n",
       "      <td>1</td>\n",
       "      <td>0</td>\n",
       "      <td>0</td>\n",
       "      <td>1</td>\n",
       "      <td>1</td>\n",
       "      <td>0.6</td>\n",
       "    </tr>\n",
       "    <tr>\n",
       "      <th>17</th>\n",
       "      <td>Julie</td>\n",
       "      <td>0</td>\n",
       "      <td>0</td>\n",
       "      <td>0</td>\n",
       "      <td>1</td>\n",
       "      <td>0</td>\n",
       "      <td>0.2</td>\n",
       "    </tr>\n",
       "    <tr>\n",
       "      <th>18</th>\n",
       "      <td>Julie</td>\n",
       "      <td>1</td>\n",
       "      <td>0</td>\n",
       "      <td>0</td>\n",
       "      <td>1</td>\n",
       "      <td>0</td>\n",
       "      <td>0.4</td>\n",
       "    </tr>\n",
       "    <tr>\n",
       "      <th>19</th>\n",
       "      <td>Lily</td>\n",
       "      <td>0</td>\n",
       "      <td>0</td>\n",
       "      <td>0</td>\n",
       "      <td>1</td>\n",
       "      <td>1</td>\n",
       "      <td>0.4</td>\n",
       "    </tr>\n",
       "    <tr>\n",
       "      <th>20</th>\n",
       "      <td>Julie</td>\n",
       "      <td>0</td>\n",
       "      <td>0</td>\n",
       "      <td>0</td>\n",
       "      <td>1</td>\n",
       "      <td>1</td>\n",
       "      <td>0.4</td>\n",
       "    </tr>\n",
       "    <tr>\n",
       "      <th>21</th>\n",
       "      <td>Lily</td>\n",
       "      <td>1</td>\n",
       "      <td>1</td>\n",
       "      <td>0</td>\n",
       "      <td>1</td>\n",
       "      <td>0</td>\n",
       "      <td>0.6</td>\n",
       "    </tr>\n",
       "  </tbody>\n",
       "</table>\n",
       "</div>"
      ],
      "text/plain": [
       "   System  \\\n",
       "0   Julie   \n",
       "1    Lily   \n",
       "2   Julie   \n",
       "3   Julie   \n",
       "4    Lily   \n",
       "5   Julie   \n",
       "6    Lily   \n",
       "7   Julie   \n",
       "8    Lily   \n",
       "9   Julie   \n",
       "10   Lily   \n",
       "11  Julie   \n",
       "12   Lily   \n",
       "13   Lily   \n",
       "14   Lily   \n",
       "15  Julie   \n",
       "16   Lily   \n",
       "17  Julie   \n",
       "18  Julie   \n",
       "19   Lily   \n",
       "20  Julie   \n",
       "21   Lily   \n",
       "\n",
       "    Please indicate if following attributes affected your riding experience:  [Bumpiness]  \\\n",
       "0                                                   1                                       \n",
       "1                                                   0                                       \n",
       "2                                                   1                                       \n",
       "3                                                   1                                       \n",
       "4                                                   1                                       \n",
       "5                                                   1                                       \n",
       "6                                                   1                                       \n",
       "7                                                   1                                       \n",
       "8                                                   1                                       \n",
       "9                                                   0                                       \n",
       "10                                                  0                                       \n",
       "11                                                  1                                       \n",
       "12                                                  0                                       \n",
       "13                                                  0                                       \n",
       "14                                                  0                                       \n",
       "15                                                  0                                       \n",
       "16                                                  1                                       \n",
       "17                                                  0                                       \n",
       "18                                                  1                                       \n",
       "19                                                  0                                       \n",
       "20                                                  0                                       \n",
       "21                                                  1                                       \n",
       "\n",
       "    Please indicate if following attributes affected your riding experience:  [Trip length]  \\\n",
       "0                                                   0                                         \n",
       "1                                                   0                                         \n",
       "2                                                   1                                         \n",
       "3                                                   0                                         \n",
       "4                                                   0                                         \n",
       "5                                                   0                                         \n",
       "6                                                   0                                         \n",
       "7                                                   1                                         \n",
       "8                                                   0                                         \n",
       "9                                                   0                                         \n",
       "10                                                  0                                         \n",
       "11                                                  0                                         \n",
       "12                                                  0                                         \n",
       "13                                                  0                                         \n",
       "14                                                  0                                         \n",
       "15                                                  0                                         \n",
       "16                                                  0                                         \n",
       "17                                                  0                                         \n",
       "18                                                  0                                         \n",
       "19                                                  0                                         \n",
       "20                                                  0                                         \n",
       "21                                                  1                                         \n",
       "\n",
       "    Please indicate if following attributes affected your riding experience:  [Swirviness (side to side motion)]  \\\n",
       "0                                                   0                                                              \n",
       "1                                                   0                                                              \n",
       "2                                                   0                                                              \n",
       "3                                                   0                                                              \n",
       "4                                                   0                                                              \n",
       "5                                                   0                                                              \n",
       "6                                                   0                                                              \n",
       "7                                                   0                                                              \n",
       "8                                                   0                                                              \n",
       "9                                                   0                                                              \n",
       "10                                                  0                                                              \n",
       "11                                                  1                                                              \n",
       "12                                                  0                                                              \n",
       "13                                                  0                                                              \n",
       "14                                                  0                                                              \n",
       "15                                                  0                                                              \n",
       "16                                                  0                                                              \n",
       "17                                                  0                                                              \n",
       "18                                                  0                                                              \n",
       "19                                                  0                                                              \n",
       "20                                                  0                                                              \n",
       "21                                                  0                                                              \n",
       "\n",
       "    Please indicate if following attributes affected your riding experience:  [Roundabouts]  \\\n",
       "0                                                   1                                         \n",
       "1                                                   1                                         \n",
       "2                                                   1                                         \n",
       "3                                                   1                                         \n",
       "4                                                   1                                         \n",
       "5                                                   1                                         \n",
       "6                                                   1                                         \n",
       "7                                                   1                                         \n",
       "8                                                   0                                         \n",
       "9                                                   1                                         \n",
       "10                                                  1                                         \n",
       "11                                                  1                                         \n",
       "12                                                  1                                         \n",
       "13                                                  1                                         \n",
       "14                                                  1                                         \n",
       "15                                                  0                                         \n",
       "16                                                  1                                         \n",
       "17                                                  1                                         \n",
       "18                                                  1                                         \n",
       "19                                                  1                                         \n",
       "20                                                  1                                         \n",
       "21                                                  1                                         \n",
       "\n",
       "    Please indicate if following attributes affected your riding experience:  [Sudden stops]  \\\n",
       "0                                                   1                                          \n",
       "1                                                   1                                          \n",
       "2                                                   1                                          \n",
       "3                                                   1                                          \n",
       "4                                                   1                                          \n",
       "5                                                   1                                          \n",
       "6                                                   1                                          \n",
       "7                                                   0                                          \n",
       "8                                                   1                                          \n",
       "9                                                   1                                          \n",
       "10                                                  0                                          \n",
       "11                                                  1                                          \n",
       "12                                                  1                                          \n",
       "13                                                  1                                          \n",
       "14                                                  0                                          \n",
       "15                                                  1                                          \n",
       "16                                                  1                                          \n",
       "17                                                  0                                          \n",
       "18                                                  0                                          \n",
       "19                                                  1                                          \n",
       "20                                                  1                                          \n",
       "21                                                  0                                          \n",
       "\n",
       "    Distractions  \n",
       "0            0.6  \n",
       "1            0.4  \n",
       "2            0.8  \n",
       "3            0.6  \n",
       "4            0.6  \n",
       "5            0.6  \n",
       "6            0.6  \n",
       "7            0.6  \n",
       "8            0.4  \n",
       "9            0.4  \n",
       "10           0.2  \n",
       "11           0.8  \n",
       "12           0.4  \n",
       "13           0.4  \n",
       "14           0.2  \n",
       "15           0.2  \n",
       "16           0.6  \n",
       "17           0.2  \n",
       "18           0.4  \n",
       "19           0.4  \n",
       "20           0.4  \n",
       "21           0.6  "
      ]
     },
     "execution_count": 508,
     "metadata": {},
     "output_type": "execute_result"
    }
   ],
   "source": [
    "distraction = distraction.replace({'Yes':1,'No':0})\n",
    "df_distraction = distraction.assign(Distractions = distraction[distraction.columns[1:6]].aggregate(axis = 1, func = sum) / 5)\n",
    "df_distraction"
   ]
  },
  {
   "cell_type": "code",
   "execution_count": 509,
   "metadata": {},
   "outputs": [
    {
     "data": {
      "text/html": [
       "<div>\n",
       "<style scoped>\n",
       "    .dataframe tbody tr th:only-of-type {\n",
       "        vertical-align: middle;\n",
       "    }\n",
       "\n",
       "    .dataframe tbody tr th {\n",
       "        vertical-align: top;\n",
       "    }\n",
       "\n",
       "    .dataframe thead th {\n",
       "        text-align: right;\n",
       "    }\n",
       "</style>\n",
       "<table border=\"1\" class=\"dataframe\">\n",
       "  <thead>\n",
       "    <tr style=\"text-align: right;\">\n",
       "      <th></th>\n",
       "      <th>Please indicate if following attributes affected your riding experience:  [Bumpiness]</th>\n",
       "      <th>Please indicate if following attributes affected your riding experience:  [Trip length]</th>\n",
       "      <th>Please indicate if following attributes affected your riding experience:  [Swirviness (side to side motion)]</th>\n",
       "      <th>Please indicate if following attributes affected your riding experience:  [Roundabouts]</th>\n",
       "      <th>Please indicate if following attributes affected your riding experience:  [Sudden stops]</th>\n",
       "      <th>Distractions</th>\n",
       "    </tr>\n",
       "    <tr>\n",
       "      <th>System</th>\n",
       "      <th></th>\n",
       "      <th></th>\n",
       "      <th></th>\n",
       "      <th></th>\n",
       "      <th></th>\n",
       "      <th></th>\n",
       "    </tr>\n",
       "  </thead>\n",
       "  <tbody>\n",
       "    <tr>\n",
       "      <th>Julie</th>\n",
       "      <td>7</td>\n",
       "      <td>2</td>\n",
       "      <td>1</td>\n",
       "      <td>10</td>\n",
       "      <td>8</td>\n",
       "      <td>5.6</td>\n",
       "    </tr>\n",
       "    <tr>\n",
       "      <th>Lily</th>\n",
       "      <td>5</td>\n",
       "      <td>1</td>\n",
       "      <td>0</td>\n",
       "      <td>10</td>\n",
       "      <td>8</td>\n",
       "      <td>4.8</td>\n",
       "    </tr>\n",
       "  </tbody>\n",
       "</table>\n",
       "</div>"
      ],
      "text/plain": [
       "        Please indicate if following attributes affected your riding experience:  [Bumpiness]  \\\n",
       "System                                                                                          \n",
       "Julie                                                   7                                       \n",
       "Lily                                                    5                                       \n",
       "\n",
       "        Please indicate if following attributes affected your riding experience:  [Trip length]  \\\n",
       "System                                                                                            \n",
       "Julie                                                   2                                         \n",
       "Lily                                                    1                                         \n",
       "\n",
       "        Please indicate if following attributes affected your riding experience:  [Swirviness (side to side motion)]  \\\n",
       "System                                                                                                                 \n",
       "Julie                                                   1                                                              \n",
       "Lily                                                    0                                                              \n",
       "\n",
       "        Please indicate if following attributes affected your riding experience:  [Roundabouts]  \\\n",
       "System                                                                                            \n",
       "Julie                                                  10                                         \n",
       "Lily                                                   10                                         \n",
       "\n",
       "        Please indicate if following attributes affected your riding experience:  [Sudden stops]  \\\n",
       "System                                                                                             \n",
       "Julie                                                   8                                          \n",
       "Lily                                                    8                                          \n",
       "\n",
       "        Distractions  \n",
       "System                \n",
       "Julie            5.6  \n",
       "Lily             4.8  "
      ]
     },
     "execution_count": 509,
     "metadata": {},
     "output_type": "execute_result"
    }
   ],
   "source": [
    "df_distraction.groupby(['System']).sum()"
   ]
  },
  {
   "cell_type": "code",
   "execution_count": 510,
   "metadata": {},
   "outputs": [
    {
     "data": {
      "text/html": [
       "<div>\n",
       "<style scoped>\n",
       "    .dataframe tbody tr th:only-of-type {\n",
       "        vertical-align: middle;\n",
       "    }\n",
       "\n",
       "    .dataframe tbody tr th {\n",
       "        vertical-align: top;\n",
       "    }\n",
       "\n",
       "    .dataframe thead th {\n",
       "        text-align: right;\n",
       "    }\n",
       "</style>\n",
       "<table border=\"1\" class=\"dataframe\">\n",
       "  <thead>\n",
       "    <tr style=\"text-align: right;\">\n",
       "      <th></th>\n",
       "      <th>Please indicate if following attributes affected your riding experience:  [Bumpiness]</th>\n",
       "      <th>Please indicate if following attributes affected your riding experience:  [Trip length]</th>\n",
       "      <th>Please indicate if following attributes affected your riding experience:  [Swirviness (side to side motion)]</th>\n",
       "      <th>Please indicate if following attributes affected your riding experience:  [Roundabouts]</th>\n",
       "      <th>Please indicate if following attributes affected your riding experience:  [Sudden stops]</th>\n",
       "      <th>Distractions</th>\n",
       "    </tr>\n",
       "    <tr>\n",
       "      <th>System</th>\n",
       "      <th></th>\n",
       "      <th></th>\n",
       "      <th></th>\n",
       "      <th></th>\n",
       "      <th></th>\n",
       "      <th></th>\n",
       "    </tr>\n",
       "  </thead>\n",
       "  <tbody>\n",
       "    <tr>\n",
       "      <th>Julie</th>\n",
       "      <td>0.254545</td>\n",
       "      <td>0.163636</td>\n",
       "      <td>0.090909</td>\n",
       "      <td>0.090909</td>\n",
       "      <td>0.218182</td>\n",
       "      <td>0.042909</td>\n",
       "    </tr>\n",
       "    <tr>\n",
       "      <th>Lily</th>\n",
       "      <td>0.272727</td>\n",
       "      <td>0.090909</td>\n",
       "      <td>0.000000</td>\n",
       "      <td>0.090909</td>\n",
       "      <td>0.218182</td>\n",
       "      <td>0.022545</td>\n",
       "    </tr>\n",
       "  </tbody>\n",
       "</table>\n",
       "</div>"
      ],
      "text/plain": [
       "        Please indicate if following attributes affected your riding experience:  [Bumpiness]  \\\n",
       "System                                                                                          \n",
       "Julie                                            0.254545                                       \n",
       "Lily                                             0.272727                                       \n",
       "\n",
       "        Please indicate if following attributes affected your riding experience:  [Trip length]  \\\n",
       "System                                                                                            \n",
       "Julie                                            0.163636                                         \n",
       "Lily                                             0.090909                                         \n",
       "\n",
       "        Please indicate if following attributes affected your riding experience:  [Swirviness (side to side motion)]  \\\n",
       "System                                                                                                                 \n",
       "Julie                                            0.090909                                                              \n",
       "Lily                                             0.000000                                                              \n",
       "\n",
       "        Please indicate if following attributes affected your riding experience:  [Roundabouts]  \\\n",
       "System                                                                                            \n",
       "Julie                                            0.090909                                         \n",
       "Lily                                             0.090909                                         \n",
       "\n",
       "        Please indicate if following attributes affected your riding experience:  [Sudden stops]  \\\n",
       "System                                                                                             \n",
       "Julie                                            0.218182                                          \n",
       "Lily                                             0.218182                                          \n",
       "\n",
       "        Distractions  \n",
       "System                \n",
       "Julie       0.042909  \n",
       "Lily        0.022545  "
      ]
     },
     "execution_count": 510,
     "metadata": {},
     "output_type": "execute_result"
    }
   ],
   "source": [
    "df_distraction.groupby(['System']).var()"
   ]
  },
  {
   "cell_type": "code",
   "execution_count": 511,
   "metadata": {},
   "outputs": [
    {
     "name": "stdout",
     "output_type": "stream",
     "text": [
      "Distractions\n"
     ]
    }
   ],
   "source": [
    "print(list(df_distraction)[-1])\n",
    "analysis_column = list(df_distraction)[-1]\n",
    "x = df_distraction.loc[df_distraction['System']=='Julie'][analysis_column]\n",
    "y = df_distraction.loc[df_distraction['System']=='Lily'][analysis_column]"
   ]
  },
  {
   "cell_type": "code",
   "execution_count": 512,
   "metadata": {},
   "outputs": [
    {
     "data": {
      "text/plain": [
       "MannwhitneyuResult(statistic=73.5, pvalue=0.3866389938839727)"
      ]
     },
     "execution_count": 512,
     "metadata": {},
     "output_type": "execute_result"
    }
   ],
   "source": [
    "mannwhitneyu(x,y, alternative = 'two-sided')"
   ]
  },
  {
   "cell_type": "markdown",
   "metadata": {},
   "source": [
    "MannwhitneyuResult(statistic=73.5, pvalue=0.3866389938839727)"
   ]
  },
  {
   "cell_type": "code",
   "execution_count": 513,
   "metadata": {},
   "outputs": [
    {
     "name": "stdout",
     "output_type": "stream",
     "text": [
      "MannwhitneyuResult(statistic=71.5, pvalue=0.424504972218789)\n",
      "MannwhitneyuResult(statistic=66.0, pvalue=0.5810872693281479)\n",
      "MannwhitneyuResult(statistic=66.0, pvalue=0.36330214088689794)\n",
      "MannwhitneyuResult(statistic=60.5, pvalue=0.9474814093785361)\n",
      "MannwhitneyuResult(statistic=60.5, pvalue=0.9660850980128011)\n"
     ]
    }
   ],
   "source": [
    "x = df_distraction.loc[df_distraction['System']=='Julie'][list(df_distraction)[1]]\n",
    "y = df_distraction.loc[df_distraction['System']=='Lily'][list(df_distraction)[1]]\n",
    "print(mannwhitneyu(x,y, alternative = 'two-sided'))\n",
    "\n",
    "x = df_distraction.loc[df_distraction['System']=='Julie'][list(df_distraction)[2]]\n",
    "y = df_distraction.loc[df_distraction['System']=='Lily'][list(df_distraction)[2]]\n",
    "print(mannwhitneyu(x,y, alternative = 'two-sided'))\n",
    "\n",
    "x = df_distraction.loc[df_distraction['System']=='Julie'][list(df_distraction)[3]]\n",
    "y = df_distraction.loc[df_distraction['System']=='Lily'][list(df_distraction)[3]]\n",
    "print(mannwhitneyu(x,y, alternative = 'two-sided'))\n",
    "\n",
    "x = df_distraction.loc[df_distraction['System']=='Julie'][list(df_distraction)[4]]\n",
    "y = df_distraction.loc[df_distraction['System']=='Lily'][list(df_distraction)[4]]\n",
    "print(mannwhitneyu(x,y, alternative = 'two-sided'))\n",
    "\n",
    "x = df_distraction.loc[df_distraction['System']=='Julie'][list(df_distraction)[5]]\n",
    "y = df_distraction.loc[df_distraction['System']=='Lily'][list(df_distraction)[5]]\n",
    "print(mannwhitneyu(x,y, alternative = 'two-sided'))"
   ]
  },
  {
   "cell_type": "markdown",
   "metadata": {},
   "source": [
    "MannwhitneyuResult(statistic=71.5, pvalue=0.424504972218789)\n",
    "MannwhitneyuResult(statistic=66.0, pvalue=0.5810872693281479)\n",
    "MannwhitneyuResult(statistic=66.0, pvalue=0.36330214088689794)\n",
    "MannwhitneyuResult(statistic=60.5, pvalue=0.9474814093785361)\n",
    "MannwhitneyuResult(statistic=60.5, pvalue=0.9660850980128011)"
   ]
  },
  {
   "cell_type": "code",
   "execution_count": 514,
   "metadata": {},
   "outputs": [
    {
     "data": {
      "text/html": [
       "<div>\n",
       "<style scoped>\n",
       "    .dataframe tbody tr th:only-of-type {\n",
       "        vertical-align: middle;\n",
       "    }\n",
       "\n",
       "    .dataframe tbody tr th {\n",
       "        vertical-align: top;\n",
       "    }\n",
       "\n",
       "    .dataframe thead th {\n",
       "        text-align: right;\n",
       "    }\n",
       "</style>\n",
       "<table border=\"1\" class=\"dataframe\">\n",
       "  <thead>\n",
       "    <tr style=\"text-align: right;\">\n",
       "      <th></th>\n",
       "      <th>Please indicate if following attributes affected your riding experience:  [Bumpiness]</th>\n",
       "      <th>Please indicate if following attributes affected your riding experience:  [Trip length]</th>\n",
       "      <th>Please indicate if following attributes affected your riding experience:  [Swirviness (side to side motion)]</th>\n",
       "      <th>Please indicate if following attributes affected your riding experience:  [Roundabouts]</th>\n",
       "      <th>Please indicate if following attributes affected your riding experience:  [Sudden stops]</th>\n",
       "    </tr>\n",
       "    <tr>\n",
       "      <th>System</th>\n",
       "      <th></th>\n",
       "      <th></th>\n",
       "      <th></th>\n",
       "      <th></th>\n",
       "      <th></th>\n",
       "    </tr>\n",
       "  </thead>\n",
       "  <tbody>\n",
       "    <tr>\n",
       "      <th>Julie</th>\n",
       "      <td>0.636364</td>\n",
       "      <td>0.181818</td>\n",
       "      <td>0.090909</td>\n",
       "      <td>0.909091</td>\n",
       "      <td>0.727273</td>\n",
       "    </tr>\n",
       "    <tr>\n",
       "      <th>Lily</th>\n",
       "      <td>0.454545</td>\n",
       "      <td>0.090909</td>\n",
       "      <td>0.000000</td>\n",
       "      <td>0.909091</td>\n",
       "      <td>0.727273</td>\n",
       "    </tr>\n",
       "  </tbody>\n",
       "</table>\n",
       "</div>"
      ],
      "text/plain": [
       "        Please indicate if following attributes affected your riding experience:  [Bumpiness]  \\\n",
       "System                                                                                          \n",
       "Julie                                            0.636364                                       \n",
       "Lily                                             0.454545                                       \n",
       "\n",
       "        Please indicate if following attributes affected your riding experience:  [Trip length]  \\\n",
       "System                                                                                            \n",
       "Julie                                            0.181818                                         \n",
       "Lily                                             0.090909                                         \n",
       "\n",
       "        Please indicate if following attributes affected your riding experience:  [Swirviness (side to side motion)]  \\\n",
       "System                                                                                                                 \n",
       "Julie                                            0.090909                                                              \n",
       "Lily                                             0.000000                                                              \n",
       "\n",
       "        Please indicate if following attributes affected your riding experience:  [Roundabouts]  \\\n",
       "System                                                                                            \n",
       "Julie                                            0.909091                                         \n",
       "Lily                                             0.909091                                         \n",
       "\n",
       "        Please indicate if following attributes affected your riding experience:  [Sudden stops]  \n",
       "System                                                                                            \n",
       "Julie                                            0.727273                                         \n",
       "Lily                                             0.727273                                         "
      ]
     },
     "execution_count": 514,
     "metadata": {},
     "output_type": "execute_result"
    }
   ],
   "source": [
    "distraction.groupby(['System']).mean()"
   ]
  },
  {
   "cell_type": "code",
   "execution_count": 515,
   "metadata": {},
   "outputs": [
    {
     "data": {
      "text/plain": [
       "(6,)"
      ]
     },
     "execution_count": 515,
     "metadata": {},
     "output_type": "execute_result"
    }
   ],
   "source": [
    "distraction.iloc[0].shape"
   ]
  },
  {
   "cell_type": "code",
   "execution_count": 516,
   "metadata": {},
   "outputs": [
    {
     "data": {
      "image/png": "[encoded data removed]",
      "text/plain": [
       "<Figure size 432x288 with 1 Axes>"
      ]
     },
     "metadata": {
      "needs_background": "light"
     },
     "output_type": "display_data"
    }
   ],
   "source": [
    "fig, ax = plt.subplots()\n",
    "julie = distraction.groupby(['System']).mean().iloc[0]\n",
    "lily = distraction.groupby(['System']).mean().iloc[1]\n",
    "width = 0.25\n",
    "ind = np.arange(5)\n",
    "julie_bars = ax.bar(ind, julie, width, color='r', label='Julie')\n",
    "lily_bars = ax.bar(ind + width, lily, width, color='g', label='Lilly')\n",
    "ax.set_title('Effect of Environmental Distractions on Ride Experience')\n",
    "ax.set_xticks(ind + width/2.0)\n",
    "ax.set_xticklabels(('Bumpiness', 'Trip length', 'Side-to-side motion', 'Roundabouts', 'Sudden stops'))\n",
    "ax.axhline(y=0, color='k')\n",
    "plt.xticks(rotation=30)\n",
    "plt.xlabel('Type of Environmental Distraction')\n",
    "plt.ylabel('Mean Response')\n",
    "legend = ax.legend()\n",
    "for line in legend.get_lines():\n",
    "    line.set_linewidth(4.0)\n",
    "plt.legend(loc='lower right')\n",
    "plt.savefig(\"enviro_endride.jpeg\", dpi=300, bbox_inches = 'tight', pad_inches = 0)"
   ]
  },
  {
   "cell_type": "markdown",
   "metadata": {},
   "source": [
    "### Adjectives describing the AV"
   ]
  },
  {
   "cell_type": "markdown",
   "metadata": {},
   "source": [
    "Here we extract the adjectives users specified to describe the AV."
   ]
  },
  {
   "cell_type": "markdown",
   "metadata": {},
   "source": [
    "**Please check all adjectives that would best describe the self-driving vehicle (select all that apply)**: Julie"
   ]
  },
  {
   "cell_type": "code",
   "execution_count": 517,
   "metadata": {},
   "outputs": [],
   "source": [
    "all_adj_resp = df[[\"System\", 'Please check all adjectives that would best describe the self-driving vehicle (select all that apply).']]"
   ]
  },
  {
   "cell_type": "code",
   "execution_count": 518,
   "metadata": {},
   "outputs": [],
   "source": [
    "julie_words1 = all_adj_resp[all_adj_resp.System.str.contains('Julie')]"
   ]
  },
  {
   "cell_type": "code",
   "execution_count": 519,
   "metadata": {},
   "outputs": [
    {
     "data": {
      "text/html": [
       "<div>\n",
       "<style scoped>\n",
       "    .dataframe tbody tr th:only-of-type {\n",
       "        vertical-align: middle;\n",
       "    }\n",
       "\n",
       "    .dataframe tbody tr th {\n",
       "        vertical-align: top;\n",
       "    }\n",
       "\n",
       "    .dataframe thead th {\n",
       "        text-align: right;\n",
       "    }\n",
       "</style>\n",
       "<table border=\"1\" class=\"dataframe\">\n",
       "  <thead>\n",
       "    <tr style=\"text-align: right;\">\n",
       "      <th></th>\n",
       "      <th>System</th>\n",
       "      <th>Please check all adjectives that would best describe the self-driving vehicle (select all that apply).</th>\n",
       "    </tr>\n",
       "  </thead>\n",
       "  <tbody>\n",
       "    <tr>\n",
       "      <th>0</th>\n",
       "      <td>Julie</td>\n",
       "      <td>Helpful, Informative, Proactive</td>\n",
       "    </tr>\n",
       "    <tr>\n",
       "      <th>2</th>\n",
       "      <td>Julie</td>\n",
       "      <td>Cold, Indifferent, Passive, Trustworthy</td>\n",
       "    </tr>\n",
       "    <tr>\n",
       "      <th>3</th>\n",
       "      <td>Julie</td>\n",
       "      <td>Helpful, Proactive, Trustworthy</td>\n",
       "    </tr>\n",
       "    <tr>\n",
       "      <th>5</th>\n",
       "      <td>Julie</td>\n",
       "      <td>Comforting, Friendly, Helpful</td>\n",
       "    </tr>\n",
       "    <tr>\n",
       "      <th>7</th>\n",
       "      <td>Julie</td>\n",
       "      <td>Friendly, Helpful, Informative</td>\n",
       "    </tr>\n",
       "    <tr>\n",
       "      <th>9</th>\n",
       "      <td>Julie</td>\n",
       "      <td>Comforting, Friendly, Helpful, Informative, Ki...</td>\n",
       "    </tr>\n",
       "    <tr>\n",
       "      <th>11</th>\n",
       "      <td>Julie</td>\n",
       "      <td>Friendly, Helpful, Kind</td>\n",
       "    </tr>\n",
       "    <tr>\n",
       "      <th>15</th>\n",
       "      <td>Julie</td>\n",
       "      <td>Indifferent, Passive</td>\n",
       "    </tr>\n",
       "    <tr>\n",
       "      <th>17</th>\n",
       "      <td>Julie</td>\n",
       "      <td>Friendly, Helpful, Informative, Proactive, Tru...</td>\n",
       "    </tr>\n",
       "    <tr>\n",
       "      <th>18</th>\n",
       "      <td>Julie</td>\n",
       "      <td>Comforting, Friendly, Informative, Kind, Trust...</td>\n",
       "    </tr>\n",
       "    <tr>\n",
       "      <th>20</th>\n",
       "      <td>Julie</td>\n",
       "      <td>Friendly, Helpful, Informative, Kind, Proactive</td>\n",
       "    </tr>\n",
       "  </tbody>\n",
       "</table>\n",
       "</div>"
      ],
      "text/plain": [
       "   System  \\\n",
       "0   Julie   \n",
       "2   Julie   \n",
       "3   Julie   \n",
       "5   Julie   \n",
       "7   Julie   \n",
       "9   Julie   \n",
       "11  Julie   \n",
       "15  Julie   \n",
       "17  Julie   \n",
       "18  Julie   \n",
       "20  Julie   \n",
       "\n",
       "   Please check all adjectives that would best describe the self-driving vehicle (select all that apply).  \n",
       "0                     Helpful, Informative, Proactive                                                      \n",
       "2             Cold, Indifferent, Passive, Trustworthy                                                      \n",
       "3                     Helpful, Proactive, Trustworthy                                                      \n",
       "5                       Comforting, Friendly, Helpful                                                      \n",
       "7                      Friendly, Helpful, Informative                                                      \n",
       "9   Comforting, Friendly, Helpful, Informative, Ki...                                                      \n",
       "11                            Friendly, Helpful, Kind                                                      \n",
       "15                               Indifferent, Passive                                                      \n",
       "17  Friendly, Helpful, Informative, Proactive, Tru...                                                      \n",
       "18  Comforting, Friendly, Informative, Kind, Trust...                                                      \n",
       "20    Friendly, Helpful, Informative, Kind, Proactive                                                      "
      ]
     },
     "execution_count": 519,
     "metadata": {},
     "output_type": "execute_result"
    }
   ],
   "source": [
    "julie_words1"
   ]
  },
  {
   "cell_type": "code",
   "execution_count": 520,
   "metadata": {},
   "outputs": [],
   "source": [
    "lily_words1 = all_adj_resp[all_adj_resp.System.str.contains('Lily')]"
   ]
  },
  {
   "cell_type": "code",
   "execution_count": 521,
   "metadata": {},
   "outputs": [
    {
     "data": {
      "text/plain": [
       "11"
      ]
     },
     "execution_count": 521,
     "metadata": {},
     "output_type": "execute_result"
    }
   ],
   "source": [
    "len(lily_words1)"
   ]
  },
  {
   "cell_type": "code",
   "execution_count": 522,
   "metadata": {},
   "outputs": [
    {
     "name": "stdout",
     "output_type": "stream",
     "text": [
      "num of positive words 2006\n",
      "num of negative words 4783\n"
     ]
    }
   ],
   "source": [
    "posArr = []\n",
    "negArr = []\n",
    "for word in open('positive-words.txt', 'r').readlines()[35:]:\n",
    "    word = word.rstrip()\n",
    "    posArr.append(word)\n",
    "for word in open('negative-words.txt', 'r').readlines()[35:]:\n",
    "    word = word.rstrip()\n",
    "    negArr.append(word)\n",
    "print (\"num of positive words %d\" % len(posArr))\n",
    "print (\"num of negative words %d\" % len(negArr))"
   ]
  },
  {
   "cell_type": "code",
   "execution_count": 523,
   "metadata": {},
   "outputs": [],
   "source": [
    "for index, row in all_adj_resp.iterrows():\n",
    "    if ',' in row[1]:\n",
    "        row[1] = re.split(', ',row[1])\n",
    "    else:\n",
    "        row[1] = re.split(' ', row[1])"
   ]
  },
  {
   "cell_type": "code",
   "execution_count": 524,
   "metadata": {},
   "outputs": [
    {
     "data": {
      "text/html": [
       "<div>\n",
       "<style scoped>\n",
       "    .dataframe tbody tr th:only-of-type {\n",
       "        vertical-align: middle;\n",
       "    }\n",
       "\n",
       "    .dataframe tbody tr th {\n",
       "        vertical-align: top;\n",
       "    }\n",
       "\n",
       "    .dataframe thead th {\n",
       "        text-align: right;\n",
       "    }\n",
       "</style>\n",
       "<table border=\"1\" class=\"dataframe\">\n",
       "  <thead>\n",
       "    <tr style=\"text-align: right;\">\n",
       "      <th></th>\n",
       "      <th>System</th>\n",
       "      <th>Please check all adjectives that would best describe the self-driving vehicle (select all that apply).</th>\n",
       "    </tr>\n",
       "  </thead>\n",
       "  <tbody>\n",
       "    <tr>\n",
       "      <th>0</th>\n",
       "      <td>Julie</td>\n",
       "      <td>[Helpful, Informative, Proactive]</td>\n",
       "    </tr>\n",
       "    <tr>\n",
       "      <th>1</th>\n",
       "      <td>Lily</td>\n",
       "      <td>[Indifferent, Proactive, Trustworthy]</td>\n",
       "    </tr>\n",
       "    <tr>\n",
       "      <th>2</th>\n",
       "      <td>Julie</td>\n",
       "      <td>[Cold, Indifferent, Passive, Trustworthy]</td>\n",
       "    </tr>\n",
       "    <tr>\n",
       "      <th>3</th>\n",
       "      <td>Julie</td>\n",
       "      <td>[Helpful, Proactive, Trustworthy]</td>\n",
       "    </tr>\n",
       "    <tr>\n",
       "      <th>4</th>\n",
       "      <td>Lily</td>\n",
       "      <td>[Helpful, Informative, Passive]</td>\n",
       "    </tr>\n",
       "    <tr>\n",
       "      <th>5</th>\n",
       "      <td>Julie</td>\n",
       "      <td>[Comforting, Friendly, Helpful]</td>\n",
       "    </tr>\n",
       "    <tr>\n",
       "      <th>6</th>\n",
       "      <td>Lily</td>\n",
       "      <td>[Proactive]</td>\n",
       "    </tr>\n",
       "    <tr>\n",
       "      <th>7</th>\n",
       "      <td>Julie</td>\n",
       "      <td>[Friendly, Helpful, Informative]</td>\n",
       "    </tr>\n",
       "    <tr>\n",
       "      <th>8</th>\n",
       "      <td>Lily</td>\n",
       "      <td>[Cold, Indifferent, Passive]</td>\n",
       "    </tr>\n",
       "    <tr>\n",
       "      <th>9</th>\n",
       "      <td>Julie</td>\n",
       "      <td>[Comforting, Friendly, Helpful, Informative, K...</td>\n",
       "    </tr>\n",
       "    <tr>\n",
       "      <th>10</th>\n",
       "      <td>Lily</td>\n",
       "      <td>[Helpful]</td>\n",
       "    </tr>\n",
       "    <tr>\n",
       "      <th>11</th>\n",
       "      <td>Julie</td>\n",
       "      <td>[Friendly, Helpful, Kind]</td>\n",
       "    </tr>\n",
       "    <tr>\n",
       "      <th>12</th>\n",
       "      <td>Lily</td>\n",
       "      <td>[Helpful, Informative, Kind, Trustworthy]</td>\n",
       "    </tr>\n",
       "    <tr>\n",
       "      <th>13</th>\n",
       "      <td>Lily</td>\n",
       "      <td>[Annoying, Cold, Friendly, Indifferent, Passive]</td>\n",
       "    </tr>\n",
       "    <tr>\n",
       "      <th>14</th>\n",
       "      <td>Lily</td>\n",
       "      <td>[Cold, Helpful, Indifferent, Passive, Proactiv...</td>\n",
       "    </tr>\n",
       "    <tr>\n",
       "      <th>15</th>\n",
       "      <td>Julie</td>\n",
       "      <td>[Indifferent, Passive]</td>\n",
       "    </tr>\n",
       "    <tr>\n",
       "      <th>16</th>\n",
       "      <td>Lily</td>\n",
       "      <td>[Cold, Indifferent, Passive]</td>\n",
       "    </tr>\n",
       "    <tr>\n",
       "      <th>17</th>\n",
       "      <td>Julie</td>\n",
       "      <td>[Friendly, Helpful, Informative, Proactive, Tr...</td>\n",
       "    </tr>\n",
       "    <tr>\n",
       "      <th>18</th>\n",
       "      <td>Julie</td>\n",
       "      <td>[Comforting, Friendly, Informative, Kind, Trus...</td>\n",
       "    </tr>\n",
       "    <tr>\n",
       "      <th>19</th>\n",
       "      <td>Lily</td>\n",
       "      <td>[Comforting, Friendly, Informative, Passive, T...</td>\n",
       "    </tr>\n",
       "    <tr>\n",
       "      <th>20</th>\n",
       "      <td>Julie</td>\n",
       "      <td>[Friendly, Helpful, Informative, Kind, Proactive]</td>\n",
       "    </tr>\n",
       "    <tr>\n",
       "      <th>21</th>\n",
       "      <td>Lily</td>\n",
       "      <td>[Cold, Helpful, Indifferent, Proactive]</td>\n",
       "    </tr>\n",
       "  </tbody>\n",
       "</table>\n",
       "</div>"
      ],
      "text/plain": [
       "   System  \\\n",
       "0   Julie   \n",
       "1    Lily   \n",
       "2   Julie   \n",
       "3   Julie   \n",
       "4    Lily   \n",
       "5   Julie   \n",
       "6    Lily   \n",
       "7   Julie   \n",
       "8    Lily   \n",
       "9   Julie   \n",
       "10   Lily   \n",
       "11  Julie   \n",
       "12   Lily   \n",
       "13   Lily   \n",
       "14   Lily   \n",
       "15  Julie   \n",
       "16   Lily   \n",
       "17  Julie   \n",
       "18  Julie   \n",
       "19   Lily   \n",
       "20  Julie   \n",
       "21   Lily   \n",
       "\n",
       "   Please check all adjectives that would best describe the self-driving vehicle (select all that apply).  \n",
       "0                   [Helpful, Informative, Proactive]                                                      \n",
       "1               [Indifferent, Proactive, Trustworthy]                                                      \n",
       "2           [Cold, Indifferent, Passive, Trustworthy]                                                      \n",
       "3                   [Helpful, Proactive, Trustworthy]                                                      \n",
       "4                     [Helpful, Informative, Passive]                                                      \n",
       "5                     [Comforting, Friendly, Helpful]                                                      \n",
       "6                                         [Proactive]                                                      \n",
       "7                    [Friendly, Helpful, Informative]                                                      \n",
       "8                        [Cold, Indifferent, Passive]                                                      \n",
       "9   [Comforting, Friendly, Helpful, Informative, K...                                                      \n",
       "10                                          [Helpful]                                                      \n",
       "11                          [Friendly, Helpful, Kind]                                                      \n",
       "12          [Helpful, Informative, Kind, Trustworthy]                                                      \n",
       "13   [Annoying, Cold, Friendly, Indifferent, Passive]                                                      \n",
       "14  [Cold, Helpful, Indifferent, Passive, Proactiv...                                                      \n",
       "15                             [Indifferent, Passive]                                                      \n",
       "16                       [Cold, Indifferent, Passive]                                                      \n",
       "17  [Friendly, Helpful, Informative, Proactive, Tr...                                                      \n",
       "18  [Comforting, Friendly, Informative, Kind, Trus...                                                      \n",
       "19  [Comforting, Friendly, Informative, Passive, T...                                                      \n",
       "20  [Friendly, Helpful, Informative, Kind, Proactive]                                                      \n",
       "21            [Cold, Helpful, Indifferent, Proactive]                                                      "
      ]
     },
     "execution_count": 524,
     "metadata": {},
     "output_type": "execute_result"
    }
   ],
   "source": [
    "all_adj_resp"
   ]
  },
  {
   "cell_type": "markdown",
   "metadata": {},
   "source": [
    "## Mann-Whitney U Test: Sentiment of adjectives used to describe the assistant"
   ]
  },
  {
   "cell_type": "code",
   "execution_count": 525,
   "metadata": {},
   "outputs": [],
   "source": [
    "adjs = all_adj_resp\n",
    "for index, row in adjs.iterrows():\n",
    "    posNum = 0\n",
    "    negNum = 0\n",
    "    for word in row[1]:\n",
    "        word = word.lower()\n",
    "        if word in posArr:\n",
    "            posNum += 1\n",
    "        if word in negArr:\n",
    "            negNum -= 1\n",
    "    total = posNum + negNum\n",
    "    #print(posNum, negNum)\n",
    "    adjs.loc[index,'Total'] = total"
   ]
  },
  {
   "cell_type": "code",
   "execution_count": 526,
   "metadata": {},
   "outputs": [
    {
     "data": {
      "text/html": [
       "<div>\n",
       "<style scoped>\n",
       "    .dataframe tbody tr th:only-of-type {\n",
       "        vertical-align: middle;\n",
       "    }\n",
       "\n",
       "    .dataframe tbody tr th {\n",
       "        vertical-align: top;\n",
       "    }\n",
       "\n",
       "    .dataframe thead th {\n",
       "        text-align: right;\n",
       "    }\n",
       "</style>\n",
       "<table border=\"1\" class=\"dataframe\">\n",
       "  <thead>\n",
       "    <tr style=\"text-align: right;\">\n",
       "      <th></th>\n",
       "      <th>System</th>\n",
       "      <th>Please check all adjectives that would best describe the self-driving vehicle (select all that apply).</th>\n",
       "      <th>Total</th>\n",
       "    </tr>\n",
       "  </thead>\n",
       "  <tbody>\n",
       "    <tr>\n",
       "      <th>0</th>\n",
       "      <td>Julie</td>\n",
       "      <td>[Helpful, Informative, Proactive]</td>\n",
       "      <td>2.0</td>\n",
       "    </tr>\n",
       "    <tr>\n",
       "      <th>1</th>\n",
       "      <td>Lily</td>\n",
       "      <td>[Indifferent, Proactive, Trustworthy]</td>\n",
       "      <td>1.0</td>\n",
       "    </tr>\n",
       "    <tr>\n",
       "      <th>2</th>\n",
       "      <td>Julie</td>\n",
       "      <td>[Cold, Indifferent, Passive, Trustworthy]</td>\n",
       "      <td>-2.0</td>\n",
       "    </tr>\n",
       "    <tr>\n",
       "      <th>3</th>\n",
       "      <td>Julie</td>\n",
       "      <td>[Helpful, Proactive, Trustworthy]</td>\n",
       "      <td>3.0</td>\n",
       "    </tr>\n",
       "    <tr>\n",
       "      <th>4</th>\n",
       "      <td>Lily</td>\n",
       "      <td>[Helpful, Informative, Passive]</td>\n",
       "      <td>0.0</td>\n",
       "    </tr>\n",
       "    <tr>\n",
       "      <th>5</th>\n",
       "      <td>Julie</td>\n",
       "      <td>[Comforting, Friendly, Helpful]</td>\n",
       "      <td>3.0</td>\n",
       "    </tr>\n",
       "    <tr>\n",
       "      <th>6</th>\n",
       "      <td>Lily</td>\n",
       "      <td>[Proactive]</td>\n",
       "      <td>1.0</td>\n",
       "    </tr>\n",
       "    <tr>\n",
       "      <th>7</th>\n",
       "      <td>Julie</td>\n",
       "      <td>[Friendly, Helpful, Informative]</td>\n",
       "      <td>2.0</td>\n",
       "    </tr>\n",
       "    <tr>\n",
       "      <th>8</th>\n",
       "      <td>Lily</td>\n",
       "      <td>[Cold, Indifferent, Passive]</td>\n",
       "      <td>-3.0</td>\n",
       "    </tr>\n",
       "    <tr>\n",
       "      <th>9</th>\n",
       "      <td>Julie</td>\n",
       "      <td>[Comforting, Friendly, Helpful, Informative, K...</td>\n",
       "      <td>5.0</td>\n",
       "    </tr>\n",
       "    <tr>\n",
       "      <th>10</th>\n",
       "      <td>Lily</td>\n",
       "      <td>[Helpful]</td>\n",
       "      <td>1.0</td>\n",
       "    </tr>\n",
       "    <tr>\n",
       "      <th>11</th>\n",
       "      <td>Julie</td>\n",
       "      <td>[Friendly, Helpful, Kind]</td>\n",
       "      <td>2.0</td>\n",
       "    </tr>\n",
       "    <tr>\n",
       "      <th>12</th>\n",
       "      <td>Lily</td>\n",
       "      <td>[Helpful, Informative, Kind, Trustworthy]</td>\n",
       "      <td>2.0</td>\n",
       "    </tr>\n",
       "    <tr>\n",
       "      <th>13</th>\n",
       "      <td>Lily</td>\n",
       "      <td>[Annoying, Cold, Friendly, Indifferent, Passive]</td>\n",
       "      <td>-3.0</td>\n",
       "    </tr>\n",
       "    <tr>\n",
       "      <th>14</th>\n",
       "      <td>Lily</td>\n",
       "      <td>[Cold, Helpful, Indifferent, Passive, Proactiv...</td>\n",
       "      <td>0.0</td>\n",
       "    </tr>\n",
       "    <tr>\n",
       "      <th>15</th>\n",
       "      <td>Julie</td>\n",
       "      <td>[Indifferent, Passive]</td>\n",
       "      <td>-2.0</td>\n",
       "    </tr>\n",
       "    <tr>\n",
       "      <th>16</th>\n",
       "      <td>Lily</td>\n",
       "      <td>[Cold, Indifferent, Passive]</td>\n",
       "      <td>-3.0</td>\n",
       "    </tr>\n",
       "    <tr>\n",
       "      <th>17</th>\n",
       "      <td>Julie</td>\n",
       "      <td>[Friendly, Helpful, Informative, Proactive, Tr...</td>\n",
       "      <td>4.0</td>\n",
       "    </tr>\n",
       "    <tr>\n",
       "      <th>18</th>\n",
       "      <td>Julie</td>\n",
       "      <td>[Comforting, Friendly, Informative, Kind, Trus...</td>\n",
       "      <td>3.0</td>\n",
       "    </tr>\n",
       "    <tr>\n",
       "      <th>19</th>\n",
       "      <td>Lily</td>\n",
       "      <td>[Comforting, Friendly, Informative, Passive, T...</td>\n",
       "      <td>2.0</td>\n",
       "    </tr>\n",
       "    <tr>\n",
       "      <th>20</th>\n",
       "      <td>Julie</td>\n",
       "      <td>[Friendly, Helpful, Informative, Kind, Proactive]</td>\n",
       "      <td>3.0</td>\n",
       "    </tr>\n",
       "    <tr>\n",
       "      <th>21</th>\n",
       "      <td>Lily</td>\n",
       "      <td>[Cold, Helpful, Indifferent, Proactive]</td>\n",
       "      <td>0.0</td>\n",
       "    </tr>\n",
       "  </tbody>\n",
       "</table>\n",
       "</div>"
      ],
      "text/plain": [
       "   System  \\\n",
       "0   Julie   \n",
       "1    Lily   \n",
       "2   Julie   \n",
       "3   Julie   \n",
       "4    Lily   \n",
       "5   Julie   \n",
       "6    Lily   \n",
       "7   Julie   \n",
       "8    Lily   \n",
       "9   Julie   \n",
       "10   Lily   \n",
       "11  Julie   \n",
       "12   Lily   \n",
       "13   Lily   \n",
       "14   Lily   \n",
       "15  Julie   \n",
       "16   Lily   \n",
       "17  Julie   \n",
       "18  Julie   \n",
       "19   Lily   \n",
       "20  Julie   \n",
       "21   Lily   \n",
       "\n",
       "   Please check all adjectives that would best describe the self-driving vehicle (select all that apply).  \\\n",
       "0                   [Helpful, Informative, Proactive]                                                       \n",
       "1               [Indifferent, Proactive, Trustworthy]                                                       \n",
       "2           [Cold, Indifferent, Passive, Trustworthy]                                                       \n",
       "3                   [Helpful, Proactive, Trustworthy]                                                       \n",
       "4                     [Helpful, Informative, Passive]                                                       \n",
       "5                     [Comforting, Friendly, Helpful]                                                       \n",
       "6                                         [Proactive]                                                       \n",
       "7                    [Friendly, Helpful, Informative]                                                       \n",
       "8                        [Cold, Indifferent, Passive]                                                       \n",
       "9   [Comforting, Friendly, Helpful, Informative, K...                                                       \n",
       "10                                          [Helpful]                                                       \n",
       "11                          [Friendly, Helpful, Kind]                                                       \n",
       "12          [Helpful, Informative, Kind, Trustworthy]                                                       \n",
       "13   [Annoying, Cold, Friendly, Indifferent, Passive]                                                       \n",
       "14  [Cold, Helpful, Indifferent, Passive, Proactiv...                                                       \n",
       "15                             [Indifferent, Passive]                                                       \n",
       "16                       [Cold, Indifferent, Passive]                                                       \n",
       "17  [Friendly, Helpful, Informative, Proactive, Tr...                                                       \n",
       "18  [Comforting, Friendly, Informative, Kind, Trus...                                                       \n",
       "19  [Comforting, Friendly, Informative, Passive, T...                                                       \n",
       "20  [Friendly, Helpful, Informative, Kind, Proactive]                                                       \n",
       "21            [Cold, Helpful, Indifferent, Proactive]                                                       \n",
       "\n",
       "    Total  \n",
       "0     2.0  \n",
       "1     1.0  \n",
       "2    -2.0  \n",
       "3     3.0  \n",
       "4     0.0  \n",
       "5     3.0  \n",
       "6     1.0  \n",
       "7     2.0  \n",
       "8    -3.0  \n",
       "9     5.0  \n",
       "10    1.0  \n",
       "11    2.0  \n",
       "12    2.0  \n",
       "13   -3.0  \n",
       "14    0.0  \n",
       "15   -2.0  \n",
       "16   -3.0  \n",
       "17    4.0  \n",
       "18    3.0  \n",
       "19    2.0  \n",
       "20    3.0  \n",
       "21    0.0  "
      ]
     },
     "execution_count": 526,
     "metadata": {},
     "output_type": "execute_result"
    }
   ],
   "source": [
    "adjs"
   ]
  },
  {
   "cell_type": "code",
   "execution_count": 527,
   "metadata": {},
   "outputs": [],
   "source": [
    "julie_adj = adjs.loc[adjs['System']==\"Julie\"][adjs.columns[2]]\n",
    "lily_adj = adjs.loc[adjs['System']==\"Lily\"][adjs.columns[2]]"
   ]
  },
  {
   "cell_type": "code",
   "execution_count": 528,
   "metadata": {},
   "outputs": [
    {
     "data": {
      "text/plain": [
       "2.090909090909091"
      ]
     },
     "execution_count": 528,
     "metadata": {},
     "output_type": "execute_result"
    }
   ],
   "source": [
    "julie_adj.mean()"
   ]
  },
  {
   "cell_type": "code",
   "execution_count": 529,
   "metadata": {},
   "outputs": [
    {
     "data": {
      "text/plain": [
       "-0.18181818181818182"
      ]
     },
     "execution_count": 529,
     "metadata": {},
     "output_type": "execute_result"
    }
   ],
   "source": [
    "lily_adj.mean()"
   ]
  },
  {
   "cell_type": "code",
   "execution_count": 530,
   "metadata": {},
   "outputs": [
    {
     "data": {
      "text/plain": [
       "MannwhitneyuResult(statistic=102.0, pvalue=0.0064193068057014245)"
      ]
     },
     "execution_count": 530,
     "metadata": {},
     "output_type": "execute_result"
    }
   ],
   "source": [
    "mannwhitneyu(julie_adj, lily_adj, alternative = 'two-sided')"
   ]
  },
  {
   "cell_type": "markdown",
   "metadata": {},
   "source": [
    "pvalue=0.0064193068057014245"
   ]
  },
  {
   "cell_type": "markdown",
   "metadata": {},
   "source": [
    "### Adjectives describing the assistant"
   ]
  },
  {
   "cell_type": "markdown",
   "metadata": {},
   "source": [
    "Here we extract the custom adjectives users specified to describe their assigned assistant."
   ]
  },
  {
   "cell_type": "markdown",
   "metadata": {},
   "source": [
    "**Please specify any other adjectives that would best describe the assistant not included in the list above.**: Julie"
   ]
  },
  {
   "cell_type": "code",
   "execution_count": 531,
   "metadata": {},
   "outputs": [],
   "source": [
    "all_more_adj_resp = df[[\"System\", 'Please specify any other adjectives that would best describe the assistant not included in the list above.']]"
   ]
  },
  {
   "cell_type": "code",
   "execution_count": 532,
   "metadata": {},
   "outputs": [],
   "source": [
    "adjs_more = all_more_adj_resp.dropna()"
   ]
  },
  {
   "cell_type": "code",
   "execution_count": 533,
   "metadata": {},
   "outputs": [],
   "source": [
    "for index, row in adjs_more.iterrows():\n",
    "    if ',' in row[1]:\n",
    "        row[1] = re.split(', ',row[1])\n",
    "    else:\n",
    "        row[1] = re.split(' ', row[1])"
   ]
  },
  {
   "cell_type": "code",
   "execution_count": 534,
   "metadata": {},
   "outputs": [
    {
     "data": {
      "text/plain": [
       "(12, 2)"
      ]
     },
     "execution_count": 534,
     "metadata": {},
     "output_type": "execute_result"
    }
   ],
   "source": [
    "adjs_more.shape"
   ]
  },
  {
   "cell_type": "code",
   "execution_count": 535,
   "metadata": {},
   "outputs": [
    {
     "data": {
      "text/html": [
       "<div>\n",
       "<style scoped>\n",
       "    .dataframe tbody tr th:only-of-type {\n",
       "        vertical-align: middle;\n",
       "    }\n",
       "\n",
       "    .dataframe tbody tr th {\n",
       "        vertical-align: top;\n",
       "    }\n",
       "\n",
       "    .dataframe thead th {\n",
       "        text-align: right;\n",
       "    }\n",
       "</style>\n",
       "<table border=\"1\" class=\"dataframe\">\n",
       "  <thead>\n",
       "    <tr style=\"text-align: right;\">\n",
       "      <th></th>\n",
       "      <th>System</th>\n",
       "      <th>Please specify any other adjectives that would best describe the assistant not included in the list above.</th>\n",
       "    </tr>\n",
       "  </thead>\n",
       "  <tbody>\n",
       "    <tr>\n",
       "      <th>1</th>\n",
       "      <td>Lily</td>\n",
       "      <td>[robotic]</td>\n",
       "    </tr>\n",
       "    <tr>\n",
       "      <th>3</th>\n",
       "      <td>Julie</td>\n",
       "      <td>[Personable]</td>\n",
       "    </tr>\n",
       "    <tr>\n",
       "      <th>4</th>\n",
       "      <td>Lily</td>\n",
       "      <td>[curious, ]</td>\n",
       "    </tr>\n",
       "    <tr>\n",
       "      <th>6</th>\n",
       "      <td>Lily</td>\n",
       "      <td>[calm]</td>\n",
       "    </tr>\n",
       "    <tr>\n",
       "      <th>7</th>\n",
       "      <td>Julie</td>\n",
       "      <td>[efficient]</td>\n",
       "    </tr>\n",
       "    <tr>\n",
       "      <th>10</th>\n",
       "      <td>Lily</td>\n",
       "      <td>[Convenient]</td>\n",
       "    </tr>\n",
       "    <tr>\n",
       "      <th>11</th>\n",
       "      <td>Julie</td>\n",
       "      <td>[Bumbling, determined, confident]</td>\n",
       "    </tr>\n",
       "    <tr>\n",
       "      <th>12</th>\n",
       "      <td>Lily</td>\n",
       "      <td>[ability, to, handle, construction, activity]</td>\n",
       "    </tr>\n",
       "    <tr>\n",
       "      <th>13</th>\n",
       "      <td>Lily</td>\n",
       "      <td>[Indecisive]</td>\n",
       "    </tr>\n",
       "    <tr>\n",
       "      <th>14</th>\n",
       "      <td>Lily</td>\n",
       "      <td>[intimidating, ground-breaking, efficient, \"gr...</td>\n",
       "    </tr>\n",
       "    <tr>\n",
       "      <th>18</th>\n",
       "      <td>Julie</td>\n",
       "      <td>[helpful]</td>\n",
       "    </tr>\n",
       "    <tr>\n",
       "      <th>19</th>\n",
       "      <td>Lily</td>\n",
       "      <td>[interesting]</td>\n",
       "    </tr>\n",
       "  </tbody>\n",
       "</table>\n",
       "</div>"
      ],
      "text/plain": [
       "   System  \\\n",
       "1    Lily   \n",
       "3   Julie   \n",
       "4    Lily   \n",
       "6    Lily   \n",
       "7   Julie   \n",
       "10   Lily   \n",
       "11  Julie   \n",
       "12   Lily   \n",
       "13   Lily   \n",
       "14   Lily   \n",
       "18  Julie   \n",
       "19   Lily   \n",
       "\n",
       "   Please specify any other adjectives that would best describe the assistant not included in the list above.  \n",
       "1                                           [robotic]                                                          \n",
       "3                                        [Personable]                                                          \n",
       "4                                         [curious, ]                                                          \n",
       "6                                              [calm]                                                          \n",
       "7                                         [efficient]                                                          \n",
       "10                                       [Convenient]                                                          \n",
       "11                  [Bumbling, determined, confident]                                                          \n",
       "12      [ability, to, handle, construction, activity]                                                          \n",
       "13                                       [Indecisive]                                                          \n",
       "14  [intimidating, ground-breaking, efficient, \"gr...                                                          \n",
       "18                                          [helpful]                                                          \n",
       "19                                      [interesting]                                                          "
      ]
     },
     "execution_count": 535,
     "metadata": {},
     "output_type": "execute_result"
    }
   ],
   "source": [
    "adjs_more"
   ]
  },
  {
   "cell_type": "code",
   "execution_count": 536,
   "metadata": {},
   "outputs": [],
   "source": [
    "for index, row in adjs_more.iterrows():\n",
    "    posNum = 0\n",
    "    negNum = 0\n",
    "    for word in row[1]:\n",
    "        word = word.replace('\"', '').lower()\n",
    "        if word in posArr:\n",
    "            posNum += 1\n",
    "        if word in negArr:\n",
    "            negNum -= 1\n",
    "    total = posNum + negNum\n",
    "    adjs_more.loc[index,'Total'] = total"
   ]
  },
  {
   "cell_type": "code",
   "execution_count": 537,
   "metadata": {},
   "outputs": [
    {
     "data": {
      "text/html": [
       "<div>\n",
       "<style scoped>\n",
       "    .dataframe tbody tr th:only-of-type {\n",
       "        vertical-align: middle;\n",
       "    }\n",
       "\n",
       "    .dataframe tbody tr th {\n",
       "        vertical-align: top;\n",
       "    }\n",
       "\n",
       "    .dataframe thead th {\n",
       "        text-align: right;\n",
       "    }\n",
       "</style>\n",
       "<table border=\"1\" class=\"dataframe\">\n",
       "  <thead>\n",
       "    <tr style=\"text-align: right;\">\n",
       "      <th></th>\n",
       "      <th>System</th>\n",
       "      <th>Please specify any other adjectives that would best describe the assistant not included in the list above.</th>\n",
       "      <th>Total</th>\n",
       "    </tr>\n",
       "  </thead>\n",
       "  <tbody>\n",
       "    <tr>\n",
       "      <th>1</th>\n",
       "      <td>Lily</td>\n",
       "      <td>[robotic]</td>\n",
       "      <td>0.0</td>\n",
       "    </tr>\n",
       "    <tr>\n",
       "      <th>3</th>\n",
       "      <td>Julie</td>\n",
       "      <td>[Personable]</td>\n",
       "      <td>0.0</td>\n",
       "    </tr>\n",
       "    <tr>\n",
       "      <th>4</th>\n",
       "      <td>Lily</td>\n",
       "      <td>[curious, ]</td>\n",
       "      <td>0.0</td>\n",
       "    </tr>\n",
       "    <tr>\n",
       "      <th>6</th>\n",
       "      <td>Lily</td>\n",
       "      <td>[calm]</td>\n",
       "      <td>1.0</td>\n",
       "    </tr>\n",
       "    <tr>\n",
       "      <th>7</th>\n",
       "      <td>Julie</td>\n",
       "      <td>[efficient]</td>\n",
       "      <td>1.0</td>\n",
       "    </tr>\n",
       "    <tr>\n",
       "      <th>10</th>\n",
       "      <td>Lily</td>\n",
       "      <td>[Convenient]</td>\n",
       "      <td>1.0</td>\n",
       "    </tr>\n",
       "    <tr>\n",
       "      <th>11</th>\n",
       "      <td>Julie</td>\n",
       "      <td>[Bumbling, determined, confident]</td>\n",
       "      <td>1.0</td>\n",
       "    </tr>\n",
       "    <tr>\n",
       "      <th>12</th>\n",
       "      <td>Lily</td>\n",
       "      <td>[ability, to, handle, construction, activity]</td>\n",
       "      <td>0.0</td>\n",
       "    </tr>\n",
       "    <tr>\n",
       "      <th>13</th>\n",
       "      <td>Lily</td>\n",
       "      <td>[Indecisive]</td>\n",
       "      <td>-1.0</td>\n",
       "    </tr>\n",
       "    <tr>\n",
       "      <th>14</th>\n",
       "      <td>Lily</td>\n",
       "      <td>[intimidating, ground-breaking, efficient, \"gr...</td>\n",
       "      <td>0.0</td>\n",
       "    </tr>\n",
       "    <tr>\n",
       "      <th>18</th>\n",
       "      <td>Julie</td>\n",
       "      <td>[helpful]</td>\n",
       "      <td>1.0</td>\n",
       "    </tr>\n",
       "    <tr>\n",
       "      <th>19</th>\n",
       "      <td>Lily</td>\n",
       "      <td>[interesting]</td>\n",
       "      <td>1.0</td>\n",
       "    </tr>\n",
       "  </tbody>\n",
       "</table>\n",
       "</div>"
      ],
      "text/plain": [
       "   System  \\\n",
       "1    Lily   \n",
       "3   Julie   \n",
       "4    Lily   \n",
       "6    Lily   \n",
       "7   Julie   \n",
       "10   Lily   \n",
       "11  Julie   \n",
       "12   Lily   \n",
       "13   Lily   \n",
       "14   Lily   \n",
       "18  Julie   \n",
       "19   Lily   \n",
       "\n",
       "   Please specify any other adjectives that would best describe the assistant not included in the list above.  \\\n",
       "1                                           [robotic]                                                           \n",
       "3                                        [Personable]                                                           \n",
       "4                                         [curious, ]                                                           \n",
       "6                                              [calm]                                                           \n",
       "7                                         [efficient]                                                           \n",
       "10                                       [Convenient]                                                           \n",
       "11                  [Bumbling, determined, confident]                                                           \n",
       "12      [ability, to, handle, construction, activity]                                                           \n",
       "13                                       [Indecisive]                                                           \n",
       "14  [intimidating, ground-breaking, efficient, \"gr...                                                           \n",
       "18                                          [helpful]                                                           \n",
       "19                                      [interesting]                                                           \n",
       "\n",
       "    Total  \n",
       "1     0.0  \n",
       "3     0.0  \n",
       "4     0.0  \n",
       "6     1.0  \n",
       "7     1.0  \n",
       "10    1.0  \n",
       "11    1.0  \n",
       "12    0.0  \n",
       "13   -1.0  \n",
       "14    0.0  \n",
       "18    1.0  \n",
       "19    1.0  "
      ]
     },
     "execution_count": 537,
     "metadata": {},
     "output_type": "execute_result"
    }
   ],
   "source": [
    "adjs_more"
   ]
  },
  {
   "cell_type": "code",
   "execution_count": 538,
   "metadata": {},
   "outputs": [
    {
     "data": {
      "text/plain": [
       "(12, 3)"
      ]
     },
     "execution_count": 538,
     "metadata": {},
     "output_type": "execute_result"
    }
   ],
   "source": [
    "adjs_more.shape"
   ]
  },
  {
   "cell_type": "code",
   "execution_count": 539,
   "metadata": {},
   "outputs": [],
   "source": [
    "julie_adj2 = adjs_more.loc[adjs['System']==\"Julie\"][adjs_more.columns[2]]\n",
    "lily_adj2 = adjs_more.loc[adjs['System']==\"Lily\"][adjs_more.columns[2]]"
   ]
  },
  {
   "cell_type": "code",
   "execution_count": 540,
   "metadata": {},
   "outputs": [
    {
     "data": {
      "text/plain": [
       "0.75"
      ]
     },
     "execution_count": 540,
     "metadata": {},
     "output_type": "execute_result"
    }
   ],
   "source": [
    "julie_adj2.mean()"
   ]
  },
  {
   "cell_type": "code",
   "execution_count": 541,
   "metadata": {},
   "outputs": [
    {
     "data": {
      "text/plain": [
       "0.25"
      ]
     },
     "execution_count": 541,
     "metadata": {},
     "output_type": "execute_result"
    }
   ],
   "source": [
    "lily_adj2.mean()"
   ]
  },
  {
   "cell_type": "code",
   "execution_count": 542,
   "metadata": {},
   "outputs": [
    {
     "data": {
      "text/plain": [
       "MannwhitneyuResult(statistic=22.5, pvalue=0.25683925795785656)"
      ]
     },
     "execution_count": 542,
     "metadata": {},
     "output_type": "execute_result"
    }
   ],
   "source": [
    "mannwhitneyu(julie_adj2, lily_adj2, alternative = 'two-sided')"
   ]
  },
  {
   "cell_type": "code",
   "execution_count": 543,
   "metadata": {},
   "outputs": [],
   "source": [
    "julie_words2 = all_more_adj_resp[all_more_adj_resp.System.str.contains('Julie')]"
   ]
  },
  {
   "cell_type": "code",
   "execution_count": 544,
   "metadata": {},
   "outputs": [
    {
     "data": {
      "text/plain": [
       "11"
      ]
     },
     "execution_count": 544,
     "metadata": {},
     "output_type": "execute_result"
    }
   ],
   "source": [
    "len(julie_words2)"
   ]
  },
  {
   "cell_type": "code",
   "execution_count": 545,
   "metadata": {},
   "outputs": [],
   "source": [
    "lily_words2 = all_more_adj_resp[all_more_adj_resp.System.str.contains('Lily')]"
   ]
  },
  {
   "cell_type": "code",
   "execution_count": 546,
   "metadata": {},
   "outputs": [
    {
     "data": {
      "text/plain": [
       "11"
      ]
     },
     "execution_count": 546,
     "metadata": {},
     "output_type": "execute_result"
    }
   ],
   "source": [
    "len(lily_words2)"
   ]
  },
  {
   "cell_type": "code",
   "execution_count": 547,
   "metadata": {},
   "outputs": [],
   "source": [
    "def getWords(allWords):\n",
    "    print(allWords)\n",
    "    words = []\n",
    "    for index,row in allWords.iterrows():\n",
    "        if isinstance(row[1],str):\n",
    "            if ',' in row[1]:\n",
    "                words.extend(row[1].split(','))\n",
    "            else:\n",
    "                words.extend(row[1].split(' '))\n",
    "    words = [word.strip().lower() for word in words]\n",
    "    words = ' '.join(words)\n",
    "    return words"
   ]
  },
  {
   "cell_type": "code",
   "execution_count": 548,
   "metadata": {},
   "outputs": [],
   "source": [
    "def random_color_func(word=None, font_size=None, position=None, orientation=None, font_path=None, random_state=None):\n",
    "    h = 30\n",
    "    s = int(100.0 * 255.0 / 255.0)\n",
    "    l = int(100.0 * float(random_state.randint(60, 120)) / 255.0)\n",
    "    return \"hsl({}, {}%, {}%)\".format(h, s, l)\n",
    "\n",
    "# https://stackoverflow.com/questions/46615554/how-to-display-multiple-images-in-one-figure-correctly\n",
    "def makeWordcloud(allWords, title, num):\n",
    "    words = getWords(allWords)\n",
    "    wordcloud = WordCloud(font_path=\"AmaticSC-Bold.ttf\",collocations=False,\n",
    "                          max_words=25,\n",
    "                          background_color = 'white',\n",
    "                          width = 960,\n",
    "                          height = 960,\n",
    "                          max_font_size=300,\n",
    "                          random_state = 42,\n",
    "                          color_func = random_color_func).generate(words)\n",
    "    # print(wordcloud.words_)\n",
    "    print(\"Number of words =\", len(wordcloud.words_))\n",
    "    # print(list(wordcloud.words_.keys()))\n",
    "    fig.add_subplot(1, 2, num)\n",
    "    plt.imshow(wordcloud)\n",
    "    plt.title(label=title, fontdict={'fontsize':20})\n",
    "    plt.axis('off')"
   ]
  },
  {
   "cell_type": "code",
   "execution_count": 549,
   "metadata": {},
   "outputs": [
    {
     "name": "stdout",
     "output_type": "stream",
     "text": [
      "   System  \\\n",
      "0   Julie   \n",
      "2   Julie   \n",
      "3   Julie   \n",
      "5   Julie   \n",
      "7   Julie   \n",
      "9   Julie   \n",
      "11  Julie   \n",
      "15  Julie   \n",
      "17  Julie   \n",
      "18  Julie   \n",
      "20  Julie   \n",
      "\n",
      "   Please check all adjectives that would best describe the self-driving vehicle (select all that apply).  \n",
      "0                     Helpful, Informative, Proactive                                                      \n",
      "2             Cold, Indifferent, Passive, Trustworthy                                                      \n",
      "3                     Helpful, Proactive, Trustworthy                                                      \n",
      "5                       Comforting, Friendly, Helpful                                                      \n",
      "7                      Friendly, Helpful, Informative                                                      \n",
      "9   Comforting, Friendly, Helpful, Informative, Ki...                                                      \n",
      "11                            Friendly, Helpful, Kind                                                      \n",
      "15                               Indifferent, Passive                                                      \n",
      "17  Friendly, Helpful, Informative, Proactive, Tru...                                                      \n",
      "18  Comforting, Friendly, Informative, Kind, Trust...                                                      \n",
      "20    Friendly, Helpful, Informative, Kind, Proactive                                                      \n",
      "Number of words = 10\n",
      "   System  \\\n",
      "1    Lily   \n",
      "4    Lily   \n",
      "6    Lily   \n",
      "8    Lily   \n",
      "10   Lily   \n",
      "12   Lily   \n",
      "13   Lily   \n",
      "14   Lily   \n",
      "16   Lily   \n",
      "19   Lily   \n",
      "21   Lily   \n",
      "\n",
      "   Please check all adjectives that would best describe the self-driving vehicle (select all that apply).  \n",
      "1                 Indifferent, Proactive, Trustworthy                                                      \n",
      "4                       Helpful, Informative, Passive                                                      \n",
      "6                                           Proactive                                                      \n",
      "8                          Cold, Indifferent, Passive                                                      \n",
      "10                                            Helpful                                                      \n",
      "12            Helpful, Informative, Kind, Trustworthy                                                      \n",
      "13     Annoying, Cold, Friendly, Indifferent, Passive                                                      \n",
      "14  Cold, Helpful, Indifferent, Passive, Proactive...                                                      \n",
      "16                         Cold, Indifferent, Passive                                                      \n",
      "19  Comforting, Friendly, Informative, Passive, Tr...                                                      \n",
      "21              Cold, Helpful, Indifferent, Proactive                                                      \n",
      "Number of words = 11\n"
     ]
    },
    {
     "data": {
      "image/png": "[encoded data removed]",
      "text/plain": [
       "<Figure size 1152x1152 with 2 Axes>"
      ]
     },
     "metadata": {
      "needs_background": "light"
     },
     "output_type": "display_data"
    }
   ],
   "source": [
    "fig=plt.figure(figsize=(16, 16))\n",
    "makeWordcloud(julie_words1, \"Julie\", 1)\n",
    "makeWordcloud(lily_words1, \"Lilly\", 2)\n",
    "plt.show()"
   ]
  },
  {
   "cell_type": "code",
   "execution_count": 550,
   "metadata": {},
   "outputs": [
    {
     "name": "stdout",
     "output_type": "stream",
     "text": [
      "   System  \\\n",
      "0   Julie   \n",
      "2   Julie   \n",
      "3   Julie   \n",
      "5   Julie   \n",
      "7   Julie   \n",
      "9   Julie   \n",
      "11  Julie   \n",
      "15  Julie   \n",
      "17  Julie   \n",
      "18  Julie   \n",
      "20  Julie   \n",
      "\n",
      "   Please specify any other adjectives that would best describe the assistant not included in the list above.  \n",
      "0                                                 NaN                                                          \n",
      "2                                                 NaN                                                          \n",
      "3                                          Personable                                                          \n",
      "5                                                 NaN                                                          \n",
      "7                                           efficient                                                          \n",
      "9                                                 NaN                                                          \n",
      "11                    Bumbling, determined, confident                                                          \n",
      "15                                                NaN                                                          \n",
      "17                                                NaN                                                          \n",
      "18                                            helpful                                                          \n",
      "20                                                NaN                                                          \n",
      "Number of words = 6\n",
      "   System  \\\n",
      "1    Lily   \n",
      "4    Lily   \n",
      "6    Lily   \n",
      "8    Lily   \n",
      "10   Lily   \n",
      "12   Lily   \n",
      "13   Lily   \n",
      "14   Lily   \n",
      "16   Lily   \n",
      "19   Lily   \n",
      "21   Lily   \n",
      "\n",
      "   Please specify any other adjectives that would best describe the assistant not included in the list above.  \n",
      "1                                             robotic                                                          \n",
      "4                                            curious                                                           \n",
      "6                                                calm                                                          \n",
      "8                                                 NaN                                                          \n",
      "10                                         Convenient                                                          \n",
      "12            ability to handle construction activity                                                          \n",
      "13                                         Indecisive                                                          \n",
      "14  intimidating, ground-breaking, efficient, \"green\"                                                          \n",
      "16                                                NaN                                                          \n",
      "19                                        interesting                                                          \n",
      "21                                                NaN                                                          \n",
      "Number of words = 15\n"
     ]
    },
    {
     "data": {
      "image/png": "[encoded data removed]",
      "text/plain": [
       "<Figure size 1152x1152 with 2 Axes>"
      ]
     },
     "metadata": {
      "needs_background": "light"
     },
     "output_type": "display_data"
    }
   ],
   "source": [
    "fig=plt.figure(figsize=(16, 16))\n",
    "makeWordcloud(julie_words2, \"Julie\", 1)\n",
    "makeWordcloud(lily_words2, \"Lilly\", 2)\n",
    "plt.show()"
   ]
  }
 ],
 "metadata": {
  "kernelspec": {
   "display_name": "Python 3",
   "language": "python",
   "name": "python3"
  },
  "language_info": {
   "codemirror_mode": {
    "name": "ipython",
    "version": 3
   },
   "file_extension": ".py",
   "mimetype": "text/x-python",
   "name": "python",
   "nbconvert_exporter": "python",
   "pygments_lexer": "ipython3",
   "version": "3.7.1"
  }
 },
 "nbformat": 4,
 "nbformat_minor": 2
}
