{
 "cells": [
  {
   "cell_type": "code",
   "execution_count": 16,
   "metadata": {},
   "outputs": [],
   "source": [
    "import pandas as pd\n",
    "import numpy as np"
   ]
  },
  {
   "cell_type": "code",
   "execution_count": 17,
   "metadata": {},
   "outputs": [],
   "source": [
    "df = pd.read_csv(\"/Users/kalicornn/Desktop/preride_data.csv\")"
   ]
  },
  {
   "cell_type": "code",
   "execution_count": 18,
   "metadata": {},
   "outputs": [
    {
     "data": {
      "text/plain": [
       "Index(['System',\n",
       "       'Do you get motion sickness when looking at visual media (e.g., emails, videos, etc.) in cars/vehicles?',\n",
       "       'If you need to go somewhere by car, which would you prefer?',\n",
       "       'Do you use a GPS/geography-based app? If so, which do you use?',\n",
       "       'Please choose the response that best represents your view on taking a Lyft or Uber. [I am usually comfortable  being driven.]',\n",
       "       'Please choose the response that best represents your view on taking a Lyft or Uber. [I usually feel safe being driven.]',\n",
       "       'Please choose the response that best represents your view on taking a Lyft or Uber. [I usually trust the driver.]',\n",
       "       'Please choose the response that best represents your view on taking a Lyft or Uber. [I usually trust other drivers on the road.]',\n",
       "       'Have you ridden in a semi-autonomous or self-driving vehicle before?',\n",
       "       'If you have ridden in a semi-autonomous or self-driving vehicle before, please specify which (e.g., Google car, Tesla, etc). ',\n",
       "       'If you have ridden in a semi-autonomous or self-driving vehicle before, please rate your satisfaction with the experience. ',\n",
       "       'Please explain why you have chosen the above rating for your experience in the semi-autonomous or self-driving vehicle. ',\n",
       "       'Provide 5 words (adjectives) to characterize/describe a self-driving vehicle.',\n",
       "       'Please choose the response that best represents how you perceive the self-driving vehicle. (The following words are in alphabetical order.) [Capable]',\n",
       "       'Please choose the response that best represents how you perceive the self-driving vehicle. (The following words are in alphabetical order.) [Emotional]',\n",
       "       'Please choose the response that best represents how you perceive the self-driving vehicle. (The following words are in alphabetical order.) [Energetic]',\n",
       "       'Please choose the response that best represents how you perceive the self-driving vehicle. (The following words are in alphabetical order.) [Indifferent]',\n",
       "       'Please choose the response that best represents how you perceive the self-driving vehicle. (The following words are in alphabetical order.) [Methodical]',\n",
       "       'Please choose the response that best represents how you perceive the self-driving vehicle. (The following words are in alphabetical order.) [Predictable]',\n",
       "       'Please choose the response that best represents how you perceive the self-driving vehicle. (The following words are in alphabetical order.) [Reliable]',\n",
       "       'Please choose the response that best represents how you perceive the self-driving vehicle. (The following words are in alphabetical order.) [Safe]',\n",
       "       'Please choose the response that best represents how you perceive the self-driving vehicle. (The following words are in alphabetical order.) [Smart]',\n",
       "       'Please choose the response that best represents how you perceive the self-driving vehicle. (The following words are in alphabetical order.) [Trustworthy]',\n",
       "       'Please choose the response that best represents how you feel as a passenger in a self-driving vehicle. (The following words are in alphabetical order.) [Bored]',\n",
       "       'Please choose the response that best represents how you feel as a passenger in a self-driving vehicle. (The following words are in alphabetical order.) [Calm]',\n",
       "       'Please choose the response that best represents how you feel as a passenger in a self-driving vehicle. (The following words are in alphabetical order.) [Defensive]',\n",
       "       'Please choose the response that best represents how you feel as a passenger in a self-driving vehicle. (The following words are in alphabetical order.) [Excited]',\n",
       "       'Please choose the response that best represents how you feel as a passenger in a self-driving vehicle. (The following words are in alphabetical order.) [Lethargic]',\n",
       "       'Please choose the response that best represents how you feel as a passenger in a self-driving vehicle. (The following words are in alphabetical order.) [Mindless]',\n",
       "       'Please choose the response that best represents how you feel as a passenger in a self-driving vehicle. (The following words are in alphabetical order.) [Nervous]',\n",
       "       'Please choose the response that best represents how you feel as a passenger in a self-driving vehicle. (The following words are in alphabetical order.) [Not in control]',\n",
       "       'Please choose the response that best represents how you feel as a passenger in a self-driving vehicle. (The following words are in alphabetical order.) [Relaxed]',\n",
       "       'Please choose the response that best represents how you feel as a passenger in a self-driving vehicle. (The following words are in alphabetical order.) [Uncertain]',\n",
       "       'Age', 'Gender', 'Occupation',\n",
       "       'Highest level of education you have completed or currently pursuing'],\n",
       "      dtype='object')"
      ]
     },
     "execution_count": 18,
     "metadata": {},
     "output_type": "execute_result"
    }
   ],
   "source": [
    "# remove timestamp\n",
    "df = df[df.columns[1:]]\n",
    "# remove names\n",
    "df = df.drop(df.columns[33],axis=1)\n",
    "df.columns"
   ]
  },
  {
   "cell_type": "code",
   "execution_count": 19,
   "metadata": {},
   "outputs": [],
   "source": [
    "group_by_system = df.groupby(['System'])"
   ]
  },
  {
   "cell_type": "code",
   "execution_count": 20,
   "metadata": {},
   "outputs": [
    {
     "data": {
      "text/plain": [
       "System\n",
       "Julie    12\n",
       "Lily     12\n",
       "dtype: int64"
      ]
     },
     "execution_count": 20,
     "metadata": {},
     "output_type": "execute_result"
    }
   ],
   "source": [
    "group_by_system.size()"
   ]
  },
  {
   "cell_type": "code",
   "execution_count": 44,
   "metadata": {},
   "outputs": [
    {
     "data": {
      "text/html": [
       "<div>\n",
       "<style scoped>\n",
       "    .dataframe tbody tr th:only-of-type {\n",
       "        vertical-align: middle;\n",
       "    }\n",
       "\n",
       "    .dataframe tbody tr th {\n",
       "        vertical-align: top;\n",
       "    }\n",
       "\n",
       "    .dataframe thead th {\n",
       "        text-align: right;\n",
       "    }\n",
       "</style>\n",
       "<table border=\"1\" class=\"dataframe\">\n",
       "  <thead>\n",
       "    <tr style=\"text-align: right;\">\n",
       "      <th></th>\n",
       "      <th>Please choose the response that best represents your view on taking a Lyft or Uber. [I am usually comfortable  being driven.]</th>\n",
       "      <th>Please choose the response that best represents your view on taking a Lyft or Uber. [I usually feel safe being driven.]</th>\n",
       "      <th>Please choose the response that best represents your view on taking a Lyft or Uber. [I usually trust the driver.]</th>\n",
       "      <th>Please choose the response that best represents your view on taking a Lyft or Uber. [I usually trust other drivers on the road.]</th>\n",
       "    </tr>\n",
       "    <tr>\n",
       "      <th>System</th>\n",
       "      <th></th>\n",
       "      <th></th>\n",
       "      <th></th>\n",
       "      <th></th>\n",
       "    </tr>\n",
       "  </thead>\n",
       "  <tbody>\n",
       "    <tr>\n",
       "      <th>Julie</th>\n",
       "      <td>4.166667</td>\n",
       "      <td>4.000000</td>\n",
       "      <td>4.00</td>\n",
       "      <td>3.250000</td>\n",
       "    </tr>\n",
       "    <tr>\n",
       "      <th>Lily</th>\n",
       "      <td>4.166667</td>\n",
       "      <td>4.083333</td>\n",
       "      <td>3.75</td>\n",
       "      <td>2.833333</td>\n",
       "    </tr>\n",
       "  </tbody>\n",
       "</table>\n",
       "</div>"
      ],
      "text/plain": [
       "        Please choose the response that best represents your view on taking a Lyft or Uber. [I am usually comfortable  being driven.]  \\\n",
       "System                                                                                                                                  \n",
       "Julie                                            4.166667                                                                               \n",
       "Lily                                             4.166667                                                                               \n",
       "\n",
       "        Please choose the response that best represents your view on taking a Lyft or Uber. [I usually feel safe being driven.]  \\\n",
       "System                                                                                                                            \n",
       "Julie                                            4.000000                                                                         \n",
       "Lily                                             4.083333                                                                         \n",
       "\n",
       "        Please choose the response that best represents your view on taking a Lyft or Uber. [I usually trust the driver.]  \\\n",
       "System                                                                                                                      \n",
       "Julie                                                4.00                                                                   \n",
       "Lily                                                 3.75                                                                   \n",
       "\n",
       "        Please choose the response that best represents your view on taking a Lyft or Uber. [I usually trust other drivers on the road.]  \n",
       "System                                                                                                                                    \n",
       "Julie                                            3.250000                                                                                 \n",
       "Lily                                             2.833333                                                                                 "
      ]
     },
     "execution_count": 44,
     "metadata": {},
     "output_type": "execute_result"
    }
   ],
   "source": [
    "lyft_uber_views = df[df.columns[:8]]\n",
    "lyft_uber_views = lyft_uber_views.drop(lyft_uber_views.columns[1:4],axis=1)\n",
    "lyft_uber_views = lyft_uber_views.replace({'Strongly disagree':1,'Disagree':2,'Neutral':3,'Agree':4,'Strongly agree':5})\n",
    "#lyft_uber_views\n",
    "lyft_uber_views_group_by_system = lyft_uber_views.groupby(['System'])\n",
    "lyft_uber_views_group_by_system.mean()"
   ]
  },
  {
   "cell_type": "code",
   "execution_count": 45,
   "metadata": {},
   "outputs": [
    {
     "data": {
      "text/html": [
       "<div>\n",
       "<style scoped>\n",
       "    .dataframe tbody tr th:only-of-type {\n",
       "        vertical-align: middle;\n",
       "    }\n",
       "\n",
       "    .dataframe tbody tr th {\n",
       "        vertical-align: top;\n",
       "    }\n",
       "\n",
       "    .dataframe thead th {\n",
       "        text-align: right;\n",
       "    }\n",
       "</style>\n",
       "<table border=\"1\" class=\"dataframe\">\n",
       "  <thead>\n",
       "    <tr style=\"text-align: right;\">\n",
       "      <th></th>\n",
       "      <th>Please choose the response that best represents your view on taking a Lyft or Uber. [I am usually comfortable  being driven.]</th>\n",
       "      <th>Please choose the response that best represents your view on taking a Lyft or Uber. [I usually feel safe being driven.]</th>\n",
       "      <th>Please choose the response that best represents your view on taking a Lyft or Uber. [I usually trust the driver.]</th>\n",
       "      <th>Please choose the response that best represents your view on taking a Lyft or Uber. [I usually trust other drivers on the road.]</th>\n",
       "    </tr>\n",
       "    <tr>\n",
       "      <th>System</th>\n",
       "      <th></th>\n",
       "      <th></th>\n",
       "      <th></th>\n",
       "      <th></th>\n",
       "    </tr>\n",
       "  </thead>\n",
       "  <tbody>\n",
       "    <tr>\n",
       "      <th>Julie</th>\n",
       "      <td>3</td>\n",
       "      <td>3</td>\n",
       "      <td>3</td>\n",
       "      <td>2</td>\n",
       "    </tr>\n",
       "    <tr>\n",
       "      <th>Lily</th>\n",
       "      <td>3</td>\n",
       "      <td>3</td>\n",
       "      <td>3</td>\n",
       "      <td>2</td>\n",
       "    </tr>\n",
       "  </tbody>\n",
       "</table>\n",
       "</div>"
      ],
      "text/plain": [
       "        Please choose the response that best represents your view on taking a Lyft or Uber. [I am usually comfortable  being driven.]  \\\n",
       "System                                                                                                                                  \n",
       "Julie                                                   3                                                                               \n",
       "Lily                                                    3                                                                               \n",
       "\n",
       "        Please choose the response that best represents your view on taking a Lyft or Uber. [I usually feel safe being driven.]  \\\n",
       "System                                                                                                                            \n",
       "Julie                                                   3                                                                         \n",
       "Lily                                                    3                                                                         \n",
       "\n",
       "        Please choose the response that best represents your view on taking a Lyft or Uber. [I usually trust the driver.]  \\\n",
       "System                                                                                                                      \n",
       "Julie                                                   3                                                                   \n",
       "Lily                                                    3                                                                   \n",
       "\n",
       "        Please choose the response that best represents your view on taking a Lyft or Uber. [I usually trust other drivers on the road.]  \n",
       "System                                                                                                                                    \n",
       "Julie                                                   2                                                                                 \n",
       "Lily                                                    2                                                                                 "
      ]
     },
     "execution_count": 45,
     "metadata": {},
     "output_type": "execute_result"
    }
   ],
   "source": [
    "lyft_uber_views_group_by_system.min()"
   ]
  },
  {
   "cell_type": "code",
   "execution_count": 46,
   "metadata": {},
   "outputs": [
    {
     "data": {
      "text/html": [
       "<div>\n",
       "<style scoped>\n",
       "    .dataframe tbody tr th:only-of-type {\n",
       "        vertical-align: middle;\n",
       "    }\n",
       "\n",
       "    .dataframe tbody tr th {\n",
       "        vertical-align: top;\n",
       "    }\n",
       "\n",
       "    .dataframe thead th {\n",
       "        text-align: right;\n",
       "    }\n",
       "</style>\n",
       "<table border=\"1\" class=\"dataframe\">\n",
       "  <thead>\n",
       "    <tr style=\"text-align: right;\">\n",
       "      <th></th>\n",
       "      <th>Please choose the response that best represents your view on taking a Lyft or Uber. [I am usually comfortable  being driven.]</th>\n",
       "      <th>Please choose the response that best represents your view on taking a Lyft or Uber. [I usually feel safe being driven.]</th>\n",
       "      <th>Please choose the response that best represents your view on taking a Lyft or Uber. [I usually trust the driver.]</th>\n",
       "      <th>Please choose the response that best represents your view on taking a Lyft or Uber. [I usually trust other drivers on the road.]</th>\n",
       "    </tr>\n",
       "    <tr>\n",
       "      <th>System</th>\n",
       "      <th></th>\n",
       "      <th></th>\n",
       "      <th></th>\n",
       "      <th></th>\n",
       "    </tr>\n",
       "  </thead>\n",
       "  <tbody>\n",
       "    <tr>\n",
       "      <th>Julie</th>\n",
       "      <td>5</td>\n",
       "      <td>5</td>\n",
       "      <td>5</td>\n",
       "      <td>4</td>\n",
       "    </tr>\n",
       "    <tr>\n",
       "      <th>Lily</th>\n",
       "      <td>5</td>\n",
       "      <td>5</td>\n",
       "      <td>5</td>\n",
       "      <td>4</td>\n",
       "    </tr>\n",
       "  </tbody>\n",
       "</table>\n",
       "</div>"
      ],
      "text/plain": [
       "        Please choose the response that best represents your view on taking a Lyft or Uber. [I am usually comfortable  being driven.]  \\\n",
       "System                                                                                                                                  \n",
       "Julie                                                   5                                                                               \n",
       "Lily                                                    5                                                                               \n",
       "\n",
       "        Please choose the response that best represents your view on taking a Lyft or Uber. [I usually feel safe being driven.]  \\\n",
       "System                                                                                                                            \n",
       "Julie                                                   5                                                                         \n",
       "Lily                                                    5                                                                         \n",
       "\n",
       "        Please choose the response that best represents your view on taking a Lyft or Uber. [I usually trust the driver.]  \\\n",
       "System                                                                                                                      \n",
       "Julie                                                   5                                                                   \n",
       "Lily                                                    5                                                                   \n",
       "\n",
       "        Please choose the response that best represents your view on taking a Lyft or Uber. [I usually trust other drivers on the road.]  \n",
       "System                                                                                                                                    \n",
       "Julie                                                   4                                                                                 \n",
       "Lily                                                    4                                                                                 "
      ]
     },
     "execution_count": 46,
     "metadata": {},
     "output_type": "execute_result"
    }
   ],
   "source": [
    "lyft_uber_views_group_by_system.max()"
   ]
  },
  {
   "cell_type": "code",
   "execution_count": null,
   "metadata": {},
   "outputs": [],
   "source": []
  }
 ],
 "metadata": {
  "kernelspec": {
   "display_name": "Python 3",
   "language": "python",
   "name": "python3"
  },
  "language_info": {
   "codemirror_mode": {
    "name": "ipython",
    "version": 3
   },
   "file_extension": ".py",
   "mimetype": "text/x-python",
   "name": "python",
   "nbconvert_exporter": "python",
   "pygments_lexer": "ipython3",
   "version": "3.6.4"
  }
 },
 "nbformat": 4,
 "nbformat_minor": 2
}
